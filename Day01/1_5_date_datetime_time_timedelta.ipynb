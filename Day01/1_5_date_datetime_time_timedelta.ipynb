{
 "cells": [
  {
   "cell_type": "markdown",
   "id": "c1bd2275-fdb3-439d-8698-23e297f82ce4",
   "metadata": {},
   "source": [
    "# Zamansal Veri Tipleri\n",
    "\n",
    "- **date** sadece tarih\n",
    "- **datetime** tarih ve zaman\n",
    "- **time** zaman\n",
    "- **timedelta** iki tarih arasındaki farkı temsil eder.\n",
    "- [Python DateTime](https://docs.python.org/3/library/datetime.html)"
   ]
  },
  {
   "cell_type": "code",
   "execution_count": 1,
   "id": "1aa80aa2-83aa-45c8-ae40-038dd483f3a1",
   "metadata": {},
   "outputs": [],
   "source": [
    "from datetime import date, datetime, time, timedelta"
   ]
  },
  {
   "cell_type": "code",
   "execution_count": 2,
   "id": "dec339fe-f171-49af-b756-f1f14cd204f4",
   "metadata": {},
   "outputs": [
    {
     "data": {
      "text/plain": [
       "['__add__',\n",
       " '__class__',\n",
       " '__delattr__',\n",
       " '__dir__',\n",
       " '__doc__',\n",
       " '__eq__',\n",
       " '__format__',\n",
       " '__ge__',\n",
       " '__getattribute__',\n",
       " '__gt__',\n",
       " '__hash__',\n",
       " '__init__',\n",
       " '__init_subclass__',\n",
       " '__le__',\n",
       " '__lt__',\n",
       " '__ne__',\n",
       " '__new__',\n",
       " '__radd__',\n",
       " '__reduce__',\n",
       " '__reduce_ex__',\n",
       " '__repr__',\n",
       " '__rsub__',\n",
       " '__setattr__',\n",
       " '__sizeof__',\n",
       " '__str__',\n",
       " '__sub__',\n",
       " '__subclasshook__',\n",
       " 'ctime',\n",
       " 'day',\n",
       " 'fromisocalendar',\n",
       " 'fromisoformat',\n",
       " 'fromordinal',\n",
       " 'fromtimestamp',\n",
       " 'isocalendar',\n",
       " 'isoformat',\n",
       " 'isoweekday',\n",
       " 'max',\n",
       " 'min',\n",
       " 'month',\n",
       " 'replace',\n",
       " 'resolution',\n",
       " 'strftime',\n",
       " 'timetuple',\n",
       " 'today',\n",
       " 'toordinal',\n",
       " 'weekday',\n",
       " 'year']"
      ]
     },
     "execution_count": 2,
     "metadata": {},
     "output_type": "execute_result"
    }
   ],
   "source": [
    "dir(date)"
   ]
  },
  {
   "cell_type": "markdown",
   "id": "7e0508f7-0842-4263-b110-2aa0a8b95801",
   "metadata": {},
   "source": [
    "## date"
   ]
  },
  {
   "cell_type": "code",
   "execution_count": 7,
   "id": "392fe3a3-7bbd-4d7f-ab1f-5c2ae244310a",
   "metadata": {},
   "outputs": [
    {
     "data": {
      "text/plain": [
       "datetime.date(2022, 10, 12)"
      ]
     },
     "execution_count": 7,
     "metadata": {},
     "output_type": "execute_result"
    }
   ],
   "source": [
    "date.today()"
   ]
  },
  {
   "cell_type": "code",
   "execution_count": 8,
   "id": "41dc8b5b-4866-4e65-a3ee-6974e8e1c16b",
   "metadata": {},
   "outputs": [
    {
     "data": {
      "text/plain": [
       "12"
      ]
     },
     "execution_count": 8,
     "metadata": {},
     "output_type": "execute_result"
    }
   ],
   "source": [
    "date.today().day"
   ]
  },
  {
   "cell_type": "code",
   "execution_count": 9,
   "id": "35a97726-5989-409a-b052-fdebd8d0cc87",
   "metadata": {},
   "outputs": [
    {
     "data": {
      "text/plain": [
       "10"
      ]
     },
     "execution_count": 9,
     "metadata": {},
     "output_type": "execute_result"
    }
   ],
   "source": [
    "date.today().month"
   ]
  },
  {
   "cell_type": "code",
   "execution_count": 10,
   "id": "daf3ba2a-0654-415f-9932-ddd0b1783b38",
   "metadata": {},
   "outputs": [
    {
     "data": {
      "text/plain": [
       "2022"
      ]
     },
     "execution_count": 10,
     "metadata": {},
     "output_type": "execute_result"
    }
   ],
   "source": [
    "date.today().year"
   ]
  },
  {
   "cell_type": "markdown",
   "id": "c5dd0ab5-95cb-4835-a422-bf2948fe33e1",
   "metadata": {},
   "source": [
    "## datetime"
   ]
  },
  {
   "cell_type": "code",
   "execution_count": 11,
   "id": "449d8a81-4fe7-4b1f-89e1-ba4989344094",
   "metadata": {},
   "outputs": [
    {
     "data": {
      "text/plain": [
       "['__add__',\n",
       " '__class__',\n",
       " '__delattr__',\n",
       " '__dir__',\n",
       " '__doc__',\n",
       " '__eq__',\n",
       " '__format__',\n",
       " '__ge__',\n",
       " '__getattribute__',\n",
       " '__gt__',\n",
       " '__hash__',\n",
       " '__init__',\n",
       " '__init_subclass__',\n",
       " '__le__',\n",
       " '__lt__',\n",
       " '__ne__',\n",
       " '__new__',\n",
       " '__radd__',\n",
       " '__reduce__',\n",
       " '__reduce_ex__',\n",
       " '__repr__',\n",
       " '__rsub__',\n",
       " '__setattr__',\n",
       " '__sizeof__',\n",
       " '__str__',\n",
       " '__sub__',\n",
       " '__subclasshook__',\n",
       " 'astimezone',\n",
       " 'combine',\n",
       " 'ctime',\n",
       " 'date',\n",
       " 'day',\n",
       " 'dst',\n",
       " 'fold',\n",
       " 'fromisocalendar',\n",
       " 'fromisoformat',\n",
       " 'fromordinal',\n",
       " 'fromtimestamp',\n",
       " 'hour',\n",
       " 'isocalendar',\n",
       " 'isoformat',\n",
       " 'isoweekday',\n",
       " 'max',\n",
       " 'microsecond',\n",
       " 'min',\n",
       " 'minute',\n",
       " 'month',\n",
       " 'now',\n",
       " 'replace',\n",
       " 'resolution',\n",
       " 'second',\n",
       " 'strftime',\n",
       " 'strptime',\n",
       " 'time',\n",
       " 'timestamp',\n",
       " 'timetuple',\n",
       " 'timetz',\n",
       " 'today',\n",
       " 'toordinal',\n",
       " 'tzinfo',\n",
       " 'tzname',\n",
       " 'utcfromtimestamp',\n",
       " 'utcnow',\n",
       " 'utcoffset',\n",
       " 'utctimetuple',\n",
       " 'weekday',\n",
       " 'year']"
      ]
     },
     "execution_count": 11,
     "metadata": {},
     "output_type": "execute_result"
    }
   ],
   "source": [
    "dir(datetime)"
   ]
  },
  {
   "cell_type": "code",
   "execution_count": 12,
   "id": "4b47cab4-7499-4215-9ee9-25f55848cc3f",
   "metadata": {},
   "outputs": [
    {
     "data": {
      "text/plain": [
       "datetime.datetime(2022, 10, 12, 16, 40, 11, 625876)"
      ]
     },
     "execution_count": 12,
     "metadata": {},
     "output_type": "execute_result"
    }
   ],
   "source": [
    "datetime.today()"
   ]
  },
  {
   "cell_type": "code",
   "execution_count": 13,
   "id": "2f64496b-89d3-459d-930d-72b9e59e3b5b",
   "metadata": {},
   "outputs": [
    {
     "data": {
      "text/plain": [
       "datetime.datetime(2022, 10, 12, 16, 40, 18, 294908)"
      ]
     },
     "execution_count": 13,
     "metadata": {},
     "output_type": "execute_result"
    }
   ],
   "source": [
    "datetime.now()"
   ]
  },
  {
   "cell_type": "code",
   "execution_count": 15,
   "id": "3411e740-2ffe-40d6-8df9-9fa9688def7e",
   "metadata": {},
   "outputs": [
    {
     "data": {
      "text/plain": [
       "datetime.datetime(2022, 10, 12, 13, 41, 0, 192466)"
      ]
     },
     "execution_count": 15,
     "metadata": {},
     "output_type": "execute_result"
    }
   ],
   "source": [
    "datetime.utcnow()"
   ]
  },
  {
   "cell_type": "code",
   "execution_count": 16,
   "id": "29af1753-4f0f-432f-88ca-41836e474a71",
   "metadata": {},
   "outputs": [
    {
     "data": {
      "text/plain": [
       "2022"
      ]
     },
     "execution_count": 16,
     "metadata": {},
     "output_type": "execute_result"
    }
   ],
   "source": [
    "datetime.now().year"
   ]
  },
  {
   "cell_type": "code",
   "execution_count": 17,
   "id": "738d965e-6edd-4b70-9509-53115a7d7fca",
   "metadata": {},
   "outputs": [
    {
     "data": {
      "text/plain": [
       "datetime.time(16, 42, 12, 196457)"
      ]
     },
     "execution_count": 17,
     "metadata": {},
     "output_type": "execute_result"
    }
   ],
   "source": [
    "datetime.now().time()"
   ]
  },
  {
   "cell_type": "code",
   "execution_count": 18,
   "id": "6f7ad6d5-1ff8-40a1-a21c-d16ed77f3f85",
   "metadata": {},
   "outputs": [
    {
     "data": {
      "text/plain": [
       "16"
      ]
     },
     "execution_count": 18,
     "metadata": {},
     "output_type": "execute_result"
    }
   ],
   "source": [
    "datetime.now().time().hour"
   ]
  },
  {
   "cell_type": "code",
   "execution_count": 19,
   "id": "5a564ca6-22d3-45ef-ace1-f7796e23e67f",
   "metadata": {},
   "outputs": [
    {
     "data": {
      "text/plain": [
       "42"
      ]
     },
     "execution_count": 19,
     "metadata": {},
     "output_type": "execute_result"
    }
   ],
   "source": [
    "datetime.now().time().minute"
   ]
  },
  {
   "cell_type": "code",
   "execution_count": 20,
   "id": "a967520f-9957-4353-ac90-240f47ab9f77",
   "metadata": {},
   "outputs": [
    {
     "data": {
      "text/plain": [
       "37"
      ]
     },
     "execution_count": 20,
     "metadata": {},
     "output_type": "execute_result"
    }
   ],
   "source": [
    "datetime.now().time().second"
   ]
  },
  {
   "cell_type": "code",
   "execution_count": 21,
   "id": "ad5b6be2-2597-4345-a656-259fb8d07fb0",
   "metadata": {},
   "outputs": [
    {
     "data": {
      "text/plain": [
       "113723"
      ]
     },
     "execution_count": 21,
     "metadata": {},
     "output_type": "execute_result"
    }
   ],
   "source": [
    "datetime.now().time().microsecond"
   ]
  },
  {
   "cell_type": "markdown",
   "id": "25f6db2e-1d05-4f1f-bb0a-0de96912dca5",
   "metadata": {},
   "source": [
    "## Tarih Oluşturma"
   ]
  },
  {
   "cell_type": "code",
   "execution_count": 24,
   "id": "3bd3786a-f274-47e0-a842-90c2dc2d6733",
   "metadata": {},
   "outputs": [],
   "source": [
    "# 1. yöntem\n",
    "tarih = date(year=2022, month=2, day=28)"
   ]
  },
  {
   "cell_type": "code",
   "execution_count": 25,
   "id": "d0b57097-01e7-4f63-bc46-1d3e889c8181",
   "metadata": {},
   "outputs": [],
   "source": [
    "# 2. yöntem\n",
    "tarih = date.fromisoformat(\"2022-08-24\")"
   ]
  },
  {
   "cell_type": "markdown",
   "id": "66eca753-a79f-4167-8789-a39e5b69764a",
   "metadata": {},
   "source": [
    "tarih = tarih.replace(day=25)"
   ]
  },
  {
   "cell_type": "code",
   "execution_count": 27,
   "id": "0d07469f-d92a-4487-88cc-056edd6c0d38",
   "metadata": {},
   "outputs": [
    {
     "name": "stdout",
     "output_type": "stream",
     "text": [
      "<class 'datetime.date'>\n"
     ]
    }
   ],
   "source": [
    "print(type(tarih))"
   ]
  },
  {
   "cell_type": "code",
   "execution_count": 28,
   "id": "97bdc839-f955-4b74-94d3-707d90e4c0f7",
   "metadata": {},
   "outputs": [
    {
     "name": "stdout",
     "output_type": "stream",
     "text": [
      "2022-08-25\n"
     ]
    }
   ],
   "source": [
    "print(tarih)"
   ]
  },
  {
   "cell_type": "markdown",
   "id": "18942e92-20c3-4160-9a4d-89746ee3e3a4",
   "metadata": {},
   "source": [
    "### strptime ile giriş formatını belirliyoruz"
   ]
  },
  {
   "cell_type": "code",
   "execution_count": 30,
   "id": "32af0021-cda1-48c0-b2f7-3694f8428018",
   "metadata": {},
   "outputs": [
    {
     "name": "stdout",
     "output_type": "stream",
     "text": [
      "<class 'datetime.datetime'>\n",
      "2022-08-24 00:00:00\n"
     ]
    }
   ],
   "source": [
    "# 3. yöntem\n",
    "str_tarih = \"24/08/2022\"\n",
    "tarih = datetime.strptime(str_tarih, \"%d/%m/%Y\")\n",
    "print(type(tarih))\n",
    "print(tarih)"
   ]
  },
  {
   "cell_type": "code",
   "execution_count": 31,
   "id": "89a83c58-f915-42bf-bd08-45df1332fb3b",
   "metadata": {},
   "outputs": [
    {
     "name": "stdout",
     "output_type": "stream",
     "text": [
      "2022-08-24 00:00:00\n",
      "Wednesday 24. August 2022\n",
      "24/08/2022\n"
     ]
    }
   ],
   "source": [
    "## strftime ile çıktı formatını belirleyelim\n",
    "print(tarih)\n",
    "\n",
    "print(tarih.strftime(\"%A %d. %B %Y\"))\n",
    "print(tarih.strftime(\"%d/%m/%Y\"))"
   ]
  },
  {
   "cell_type": "markdown",
   "id": "50e0e36f-2e62-406c-aa55-ccc3adecf978",
   "metadata": {},
   "source": [
    "## Timedelta"
   ]
  },
  {
   "cell_type": "code",
   "execution_count": 32,
   "id": "42cc7a72-f119-481a-ab83-af2eb3a9a343",
   "metadata": {},
   "outputs": [
    {
     "data": {
      "text/plain": [
       "['__abs__',\n",
       " '__add__',\n",
       " '__bool__',\n",
       " '__class__',\n",
       " '__delattr__',\n",
       " '__dir__',\n",
       " '__divmod__',\n",
       " '__doc__',\n",
       " '__eq__',\n",
       " '__floordiv__',\n",
       " '__format__',\n",
       " '__ge__',\n",
       " '__getattribute__',\n",
       " '__gt__',\n",
       " '__hash__',\n",
       " '__init__',\n",
       " '__init_subclass__',\n",
       " '__le__',\n",
       " '__lt__',\n",
       " '__mod__',\n",
       " '__mul__',\n",
       " '__ne__',\n",
       " '__neg__',\n",
       " '__new__',\n",
       " '__pos__',\n",
       " '__radd__',\n",
       " '__rdivmod__',\n",
       " '__reduce__',\n",
       " '__reduce_ex__',\n",
       " '__repr__',\n",
       " '__rfloordiv__',\n",
       " '__rmod__',\n",
       " '__rmul__',\n",
       " '__rsub__',\n",
       " '__rtruediv__',\n",
       " '__setattr__',\n",
       " '__sizeof__',\n",
       " '__str__',\n",
       " '__sub__',\n",
       " '__subclasshook__',\n",
       " '__truediv__',\n",
       " 'days',\n",
       " 'max',\n",
       " 'microseconds',\n",
       " 'min',\n",
       " 'resolution',\n",
       " 'seconds',\n",
       " 'total_seconds']"
      ]
     },
     "execution_count": 32,
     "metadata": {},
     "output_type": "execute_result"
    }
   ],
   "source": [
    "dir(timedelta)"
   ]
  },
  {
   "cell_type": "code",
   "execution_count": 33,
   "id": "3fba60b2-3541-4601-8d2a-88437468fdae",
   "metadata": {},
   "outputs": [
    {
     "name": "stdout",
     "output_type": "stream",
     "text": [
      "237 days, 0:00:00\n",
      "237\n",
      "20476800.0\n"
     ]
    }
   ],
   "source": [
    "tarih_farki = date(2022,8,26) - date(2022,1,1)\n",
    "print(tarih_farki)\n",
    "print(tarih_farki.days)\n",
    "print(tarih_farki.total_seconds())"
   ]
  },
  {
   "cell_type": "code",
   "execution_count": 34,
   "id": "9e76cc8d-cd6f-4a52-a6fd-6300a237b918",
   "metadata": {},
   "outputs": [
    {
     "data": {
      "text/plain": [
       "datetime.date(2022, 10, 19)"
      ]
     },
     "execution_count": 34,
     "metadata": {},
     "output_type": "execute_result"
    }
   ],
   "source": [
    "# tarihte hareket etmek için\n",
    "yedi_gun = timedelta(days=7) # 7 günlük bir fark tanımladık\n",
    "\n",
    "date.today() + yedi_gun\n"
   ]
  },
  {
   "cell_type": "code",
   "execution_count": 35,
   "id": "db9a291f-ad53-4783-9c87-b13475700814",
   "metadata": {},
   "outputs": [
    {
     "name": "stdout",
     "output_type": "stream",
     "text": [
      "Thursday\n"
     ]
    }
   ],
   "source": [
    "# soru\n",
    "# doğduğunuz günün haftanın hangi günü olduğunu yazdırın.\n",
    "\n",
    "str_tarih = \"05/03/1987\"\n",
    "\n",
    "dogum = datetime.strptime(str_tarih, \"%d/%m/%Y\") # giriş formatım\n",
    "print(dogum.strftime(\"%A\")) # çıktı formatı"
   ]
  },
  {
   "cell_type": "code",
   "execution_count": 36,
   "id": "9d0d26a5-fc09-4c7b-8ea4-f8991054d440",
   "metadata": {},
   "outputs": [
    {
     "name": "stdout",
     "output_type": "stream",
     "text": [
      "Siz doğalı 13,005 gün, 61256 saniye oldu.\n",
      "siz doğalı toplam 1,123,693,256.08 saniye oldu.\n"
     ]
    }
   ],
   "source": [
    "# Doğalı Kaç Gün Kaç Saniye Oldu\n",
    "gecen_sure = datetime.now() - dogum\n",
    "print(f\"Siz doğalı {gecen_sure.days:,} gün, {gecen_sure.seconds} saniye oldu.\")\n",
    "print(f\"siz doğalı toplam {gecen_sure.total_seconds():,.2f} saniye oldu.\")"
   ]
  },
  {
   "cell_type": "code",
   "execution_count": null,
   "id": "f7548dd6-5f52-4503-91dd-8a9e750ec61d",
   "metadata": {},
   "outputs": [],
   "source": []
  }
 ],
 "metadata": {
  "kernelspec": {
   "display_name": "Python 3 (ipykernel)",
   "language": "python",
   "name": "python3"
  },
  "language_info": {
   "codemirror_mode": {
    "name": "ipython",
    "version": 3
   },
   "file_extension": ".py",
   "mimetype": "text/x-python",
   "name": "python",
   "nbconvert_exporter": "python",
   "pygments_lexer": "ipython3",
   "version": "3.10.7"
  }
 },
 "nbformat": 4,
 "nbformat_minor": 5
}
