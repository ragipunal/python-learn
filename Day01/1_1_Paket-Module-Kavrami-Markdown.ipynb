{
 "cells": [
  {
   "cell_type": "markdown",
   "id": "83a3c5b6-0b6a-463e-9eb6-3f75fc3c7202",
   "metadata": {},
   "source": [
    "# Python ile Veri Analizi"
   ]
  },
  {
   "cell_type": "code",
   "execution_count": 1,
   "id": "26546816-8030-4e73-8191-ee3f4e3eee39",
   "metadata": {},
   "outputs": [
    {
     "data": {
      "text/plain": [
       "['ArithmeticError',\n",
       " 'AssertionError',\n",
       " 'AttributeError',\n",
       " 'BaseException',\n",
       " 'BlockingIOError',\n",
       " 'BrokenPipeError',\n",
       " 'BufferError',\n",
       " 'BytesWarning',\n",
       " 'ChildProcessError',\n",
       " 'ConnectionAbortedError',\n",
       " 'ConnectionError',\n",
       " 'ConnectionRefusedError',\n",
       " 'ConnectionResetError',\n",
       " 'DeprecationWarning',\n",
       " 'EOFError',\n",
       " 'Ellipsis',\n",
       " 'EncodingWarning',\n",
       " 'EnvironmentError',\n",
       " 'Exception',\n",
       " 'False',\n",
       " 'FileExistsError',\n",
       " 'FileNotFoundError',\n",
       " 'FloatingPointError',\n",
       " 'FutureWarning',\n",
       " 'GeneratorExit',\n",
       " 'IOError',\n",
       " 'ImportError',\n",
       " 'ImportWarning',\n",
       " 'IndentationError',\n",
       " 'IndexError',\n",
       " 'InterruptedError',\n",
       " 'IsADirectoryError',\n",
       " 'KeyError',\n",
       " 'KeyboardInterrupt',\n",
       " 'LookupError',\n",
       " 'MemoryError',\n",
       " 'ModuleNotFoundError',\n",
       " 'NameError',\n",
       " 'None',\n",
       " 'NotADirectoryError',\n",
       " 'NotImplemented',\n",
       " 'NotImplementedError',\n",
       " 'OSError',\n",
       " 'OverflowError',\n",
       " 'PendingDeprecationWarning',\n",
       " 'PermissionError',\n",
       " 'ProcessLookupError',\n",
       " 'RecursionError',\n",
       " 'ReferenceError',\n",
       " 'ResourceWarning',\n",
       " 'RuntimeError',\n",
       " 'RuntimeWarning',\n",
       " 'StopAsyncIteration',\n",
       " 'StopIteration',\n",
       " 'SyntaxError',\n",
       " 'SyntaxWarning',\n",
       " 'SystemError',\n",
       " 'SystemExit',\n",
       " 'TabError',\n",
       " 'TimeoutError',\n",
       " 'True',\n",
       " 'TypeError',\n",
       " 'UnboundLocalError',\n",
       " 'UnicodeDecodeError',\n",
       " 'UnicodeEncodeError',\n",
       " 'UnicodeError',\n",
       " 'UnicodeTranslateError',\n",
       " 'UnicodeWarning',\n",
       " 'UserWarning',\n",
       " 'ValueError',\n",
       " 'Warning',\n",
       " 'ZeroDivisionError',\n",
       " '__IPYTHON__',\n",
       " '__build_class__',\n",
       " '__debug__',\n",
       " '__doc__',\n",
       " '__import__',\n",
       " '__loader__',\n",
       " '__name__',\n",
       " '__package__',\n",
       " '__spec__',\n",
       " 'abs',\n",
       " 'aiter',\n",
       " 'all',\n",
       " 'anext',\n",
       " 'any',\n",
       " 'ascii',\n",
       " 'bin',\n",
       " 'bool',\n",
       " 'breakpoint',\n",
       " 'bytearray',\n",
       " 'bytes',\n",
       " 'callable',\n",
       " 'chr',\n",
       " 'classmethod',\n",
       " 'compile',\n",
       " 'complex',\n",
       " 'copyright',\n",
       " 'credits',\n",
       " 'delattr',\n",
       " 'dict',\n",
       " 'dir',\n",
       " 'display',\n",
       " 'divmod',\n",
       " 'enumerate',\n",
       " 'eval',\n",
       " 'exec',\n",
       " 'execfile',\n",
       " 'filter',\n",
       " 'float',\n",
       " 'format',\n",
       " 'frozenset',\n",
       " 'get_ipython',\n",
       " 'getattr',\n",
       " 'globals',\n",
       " 'hasattr',\n",
       " 'hash',\n",
       " 'help',\n",
       " 'hex',\n",
       " 'id',\n",
       " 'input',\n",
       " 'int',\n",
       " 'isinstance',\n",
       " 'issubclass',\n",
       " 'iter',\n",
       " 'len',\n",
       " 'license',\n",
       " 'list',\n",
       " 'locals',\n",
       " 'map',\n",
       " 'max',\n",
       " 'memoryview',\n",
       " 'min',\n",
       " 'next',\n",
       " 'object',\n",
       " 'oct',\n",
       " 'open',\n",
       " 'ord',\n",
       " 'pow',\n",
       " 'print',\n",
       " 'property',\n",
       " 'range',\n",
       " 'repr',\n",
       " 'reversed',\n",
       " 'round',\n",
       " 'runfile',\n",
       " 'set',\n",
       " 'setattr',\n",
       " 'slice',\n",
       " 'sorted',\n",
       " 'staticmethod',\n",
       " 'str',\n",
       " 'sum',\n",
       " 'super',\n",
       " 'tuple',\n",
       " 'type',\n",
       " 'vars',\n",
       " 'zip']"
      ]
     },
     "execution_count": 1,
     "metadata": {},
     "output_type": "execute_result"
    }
   ],
   "source": [
    "# hiç bir şey yüklemeden kullanılabilecek nesneler\n",
    "# gömülü nesneler. __builtins__\n",
    "\n",
    "dir(__builtins__) #iki alt çizgi olacak. underscores\n",
    "#print, dir exit, help, pow, int, bool vs paket kullanılabilecek nesneler"
   ]
  },
  {
   "cell_type": "code",
   "execution_count": 2,
   "id": "f39078b3-3e56-4ad9-b80c-36e745ea577b",
   "metadata": {},
   "outputs": [
    {
     "data": {
      "text/plain": [
       "9"
      ]
     },
     "execution_count": 2,
     "metadata": {},
     "output_type": "execute_result"
    }
   ],
   "source": [
    "# 3 ün karesini alalım\n",
    "pow(3,2)"
   ]
  },
  {
   "cell_type": "markdown",
   "id": "4a2d9423-756b-44f2-9b96-9c1b57469c3c",
   "metadata": {},
   "source": [
    "# Bilgisayarda yüklü olan paketi ortama almak"
   ]
  },
  {
   "cell_type": "code",
   "execution_count": 3,
   "id": "6c8e568d-13d6-4ffe-bc2e-53b86f4044a5",
   "metadata": {},
   "outputs": [
    {
     "data": {
      "text/plain": [
       "3.141592653589793"
      ]
     },
     "execution_count": 3,
     "metadata": {},
     "output_type": "execute_result"
    }
   ],
   "source": [
    "import math # çalışma ortamına ekle\n",
    "\n",
    "#nesneleri hakkında bilgi alalım\n",
    "dir(math)\n",
    "\n",
    "#pi nesnesini çağıralım\n",
    "math.pi"
   ]
  },
  {
   "cell_type": "code",
   "execution_count": 4,
   "id": "73a4ae5a-106f-4a83-a3f6-e9c8b416f4cf",
   "metadata": {},
   "outputs": [],
   "source": [
    "#işletim sistemiyle ilişkili nelerneler bulalım\n",
    "import os\n",
    "\n",
    "os.mkdir(\"GordugundeSil\")"
   ]
  },
  {
   "cell_type": "code",
   "execution_count": 5,
   "id": "fdd8f082-783e-47b5-bdd2-8b914f1b7c03",
   "metadata": {},
   "outputs": [
    {
     "data": {
      "text/plain": [
       "'/Users/ragipunal/workdata/gitrepos/python/python-learn/Day01'"
      ]
     },
     "execution_count": 5,
     "metadata": {},
     "output_type": "execute_result"
    }
   ],
   "source": [
    "# çalışılan aktif yolu göster\n",
    "os.getcwd()"
   ]
  },
  {
   "cell_type": "code",
   "execution_count": 6,
   "id": "f9173262-2abe-4de4-9f24-e657e6a97aeb",
   "metadata": {},
   "outputs": [],
   "source": [
    "# windows olsaydı\n",
    "# c:\\\\Users\\\\ragipunal\\\\Documents\\\\GitRepos\\\\python\\\\python-learn\\\\Day01"
   ]
  },
  {
   "cell_type": "markdown",
   "id": "eba3c99b-b0e0-4a65-87e2-02c79370118b",
   "metadata": {},
   "source": [
    "# Shell komutlarını ! ile çalıştırabiliriz"
   ]
  },
  {
   "cell_type": "code",
   "execution_count": 7,
   "id": "93f74d27-f752-4d97-88b4-15e7c096b8b6",
   "metadata": {},
   "outputs": [
    {
     "name": "stdout",
     "output_type": "stream",
     "text": [
      "\u001b[34mGordugundeSil\u001b[m\u001b[m  Untitled.ipynb\n"
     ]
    }
   ],
   "source": [
    "!ls"
   ]
  },
  {
   "cell_type": "code",
   "execution_count": 8,
   "id": "ba6ea674-d18a-426c-bd9e-053e27eea70f",
   "metadata": {},
   "outputs": [],
   "source": [
    "!mkdir gordugundesil2"
   ]
  },
  {
   "cell_type": "markdown",
   "id": "1f2222bd-1451-454b-96a6-99e83e66c4d0",
   "metadata": {},
   "source": [
    "# Paket indirme ve ortama alma\n",
    "- paket yüklemeyi komut satırında yapalım\n",
    "- jupyter üzerinde çok fazla log ortaya çıkar ve karmaşıklık oluşturabilir"
   ]
  },
  {
   "cell_type": "code",
   "execution_count": 9,
   "id": "28bc6545-1fa1-4eaa-a276-988d8ef35377",
   "metadata": {},
   "outputs": [
    {
     "name": "stdout",
     "output_type": "stream",
     "text": [
      "Collecting emoji\n",
      "  Downloading emoji-2.1.0.tar.gz (216 kB)\n",
      "\u001b[2K     \u001b[90m━━━━━━━━━━━━━━━━━━━━━━━━━━━━━━━━━━━━━━━\u001b[0m \u001b[32m216.6/216.6 kB\u001b[0m \u001b[31m1.0 MB/s\u001b[0m eta \u001b[36m0:00:00\u001b[0ma \u001b[36m0:00:01\u001b[0m\n",
      "\u001b[?25h  Preparing metadata (setup.py) ... \u001b[?25ldone\n",
      "\u001b[?25hUsing legacy 'setup.py install' for emoji, since package 'wheel' is not installed.\n",
      "Installing collected packages: emoji\n",
      "  Running setup.py install for emoji ... \u001b[?25ldone\n",
      "\u001b[?25hSuccessfully installed emoji-2.1.0\n"
     ]
    }
   ],
   "source": [
    "!pip install emoji"
   ]
  },
  {
   "cell_type": "code",
   "execution_count": 10,
   "id": "5b57a2bd-bc81-40b6-9e72-0602e8eceaed",
   "metadata": {},
   "outputs": [
    {
     "name": "stdout",
     "output_type": "stream",
     "text": [
      "Help on function emojize in module emoji.core:\n",
      "\n",
      "emojize(string, delimiters=(':', ':'), variant=None, language='en', version=None, handle_version=None)\n",
      "    Replace emoji names in a string with Unicode codes.\n",
      "        >>> import emoji\n",
      "        >>> print(emoji.emojize(\"Python is fun :thumbsup:\", language='alias'))\n",
      "        Python is fun 👍\n",
      "        >>> print(emoji.emojize(\"Python is fun :thumbs_up:\"))\n",
      "        Python is fun 👍\n",
      "        >>> print(emoji.emojize(\"Python is fun {thumbs_up}\", delimiters = (\"{\", \"}\")))\n",
      "        Python is fun 👍\n",
      "        >>> print(emoji.emojize(\"Python is fun :red_heart:\", variant=\"text_type\"))\n",
      "        Python is fun ❤\n",
      "        >>> print(emoji.emojize(\"Python is fun :red_heart:\", variant=\"emoji_type\"))\n",
      "        Python is fun ❤️ # red heart, not black heart\n",
      "    \n",
      "    :param string: String contains emoji names.\n",
      "    :param delimiters: (optional) Use delimiters other than _DEFAULT_DELIMITER. Each delimiter\n",
      "        should contain at least one character that is not part of a-zA-Z0-9 and ``_-–&.’”“()!?#*+,/\\``\n",
      "    :param variant: (optional) Choose variation selector between \"base\"(None), VS-15 (\"text_type\") and VS-16 (\"emoji_type\")\n",
      "    :param language: Choose language of emoji name: language code 'es', 'de', etc. or 'alias'\n",
      "        to use English aliases\n",
      "    :param version: (optional) Max version. If set to an Emoji Version,\n",
      "        all emoji above this version will be ignored.\n",
      "    :param handle_version: (optional) Replace the emoji above ``version``\n",
      "        instead of ignoring it. handle_version can be either a string or a\n",
      "        callable; If it is a callable, it's passed the Unicode emoji and the\n",
      "        data dict from emoji.EMOJI_DATA and must return a replacement string\n",
      "        to be used::\n",
      "    \n",
      "            handle_version(u'\\U0001F6EB', {\n",
      "                'en' : ':airplane_departure:',\n",
      "                'status' : fully_qualified,\n",
      "                'E' : 1,\n",
      "                'alias' : [u':flight_departure:'],\n",
      "                'de': u':abflug:',\n",
      "                'es': u':avión_despegando:',\n",
      "                ...\n",
      "            })\n",
      "    \n",
      "    :raises ValueError: if ``variant`` is neither None, 'text_type' or 'emoji_type'\n",
      "\n",
      "Python is fun ❤️\n"
     ]
    }
   ],
   "source": [
    "# çalışma ortamında yüklü paketi kullanmaya başlayalım\n",
    "import emoji as em\n",
    "# as ile emoji paketine em ismini verdik\n",
    "\n",
    "dir(em)\n",
    "help(em.emojize)\n",
    "\n",
    "print(em.emojize(\"Python is fun :red_heart:\", variant=\"emoji_type\"))"
   ]
  },
  {
   "cell_type": "code",
   "execution_count": null,
   "id": "266b3c0a-69af-41ec-bc1d-6a44a9d1a9f2",
   "metadata": {},
   "outputs": [],
   "source": []
  }
 ],
 "metadata": {
  "kernelspec": {
   "display_name": "Python 3 (ipykernel)",
   "language": "python",
   "name": "python3"
  },
  "language_info": {
   "codemirror_mode": {
    "name": "ipython",
    "version": 3
   },
   "file_extension": ".py",
   "mimetype": "text/x-python",
   "name": "python",
   "nbconvert_exporter": "python",
   "pygments_lexer": "ipython3",
   "version": "3.10.7"
  }
 },
 "nbformat": 4,
 "nbformat_minor": 5
}
