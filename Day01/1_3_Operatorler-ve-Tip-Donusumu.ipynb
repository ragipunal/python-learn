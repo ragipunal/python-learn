{
 "cells": [
  {
   "cell_type": "markdown",
   "id": "13c17340-3bcf-4e89-af54-662181b93a14",
   "metadata": {},
   "source": [
    "# Operatörler\n",
    "\n",
    "- Aritmatik\n",
    "- Karşılaştırma\n",
    "- Atama\n",
    "- Mantıksal\n",
    "- Identity\n",
    "- Uyelik\n",
    "\n",
    "![Operators](Operatorler.png)"
   ]
  },
  {
   "cell_type": "code",
   "execution_count": 1,
   "id": "04f9a3ef-f23b-4060-b658-2084ec6b1a31",
   "metadata": {},
   "outputs": [
    {
     "data": {
      "text/plain": [
       "15.0"
      ]
     },
     "execution_count": 1,
     "metadata": {},
     "output_type": "execute_result"
    }
   ],
   "source": [
    "# örn:\n",
    "8/2*(2+2)-1 # önce parantez içi, sonra çarpma, bölme için soldan sağa, + ve - operatörleri çalışır"
   ]
  },
  {
   "cell_type": "code",
   "execution_count": 5,
   "id": "b676cea7-2dd4-4115-81fe-a922601d1256",
   "metadata": {},
   "outputs": [
    {
     "name": "stdout",
     "output_type": "stream",
     "text": [
      "Hakediş:  4250.0\n"
     ]
    }
   ],
   "source": [
    "# soru:\n",
    "'''\n",
    "Haftalık çalışma saati verilen bir kişinin hakedişini hesaplayalım.\n",
    "- min 40 saat çalıştığını varsayalım\n",
    "- 40 saat üzeri çalışırsa saatlik ücretin, 1.5 katını ödesinler\n",
    "- saatlik ücret değiştirilebilir olsun.\n",
    "'''\n",
    "toplam_calisma_suresi = 70\n",
    "saatlik_ucret = 50\n",
    "\n",
    "# hesaplayalım\n",
    "hakedis = (40 + (toplam_calisma_suresi-40)*1.5)*saatlik_ucret\n",
    "\n",
    "print(\"Hakediş: \", hakedis)"
   ]
  },
  {
   "cell_type": "code",
   "execution_count": 6,
   "id": "1bb8c678-44b4-43a8-8fd2-13ef78b9d9c5",
   "metadata": {},
   "outputs": [
    {
     "name": "stdout",
     "output_type": "stream",
     "text": [
      "hipotenüs:  17.0\n"
     ]
    }
   ],
   "source": [
    "# soru \n",
    "''' \n",
    "iki dik kenarı verilen ücgenin hipotenüsünü hesaplayalım\n",
    "'''\n",
    "\n",
    "x = 8\n",
    "y = 15\n",
    "\n",
    "h = (x**2 + y**2)**0.5 #pow, math.pow, math,sqrt\n",
    "\n",
    "print(\"hipotenüs: \", h)"
   ]
  },
  {
   "cell_type": "code",
   "execution_count": 7,
   "id": "dbc49c15-c396-489c-b420-63c951b20ede",
   "metadata": {},
   "outputs": [
    {
     "name": "stdout",
     "output_type": "stream",
     "text": [
      "Doğalı 4  yıl ve  8  ay oldu\n"
     ]
    }
   ],
   "source": [
    "# soru\n",
    "'''\n",
    "Ay olarak yaşı verilen bebeğin yıl ve ay olarak yaşını yazdıralım.\n",
    "56 aylık bir bebek doğalı 4 yıl, 8 ay olmuştur\n",
    "'''\n",
    "\n",
    "kac_aylik = 56\n",
    "\n",
    "yil = kac_aylik // 12 # tam kısmını alırız\n",
    "ay = kac_aylik % 12 # modunu alırız yani kalanı verir.\n",
    "\n",
    "print(\"Doğalı\", yil, \" yıl ve \", ay, \" ay oldu\")\n"
   ]
  },
  {
   "cell_type": "markdown",
   "id": "aac9ef7b-8472-4779-b385-af2ecd0d75ee",
   "metadata": {},
   "source": [
    "### Karşılaştırma\n",
    "\n",
    "- geriye True veya False döner"
   ]
  },
  {
   "cell_type": "code",
   "execution_count": 9,
   "id": "fe080772-9e8b-4fb0-be21-5ddd1ea0dc84",
   "metadata": {},
   "outputs": [
    {
     "data": {
      "text/plain": [
       "True"
      ]
     },
     "execution_count": 9,
     "metadata": {},
     "output_type": "execute_result"
    }
   ],
   "source": [
    "x = 8\n",
    "\n",
    "x%2 == 0 # 8 'in 2'ye bölümünden kalan 0 mıdır?"
   ]
  },
  {
   "cell_type": "markdown",
   "id": "84b8302c-d38b-4c43-b799-d6fe31b43558",
   "metadata": {},
   "source": [
    "### Atama Operatörleri"
   ]
  },
  {
   "cell_type": "code",
   "execution_count": 11,
   "id": "81c06018-9f10-4d38-8748-91b5b62a71c3",
   "metadata": {},
   "outputs": [
    {
     "name": "stdout",
     "output_type": "stream",
     "text": [
      "1\n",
      "1 1\n",
      "1 2 3\n"
     ]
    }
   ],
   "source": [
    "# Klasik atama\n",
    "x = 1\n",
    "print(x)\n",
    "\n",
    "# Zincir Atama\n",
    "x = y = 1\n",
    "print(x,y)\n",
    "\n",
    "#unpacking\n",
    "x,y,z = 1,2,3 # değerleri değişkene sırayla atar\n",
    "\n",
    "print(x,y,z)"
   ]
  },
  {
   "cell_type": "code",
   "execution_count": 15,
   "id": "f264c996-5ab1-4e14-bfc5-c9d72b375d9b",
   "metadata": {},
   "outputs": [
    {
     "name": "stdout",
     "output_type": "stream",
     "text": [
      "3\n"
     ]
    }
   ],
   "source": [
    "x = 1\n",
    "\n",
    "x += 2 # x = x + 2\n",
    "\n",
    "print(x)"
   ]
  },
  {
   "cell_type": "markdown",
   "id": "8648fc2f-16cb-4230-bce4-fa9893694bd7",
   "metadata": {},
   "source": [
    "### Mantıksal Op.\n",
    "\n",
    "- **and** : her iki tarfta True üretirse sonuç True dur.\n",
    "- **or** : herhangi bir taraftaki True üretirse sonuç True olur.\n",
    "- **not(şart)** : şartın mantıksal sonucunu tersine çevirir. True -> False"
   ]
  },
  {
   "cell_type": "code",
   "execution_count": 16,
   "id": "9fb52e9a-61dc-4156-bd45-a3762d8d666f",
   "metadata": {},
   "outputs": [
    {
     "name": "stdout",
     "output_type": "stream",
     "text": [
      "True\n"
     ]
    }
   ],
   "source": [
    "x = 12\n",
    "\n",
    "print(x % 2 == 0 and x % 3 == 0)"
   ]
  },
  {
   "cell_type": "markdown",
   "id": "a0a85163-a981-40c5-9e77-973f9528cbda",
   "metadata": {},
   "source": [
    "# Üyelik Op.\n",
    "\n",
    "- **in** : belirtilen nesne container içeresinde var mı?"
   ]
  },
  {
   "cell_type": "code",
   "execution_count": 17,
   "id": "05c2556c-58d7-486d-8204-b3a949a326cd",
   "metadata": {},
   "outputs": [
    {
     "data": {
      "text/plain": [
       "True"
      ]
     },
     "execution_count": 17,
     "metadata": {},
     "output_type": "execute_result"
    }
   ],
   "source": [
    "\"m\" in \"metin\" # str bir container tiptir. metin içersinde m  var mı?"
   ]
  },
  {
   "cell_type": "code",
   "execution_count": 18,
   "id": "4f828539-8c90-4c9f-8cf7-692b6b901308",
   "metadata": {},
   "outputs": [
    {
     "data": {
      "text/plain": [
       "False"
      ]
     },
     "execution_count": 18,
     "metadata": {},
     "output_type": "execute_result"
    }
   ],
   "source": [
    "100 in [1,2,3,10] # liste içerisinde 100 sayısı var mı?"
   ]
  },
  {
   "cell_type": "code",
   "execution_count": 19,
   "id": "eca41387-9c4c-4265-ab9a-887b1b7c9c4e",
   "metadata": {},
   "outputs": [
    {
     "data": {
      "text/plain": [
       "list"
      ]
     },
     "execution_count": 19,
     "metadata": {},
     "output_type": "execute_result"
    }
   ],
   "source": [
    "# soru:\n",
    "'''\n",
    "sqrt fonksyion builtin nesneler içerisinde var mı?\n",
    "__builtins__\n",
    "'''\n",
    "\n",
    "type(dir(__builtins__))"
   ]
  },
  {
   "cell_type": "code",
   "execution_count": 24,
   "id": "d6d70c4d-bdda-4bb9-bd5f-c9d5aba4eac7",
   "metadata": {},
   "outputs": [
    {
     "data": {
      "text/plain": [
       "False"
      ]
     },
     "execution_count": 24,
     "metadata": {},
     "output_type": "execute_result"
    }
   ],
   "source": [
    "\"sqrt\" in dir(__builtins__)"
   ]
  },
  {
   "cell_type": "markdown",
   "id": "64bafd6f-0e85-4d7f-9429-bb9a6ab57a20",
   "metadata": {},
   "source": [
    "![Tip Dönüşümü](TipDonusu.png)"
   ]
  },
  {
   "cell_type": "code",
   "execution_count": 25,
   "id": "0015dc0e-0e58-49e3-babd-20b3c23604a1",
   "metadata": {},
   "outputs": [
    {
     "data": {
      "text/plain": [
       "2.23"
      ]
     },
     "execution_count": 25,
     "metadata": {},
     "output_type": "execute_result"
    }
   ],
   "source": [
    "1 + 1.23 # int + float = float"
   ]
  },
  {
   "cell_type": "code",
   "execution_count": 26,
   "id": "ffe6dc66-15b9-4f6f-996b-db27fc5365e9",
   "metadata": {},
   "outputs": [
    {
     "ename": "TypeError",
     "evalue": "unsupported operand type(s) for +: 'int' and 'str'",
     "output_type": "error",
     "traceback": [
      "\u001b[0;31m---------------------------------------------------------------------------\u001b[0m",
      "\u001b[0;31mTypeError\u001b[0m                                 Traceback (most recent call last)",
      "Cell \u001b[0;32mIn [26], line 1\u001b[0m\n\u001b[0;32m----> 1\u001b[0m \u001b[38;5;241;43m1\u001b[39;49m\u001b[43m \u001b[49m\u001b[38;5;241;43m+\u001b[39;49m\u001b[43m \u001b[49m\u001b[38;5;124;43m\"\u001b[39;49m\u001b[38;5;124;43mkişi\u001b[39;49m\u001b[38;5;124;43m\"\u001b[39;49m\n",
      "\u001b[0;31mTypeError\u001b[0m: unsupported operand type(s) for +: 'int' and 'str'"
     ]
    }
   ],
   "source": [
    "1 + \"kişi\""
   ]
  },
  {
   "cell_type": "code",
   "execution_count": 27,
   "id": "ab1fd985-b9c8-4fee-942d-3ec9e0234316",
   "metadata": {},
   "outputs": [
    {
     "data": {
      "text/plain": [
       "'1kişi'"
      ]
     },
     "execution_count": 27,
     "metadata": {},
     "output_type": "execute_result"
    }
   ],
   "source": [
    "str(1) + \"kişi\" # 1 int tipindeki bir değeri str() ile string tipine çevirdik ve + operatörü ile metni birleştirdik"
   ]
  },
  {
   "cell_type": "code",
   "execution_count": 28,
   "id": "821aa7ce-2c2f-4a97-a0aa-9b7477a52133",
   "metadata": {},
   "outputs": [
    {
     "data": {
      "text/plain": [
       "7"
      ]
     },
     "execution_count": 28,
     "metadata": {},
     "output_type": "execute_result"
    }
   ],
   "source": [
    "int(\"7\")"
   ]
  },
  {
   "cell_type": "code",
   "execution_count": 29,
   "id": "ed1f6a55-ef12-4251-bf26-f0419e1b4ec2",
   "metadata": {},
   "outputs": [
    {
     "ename": "ValueError",
     "evalue": "invalid literal for int() with base 10: 'yedi'",
     "output_type": "error",
     "traceback": [
      "\u001b[0;31m---------------------------------------------------------------------------\u001b[0m",
      "\u001b[0;31mValueError\u001b[0m                                Traceback (most recent call last)",
      "Cell \u001b[0;32mIn [29], line 1\u001b[0m\n\u001b[0;32m----> 1\u001b[0m \u001b[38;5;28;43mint\u001b[39;49m\u001b[43m(\u001b[49m\u001b[38;5;124;43m\"\u001b[39;49m\u001b[38;5;124;43myedi\u001b[39;49m\u001b[38;5;124;43m\"\u001b[39;49m\u001b[43m)\u001b[49m\n",
      "\u001b[0;31mValueError\u001b[0m: invalid literal for int() with base 10: 'yedi'"
     ]
    }
   ],
   "source": [
    "int(\"yedi\")"
   ]
  },
  {
   "cell_type": "code",
   "execution_count": 30,
   "id": "b4cc0907-eb19-4d3f-ad26-e103c73975bd",
   "metadata": {},
   "outputs": [
    {
     "data": {
      "text/plain": [
       "12"
      ]
     },
     "execution_count": 30,
     "metadata": {},
     "output_type": "execute_result"
    }
   ],
   "source": [
    "int(12.4)"
   ]
  },
  {
   "cell_type": "code",
   "execution_count": 31,
   "id": "29dbb9c6-84c8-48f2-956c-14672d462ac8",
   "metadata": {},
   "outputs": [
    {
     "data": {
      "text/plain": [
       "12"
      ]
     },
     "execution_count": 31,
     "metadata": {},
     "output_type": "execute_result"
    }
   ],
   "source": [
    "int(12.6)"
   ]
  },
  {
   "cell_type": "markdown",
   "id": "c8277191-ac72-48d2-98b7-ec35ea58e671",
   "metadata": {},
   "source": [
    "## input kullanıcıdan değer almamızı sağlar\n",
    "\n",
    "- input fonksiyonu ile alınan değer her zaman str tipindedir.\n",
    "- bu durumda mesela matematiksel bir işlem yapacak isek tip dönüşümü gereklidir."
   ]
  },
  {
   "cell_type": "code",
   "execution_count": 32,
   "id": "789c098b-f1c4-42d0-8e7e-63ea59d3f3f3",
   "metadata": {},
   "outputs": [
    {
     "name": "stdin",
     "output_type": "stream",
     "text": [
      "1. sayıyı giriniz:  12\n",
      "2. sayıyı giriniz:  17\n"
     ]
    },
    {
     "name": "stdout",
     "output_type": "stream",
     "text": [
      "1217\n"
     ]
    }
   ],
   "source": [
    "s1 = input(\"1. sayıyı giriniz: \")\n",
    "s2 = input(\"2. sayıyı giriniz: \")\n",
    "\n",
    "print(s1+s2)"
   ]
  },
  {
   "cell_type": "code",
   "execution_count": 33,
   "id": "4c5cd0d9-845c-4ccf-919d-4052598c0d93",
   "metadata": {},
   "outputs": [
    {
     "name": "stdin",
     "output_type": "stream",
     "text": [
      "1. sayıyı giriniz:  12\n",
      "2. sayıyı giriniz:  17\n"
     ]
    },
    {
     "name": "stdout",
     "output_type": "stream",
     "text": [
      "Toplam 29.0\n"
     ]
    }
   ],
   "source": [
    "s1 = input(\"1. sayıyı giriniz: \")\n",
    "s2 = input(\"2. sayıyı giriniz: \")\n",
    "\n",
    "sonuc = float(s1) + float(s2)\n",
    "print(\"Toplam\", sonuc)"
   ]
  },
  {
   "cell_type": "markdown",
   "id": "7fbd6b27-8d9d-46a9-9591-a7f60421c716",
   "metadata": {},
   "source": [
    "### tuple, list, set dönüşümü\n",
    "\n",
    "- containerin her bir elemanı o tipin elemanı haline gelir."
   ]
  },
  {
   "cell_type": "code",
   "execution_count": 35,
   "id": "e3dd7309-146f-4e99-8452-2fc7e756ef13",
   "metadata": {},
   "outputs": [
    {
     "name": "stdout",
     "output_type": "stream",
     "text": [
      "{'metin', 1, 2, 3}\n",
      "['metin', 1, 2, 3]\n"
     ]
    }
   ],
   "source": [
    "s = {1,2,3,\"metin\"} #set\n",
    "print(s)\n",
    "l = list(s) # set tipini list tipine çevirdik.\n",
    "print(l)"
   ]
  },
  {
   "cell_type": "code",
   "execution_count": 41,
   "id": "4a95bf0d-0687-4b63-b7ba-79ab5f30900d",
   "metadata": {},
   "outputs": [
    {
     "data": {
      "text/plain": [
       "['m', 'e', 'r', 'h', 'a', 'b', 'a']"
      ]
     },
     "execution_count": 41,
     "metadata": {},
     "output_type": "execute_result"
    }
   ],
   "source": [
    "# ör:\n",
    "metin = \"merhaba\" # str container tipi\n",
    "\n",
    "list(metin)"
   ]
  },
  {
   "cell_type": "code",
   "execution_count": 42,
   "id": "e5b0c8a9-fd69-45b1-a524-93ad08ac4307",
   "metadata": {},
   "outputs": [
    {
     "data": {
      "text/plain": [
       "('m', 'e', 'r', 'h', 'a', 'b', 'a')"
      ]
     },
     "execution_count": 42,
     "metadata": {},
     "output_type": "execute_result"
    }
   ],
   "source": [
    "tuple(metin)"
   ]
  },
  {
   "cell_type": "code",
   "execution_count": 43,
   "id": "27e3b4de-048e-4df0-b3f1-28a89d194c09",
   "metadata": {},
   "outputs": [
    {
     "data": {
      "text/plain": [
       "{'a', 'b', 'e', 'h', 'm', 'r'}"
      ]
     },
     "execution_count": 43,
     "metadata": {},
     "output_type": "execute_result"
    }
   ],
   "source": [
    "set(metin)"
   ]
  },
  {
   "cell_type": "code",
   "execution_count": 44,
   "id": "c260b9c4-95fd-4e42-b3c5-258117d123ff",
   "metadata": {},
   "outputs": [],
   "source": [
    "# metin değişkenini siler\n",
    "del metin"
   ]
  },
  {
   "cell_type": "code",
   "execution_count": null,
   "id": "f7c3e513-b949-4443-a2e7-44a925e49c12",
   "metadata": {},
   "outputs": [],
   "source": []
  }
 ],
 "metadata": {
  "kernelspec": {
   "display_name": "Python 3 (ipykernel)",
   "language": "python",
   "name": "python3"
  },
  "language_info": {
   "codemirror_mode": {
    "name": "ipython",
    "version": 3
   },
   "file_extension": ".py",
   "mimetype": "text/x-python",
   "name": "python",
   "nbconvert_exporter": "python",
   "pygments_lexer": "ipython3",
   "version": "3.10.7"
  }
 },
 "nbformat": 4,
 "nbformat_minor": 5
}
