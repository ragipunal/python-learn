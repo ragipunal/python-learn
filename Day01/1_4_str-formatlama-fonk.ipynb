{
 "cells": [
  {
   "cell_type": "markdown",
   "id": "6f4dfae2-ec51-4463-b15b-1c6ae07a7622",
   "metadata": {},
   "source": [
    "## Bazı str fonksyionları"
   ]
  },
  {
   "cell_type": "code",
   "execution_count": 1,
   "id": "fa7776ea-c10f-4cb3-81ce-5630e0136d50",
   "metadata": {},
   "outputs": [
    {
     "data": {
      "text/plain": [
       "['__add__',\n",
       " '__class__',\n",
       " '__contains__',\n",
       " '__delattr__',\n",
       " '__dir__',\n",
       " '__doc__',\n",
       " '__eq__',\n",
       " '__format__',\n",
       " '__ge__',\n",
       " '__getattribute__',\n",
       " '__getitem__',\n",
       " '__getnewargs__',\n",
       " '__gt__',\n",
       " '__hash__',\n",
       " '__init__',\n",
       " '__init_subclass__',\n",
       " '__iter__',\n",
       " '__le__',\n",
       " '__len__',\n",
       " '__lt__',\n",
       " '__mod__',\n",
       " '__mul__',\n",
       " '__ne__',\n",
       " '__new__',\n",
       " '__reduce__',\n",
       " '__reduce_ex__',\n",
       " '__repr__',\n",
       " '__rmod__',\n",
       " '__rmul__',\n",
       " '__setattr__',\n",
       " '__sizeof__',\n",
       " '__str__',\n",
       " '__subclasshook__',\n",
       " 'capitalize',\n",
       " 'casefold',\n",
       " 'center',\n",
       " 'count',\n",
       " 'encode',\n",
       " 'endswith',\n",
       " 'expandtabs',\n",
       " 'find',\n",
       " 'format',\n",
       " 'format_map',\n",
       " 'index',\n",
       " 'isalnum',\n",
       " 'isalpha',\n",
       " 'isascii',\n",
       " 'isdecimal',\n",
       " 'isdigit',\n",
       " 'isidentifier',\n",
       " 'islower',\n",
       " 'isnumeric',\n",
       " 'isprintable',\n",
       " 'isspace',\n",
       " 'istitle',\n",
       " 'isupper',\n",
       " 'join',\n",
       " 'ljust',\n",
       " 'lower',\n",
       " 'lstrip',\n",
       " 'maketrans',\n",
       " 'partition',\n",
       " 'removeprefix',\n",
       " 'removesuffix',\n",
       " 'replace',\n",
       " 'rfind',\n",
       " 'rindex',\n",
       " 'rjust',\n",
       " 'rpartition',\n",
       " 'rsplit',\n",
       " 'rstrip',\n",
       " 'split',\n",
       " 'splitlines',\n",
       " 'startswith',\n",
       " 'strip',\n",
       " 'swapcase',\n",
       " 'title',\n",
       " 'translate',\n",
       " 'upper',\n",
       " 'zfill']"
      ]
     },
     "execution_count": 1,
     "metadata": {},
     "output_type": "execute_result"
    }
   ],
   "source": [
    "# str fonksiyonlarını öğrenelim\n",
    "dir(str)"
   ]
  },
  {
   "cell_type": "code",
   "execution_count": 2,
   "id": "c849af41-5968-4be1-9d12-e53cd6c08dfc",
   "metadata": {},
   "outputs": [
    {
     "name": "stdout",
     "output_type": "stream",
     "text": [
      "Help on class str in module builtins:\n",
      "\n",
      "class str(object)\n",
      " |  str(object='') -> str\n",
      " |  str(bytes_or_buffer[, encoding[, errors]]) -> str\n",
      " |  \n",
      " |  Create a new string object from the given object. If encoding or\n",
      " |  errors is specified, then the object must expose a data buffer\n",
      " |  that will be decoded using the given encoding and error handler.\n",
      " |  Otherwise, returns the result of object.__str__() (if defined)\n",
      " |  or repr(object).\n",
      " |  encoding defaults to sys.getdefaultencoding().\n",
      " |  errors defaults to 'strict'.\n",
      " |  \n",
      " |  Methods defined here:\n",
      " |  \n",
      " |  __add__(self, value, /)\n",
      " |      Return self+value.\n",
      " |  \n",
      " |  __contains__(self, key, /)\n",
      " |      Return key in self.\n",
      " |  \n",
      " |  __eq__(self, value, /)\n",
      " |      Return self==value.\n",
      " |  \n",
      " |  __format__(self, format_spec, /)\n",
      " |      Return a formatted version of the string as described by format_spec.\n",
      " |  \n",
      " |  __ge__(self, value, /)\n",
      " |      Return self>=value.\n",
      " |  \n",
      " |  __getattribute__(self, name, /)\n",
      " |      Return getattr(self, name).\n",
      " |  \n",
      " |  __getitem__(self, key, /)\n",
      " |      Return self[key].\n",
      " |  \n",
      " |  __getnewargs__(...)\n",
      " |  \n",
      " |  __gt__(self, value, /)\n",
      " |      Return self>value.\n",
      " |  \n",
      " |  __hash__(self, /)\n",
      " |      Return hash(self).\n",
      " |  \n",
      " |  __iter__(self, /)\n",
      " |      Implement iter(self).\n",
      " |  \n",
      " |  __le__(self, value, /)\n",
      " |      Return self<=value.\n",
      " |  \n",
      " |  __len__(self, /)\n",
      " |      Return len(self).\n",
      " |  \n",
      " |  __lt__(self, value, /)\n",
      " |      Return self<value.\n",
      " |  \n",
      " |  __mod__(self, value, /)\n",
      " |      Return self%value.\n",
      " |  \n",
      " |  __mul__(self, value, /)\n",
      " |      Return self*value.\n",
      " |  \n",
      " |  __ne__(self, value, /)\n",
      " |      Return self!=value.\n",
      " |  \n",
      " |  __repr__(self, /)\n",
      " |      Return repr(self).\n",
      " |  \n",
      " |  __rmod__(self, value, /)\n",
      " |      Return value%self.\n",
      " |  \n",
      " |  __rmul__(self, value, /)\n",
      " |      Return value*self.\n",
      " |  \n",
      " |  __sizeof__(self, /)\n",
      " |      Return the size of the string in memory, in bytes.\n",
      " |  \n",
      " |  __str__(self, /)\n",
      " |      Return str(self).\n",
      " |  \n",
      " |  capitalize(self, /)\n",
      " |      Return a capitalized version of the string.\n",
      " |      \n",
      " |      More specifically, make the first character have upper case and the rest lower\n",
      " |      case.\n",
      " |  \n",
      " |  casefold(self, /)\n",
      " |      Return a version of the string suitable for caseless comparisons.\n",
      " |  \n",
      " |  center(self, width, fillchar=' ', /)\n",
      " |      Return a centered string of length width.\n",
      " |      \n",
      " |      Padding is done using the specified fill character (default is a space).\n",
      " |  \n",
      " |  count(...)\n",
      " |      S.count(sub[, start[, end]]) -> int\n",
      " |      \n",
      " |      Return the number of non-overlapping occurrences of substring sub in\n",
      " |      string S[start:end].  Optional arguments start and end are\n",
      " |      interpreted as in slice notation.\n",
      " |  \n",
      " |  encode(self, /, encoding='utf-8', errors='strict')\n",
      " |      Encode the string using the codec registered for encoding.\n",
      " |      \n",
      " |      encoding\n",
      " |        The encoding in which to encode the string.\n",
      " |      errors\n",
      " |        The error handling scheme to use for encoding errors.\n",
      " |        The default is 'strict' meaning that encoding errors raise a\n",
      " |        UnicodeEncodeError.  Other possible values are 'ignore', 'replace' and\n",
      " |        'xmlcharrefreplace' as well as any other name registered with\n",
      " |        codecs.register_error that can handle UnicodeEncodeErrors.\n",
      " |  \n",
      " |  endswith(...)\n",
      " |      S.endswith(suffix[, start[, end]]) -> bool\n",
      " |      \n",
      " |      Return True if S ends with the specified suffix, False otherwise.\n",
      " |      With optional start, test S beginning at that position.\n",
      " |      With optional end, stop comparing S at that position.\n",
      " |      suffix can also be a tuple of strings to try.\n",
      " |  \n",
      " |  expandtabs(self, /, tabsize=8)\n",
      " |      Return a copy where all tab characters are expanded using spaces.\n",
      " |      \n",
      " |      If tabsize is not given, a tab size of 8 characters is assumed.\n",
      " |  \n",
      " |  find(...)\n",
      " |      S.find(sub[, start[, end]]) -> int\n",
      " |      \n",
      " |      Return the lowest index in S where substring sub is found,\n",
      " |      such that sub is contained within S[start:end].  Optional\n",
      " |      arguments start and end are interpreted as in slice notation.\n",
      " |      \n",
      " |      Return -1 on failure.\n",
      " |  \n",
      " |  format(...)\n",
      " |      S.format(*args, **kwargs) -> str\n",
      " |      \n",
      " |      Return a formatted version of S, using substitutions from args and kwargs.\n",
      " |      The substitutions are identified by braces ('{' and '}').\n",
      " |  \n",
      " |  format_map(...)\n",
      " |      S.format_map(mapping) -> str\n",
      " |      \n",
      " |      Return a formatted version of S, using substitutions from mapping.\n",
      " |      The substitutions are identified by braces ('{' and '}').\n",
      " |  \n",
      " |  index(...)\n",
      " |      S.index(sub[, start[, end]]) -> int\n",
      " |      \n",
      " |      Return the lowest index in S where substring sub is found,\n",
      " |      such that sub is contained within S[start:end].  Optional\n",
      " |      arguments start and end are interpreted as in slice notation.\n",
      " |      \n",
      " |      Raises ValueError when the substring is not found.\n",
      " |  \n",
      " |  isalnum(self, /)\n",
      " |      Return True if the string is an alpha-numeric string, False otherwise.\n",
      " |      \n",
      " |      A string is alpha-numeric if all characters in the string are alpha-numeric and\n",
      " |      there is at least one character in the string.\n",
      " |  \n",
      " |  isalpha(self, /)\n",
      " |      Return True if the string is an alphabetic string, False otherwise.\n",
      " |      \n",
      " |      A string is alphabetic if all characters in the string are alphabetic and there\n",
      " |      is at least one character in the string.\n",
      " |  \n",
      " |  isascii(self, /)\n",
      " |      Return True if all characters in the string are ASCII, False otherwise.\n",
      " |      \n",
      " |      ASCII characters have code points in the range U+0000-U+007F.\n",
      " |      Empty string is ASCII too.\n",
      " |  \n",
      " |  isdecimal(self, /)\n",
      " |      Return True if the string is a decimal string, False otherwise.\n",
      " |      \n",
      " |      A string is a decimal string if all characters in the string are decimal and\n",
      " |      there is at least one character in the string.\n",
      " |  \n",
      " |  isdigit(self, /)\n",
      " |      Return True if the string is a digit string, False otherwise.\n",
      " |      \n",
      " |      A string is a digit string if all characters in the string are digits and there\n",
      " |      is at least one character in the string.\n",
      " |  \n",
      " |  isidentifier(self, /)\n",
      " |      Return True if the string is a valid Python identifier, False otherwise.\n",
      " |      \n",
      " |      Call keyword.iskeyword(s) to test whether string s is a reserved identifier,\n",
      " |      such as \"def\" or \"class\".\n",
      " |  \n",
      " |  islower(self, /)\n",
      " |      Return True if the string is a lowercase string, False otherwise.\n",
      " |      \n",
      " |      A string is lowercase if all cased characters in the string are lowercase and\n",
      " |      there is at least one cased character in the string.\n",
      " |  \n",
      " |  isnumeric(self, /)\n",
      " |      Return True if the string is a numeric string, False otherwise.\n",
      " |      \n",
      " |      A string is numeric if all characters in the string are numeric and there is at\n",
      " |      least one character in the string.\n",
      " |  \n",
      " |  isprintable(self, /)\n",
      " |      Return True if the string is printable, False otherwise.\n",
      " |      \n",
      " |      A string is printable if all of its characters are considered printable in\n",
      " |      repr() or if it is empty.\n",
      " |  \n",
      " |  isspace(self, /)\n",
      " |      Return True if the string is a whitespace string, False otherwise.\n",
      " |      \n",
      " |      A string is whitespace if all characters in the string are whitespace and there\n",
      " |      is at least one character in the string.\n",
      " |  \n",
      " |  istitle(self, /)\n",
      " |      Return True if the string is a title-cased string, False otherwise.\n",
      " |      \n",
      " |      In a title-cased string, upper- and title-case characters may only\n",
      " |      follow uncased characters and lowercase characters only cased ones.\n",
      " |  \n",
      " |  isupper(self, /)\n",
      " |      Return True if the string is an uppercase string, False otherwise.\n",
      " |      \n",
      " |      A string is uppercase if all cased characters in the string are uppercase and\n",
      " |      there is at least one cased character in the string.\n",
      " |  \n",
      " |  join(self, iterable, /)\n",
      " |      Concatenate any number of strings.\n",
      " |      \n",
      " |      The string whose method is called is inserted in between each given string.\n",
      " |      The result is returned as a new string.\n",
      " |      \n",
      " |      Example: '.'.join(['ab', 'pq', 'rs']) -> 'ab.pq.rs'\n",
      " |  \n",
      " |  ljust(self, width, fillchar=' ', /)\n",
      " |      Return a left-justified string of length width.\n",
      " |      \n",
      " |      Padding is done using the specified fill character (default is a space).\n",
      " |  \n",
      " |  lower(self, /)\n",
      " |      Return a copy of the string converted to lowercase.\n",
      " |  \n",
      " |  lstrip(self, chars=None, /)\n",
      " |      Return a copy of the string with leading whitespace removed.\n",
      " |      \n",
      " |      If chars is given and not None, remove characters in chars instead.\n",
      " |  \n",
      " |  partition(self, sep, /)\n",
      " |      Partition the string into three parts using the given separator.\n",
      " |      \n",
      " |      This will search for the separator in the string.  If the separator is found,\n",
      " |      returns a 3-tuple containing the part before the separator, the separator\n",
      " |      itself, and the part after it.\n",
      " |      \n",
      " |      If the separator is not found, returns a 3-tuple containing the original string\n",
      " |      and two empty strings.\n",
      " |  \n",
      " |  removeprefix(self, prefix, /)\n",
      " |      Return a str with the given prefix string removed if present.\n",
      " |      \n",
      " |      If the string starts with the prefix string, return string[len(prefix):].\n",
      " |      Otherwise, return a copy of the original string.\n",
      " |  \n",
      " |  removesuffix(self, suffix, /)\n",
      " |      Return a str with the given suffix string removed if present.\n",
      " |      \n",
      " |      If the string ends with the suffix string and that suffix is not empty,\n",
      " |      return string[:-len(suffix)]. Otherwise, return a copy of the original\n",
      " |      string.\n",
      " |  \n",
      " |  replace(self, old, new, count=-1, /)\n",
      " |      Return a copy with all occurrences of substring old replaced by new.\n",
      " |      \n",
      " |        count\n",
      " |          Maximum number of occurrences to replace.\n",
      " |          -1 (the default value) means replace all occurrences.\n",
      " |      \n",
      " |      If the optional argument count is given, only the first count occurrences are\n",
      " |      replaced.\n",
      " |  \n",
      " |  rfind(...)\n",
      " |      S.rfind(sub[, start[, end]]) -> int\n",
      " |      \n",
      " |      Return the highest index in S where substring sub is found,\n",
      " |      such that sub is contained within S[start:end].  Optional\n",
      " |      arguments start and end are interpreted as in slice notation.\n",
      " |      \n",
      " |      Return -1 on failure.\n",
      " |  \n",
      " |  rindex(...)\n",
      " |      S.rindex(sub[, start[, end]]) -> int\n",
      " |      \n",
      " |      Return the highest index in S where substring sub is found,\n",
      " |      such that sub is contained within S[start:end].  Optional\n",
      " |      arguments start and end are interpreted as in slice notation.\n",
      " |      \n",
      " |      Raises ValueError when the substring is not found.\n",
      " |  \n",
      " |  rjust(self, width, fillchar=' ', /)\n",
      " |      Return a right-justified string of length width.\n",
      " |      \n",
      " |      Padding is done using the specified fill character (default is a space).\n",
      " |  \n",
      " |  rpartition(self, sep, /)\n",
      " |      Partition the string into three parts using the given separator.\n",
      " |      \n",
      " |      This will search for the separator in the string, starting at the end. If\n",
      " |      the separator is found, returns a 3-tuple containing the part before the\n",
      " |      separator, the separator itself, and the part after it.\n",
      " |      \n",
      " |      If the separator is not found, returns a 3-tuple containing two empty strings\n",
      " |      and the original string.\n",
      " |  \n",
      " |  rsplit(self, /, sep=None, maxsplit=-1)\n",
      " |      Return a list of the substrings in the string, using sep as the separator string.\n",
      " |      \n",
      " |        sep\n",
      " |          The separator used to split the string.\n",
      " |      \n",
      " |          When set to None (the default value), will split on any whitespace\n",
      " |          character (including \\\\n \\\\r \\\\t \\\\f and spaces) and will discard\n",
      " |          empty strings from the result.\n",
      " |        maxsplit\n",
      " |          Maximum number of splits (starting from the left).\n",
      " |          -1 (the default value) means no limit.\n",
      " |      \n",
      " |      Splitting starts at the end of the string and works to the front.\n",
      " |  \n",
      " |  rstrip(self, chars=None, /)\n",
      " |      Return a copy of the string with trailing whitespace removed.\n",
      " |      \n",
      " |      If chars is given and not None, remove characters in chars instead.\n",
      " |  \n",
      " |  split(self, /, sep=None, maxsplit=-1)\n",
      " |      Return a list of the substrings in the string, using sep as the separator string.\n",
      " |      \n",
      " |        sep\n",
      " |          The separator used to split the string.\n",
      " |      \n",
      " |          When set to None (the default value), will split on any whitespace\n",
      " |          character (including \\\\n \\\\r \\\\t \\\\f and spaces) and will discard\n",
      " |          empty strings from the result.\n",
      " |        maxsplit\n",
      " |          Maximum number of splits (starting from the left).\n",
      " |          -1 (the default value) means no limit.\n",
      " |      \n",
      " |      Note, str.split() is mainly useful for data that has been intentionally\n",
      " |      delimited.  With natural text that includes punctuation, consider using\n",
      " |      the regular expression module.\n",
      " |  \n",
      " |  splitlines(self, /, keepends=False)\n",
      " |      Return a list of the lines in the string, breaking at line boundaries.\n",
      " |      \n",
      " |      Line breaks are not included in the resulting list unless keepends is given and\n",
      " |      true.\n",
      " |  \n",
      " |  startswith(...)\n",
      " |      S.startswith(prefix[, start[, end]]) -> bool\n",
      " |      \n",
      " |      Return True if S starts with the specified prefix, False otherwise.\n",
      " |      With optional start, test S beginning at that position.\n",
      " |      With optional end, stop comparing S at that position.\n",
      " |      prefix can also be a tuple of strings to try.\n",
      " |  \n",
      " |  strip(self, chars=None, /)\n",
      " |      Return a copy of the string with leading and trailing whitespace removed.\n",
      " |      \n",
      " |      If chars is given and not None, remove characters in chars instead.\n",
      " |  \n",
      " |  swapcase(self, /)\n",
      " |      Convert uppercase characters to lowercase and lowercase characters to uppercase.\n",
      " |  \n",
      " |  title(self, /)\n",
      " |      Return a version of the string where each word is titlecased.\n",
      " |      \n",
      " |      More specifically, words start with uppercased characters and all remaining\n",
      " |      cased characters have lower case.\n",
      " |  \n",
      " |  translate(self, table, /)\n",
      " |      Replace each character in the string using the given translation table.\n",
      " |      \n",
      " |        table\n",
      " |          Translation table, which must be a mapping of Unicode ordinals to\n",
      " |          Unicode ordinals, strings, or None.\n",
      " |      \n",
      " |      The table must implement lookup/indexing via __getitem__, for instance a\n",
      " |      dictionary or list.  If this operation raises LookupError, the character is\n",
      " |      left untouched.  Characters mapped to None are deleted.\n",
      " |  \n",
      " |  upper(self, /)\n",
      " |      Return a copy of the string converted to uppercase.\n",
      " |  \n",
      " |  zfill(self, width, /)\n",
      " |      Pad a numeric string with zeros on the left, to fill a field of the given width.\n",
      " |      \n",
      " |      The string is never truncated.\n",
      " |  \n",
      " |  ----------------------------------------------------------------------\n",
      " |  Static methods defined here:\n",
      " |  \n",
      " |  __new__(*args, **kwargs) from builtins.type\n",
      " |      Create and return a new object.  See help(type) for accurate signature.\n",
      " |  \n",
      " |  maketrans(...)\n",
      " |      Return a translation table usable for str.translate().\n",
      " |      \n",
      " |      If there is only one argument, it must be a dictionary mapping Unicode\n",
      " |      ordinals (integers) or characters to Unicode ordinals, strings or None.\n",
      " |      Character keys will be then converted to ordinals.\n",
      " |      If there are two arguments, they must be strings of equal length, and\n",
      " |      in the resulting dictionary, each character in x will be mapped to the\n",
      " |      character at the same position in y. If there is a third argument, it\n",
      " |      must be a string, whose characters will be mapped to None in the result.\n",
      "\n"
     ]
    }
   ],
   "source": [
    "help(str)"
   ]
  },
  {
   "cell_type": "code",
   "execution_count": 3,
   "id": "e15ddbd5-8c92-46cf-90eb-44e22133a380",
   "metadata": {},
   "outputs": [
    {
     "data": {
      "text/plain": [
       "\"str(object='') -> str\\nstr(bytes_or_buffer[, encoding[, errors]]) -> str\\n\\nCreate a new string object from the given object. If encoding or\\nerrors is specified, then the object must expose a data buffer\\nthat will be decoded using the given encoding and error handler.\\nOtherwise, returns the result of object.__str__() (if defined)\\nor repr(object).\\nencoding defaults to sys.getdefaultencoding().\\nerrors defaults to 'strict'.\""
      ]
     },
     "execution_count": 3,
     "metadata": {},
     "output_type": "execute_result"
    }
   ],
   "source": [
    "str.__doc__ # magic fonksiyonlar, her nesnein dökümantasyonu __doc__ içindedir."
   ]
  },
  {
   "cell_type": "code",
   "execution_count": 4,
   "id": "f819b9fb-e315-4a45-95c7-a6be825c45b9",
   "metadata": {},
   "outputs": [],
   "source": [
    "metin = \"MeRhABa DünYALI  \" # sonunda boşluk var. "
   ]
  },
  {
   "cell_type": "code",
   "execution_count": 5,
   "id": "07e4b80d-05bc-4292-9939-34bacb1a4eb0",
   "metadata": {},
   "outputs": [
    {
     "data": {
      "text/plain": [
       "'Merhaba Dünyali  '"
      ]
     },
     "execution_count": 5,
     "metadata": {},
     "output_type": "execute_result"
    }
   ],
   "source": [
    "# 1.\n",
    "str.title(metin)"
   ]
  },
  {
   "cell_type": "code",
   "execution_count": 6,
   "id": "7301e733-4ad9-4318-b453-6e3087ac64ad",
   "metadata": {},
   "outputs": [
    {
     "data": {
      "text/plain": [
       "'Merhaba Dünyali  '"
      ]
     },
     "execution_count": 6,
     "metadata": {},
     "output_type": "execute_result"
    }
   ],
   "source": [
    "# 2.\n",
    "metin.title()"
   ]
  },
  {
   "cell_type": "code",
   "execution_count": 7,
   "id": "70d3b941-205d-4d13-9cec-c44f435a465b",
   "metadata": {},
   "outputs": [
    {
     "data": {
      "text/plain": [
       "17"
      ]
     },
     "execution_count": 7,
     "metadata": {},
     "output_type": "execute_result"
    }
   ],
   "source": [
    "metin.__len__() # magic fonk. # uzunluğu verecek"
   ]
  },
  {
   "cell_type": "code",
   "execution_count": 8,
   "id": "a1038648-aeb5-4301-b408-592a87e217fc",
   "metadata": {},
   "outputs": [
    {
     "data": {
      "text/plain": [
       "'MeRhABa DünYALI'"
      ]
     },
     "execution_count": 8,
     "metadata": {},
     "output_type": "execute_result"
    }
   ],
   "source": [
    "# 4.\n",
    "metin.strip(\" \") # başındaki ve sonundaki boşlukları temizle."
   ]
  },
  {
   "cell_type": "code",
   "execution_count": 9,
   "id": "6147d60c-e1af-4e5d-9c10-451e161d1cdd",
   "metadata": {},
   "outputs": [
    {
     "data": {
      "text/plain": [
       "'Merhaba Dünyali'"
      ]
     },
     "execution_count": 9,
     "metadata": {},
     "output_type": "execute_result"
    }
   ],
   "source": [
    "metin.strip(\" \").title()"
   ]
  },
  {
   "cell_type": "code",
   "execution_count": 10,
   "id": "3c3034fe-5676-49e3-83ab-547bd8ad8185",
   "metadata": {},
   "outputs": [
    {
     "data": {
      "text/plain": [
       "'Merhaba Dünyali'"
      ]
     },
     "execution_count": 10,
     "metadata": {},
     "output_type": "execute_result"
    }
   ],
   "source": [
    "str.title(metin.strip(\" \"))"
   ]
  },
  {
   "cell_type": "code",
   "execution_count": 11,
   "id": "dddb4c23-2bc1-487b-bd8d-cca8974e86df",
   "metadata": {},
   "outputs": [
    {
     "data": {
      "text/plain": [
       "17"
      ]
     },
     "execution_count": 11,
     "metadata": {},
     "output_type": "execute_result"
    }
   ],
   "source": [
    "# sık kullanılanlar\n",
    "len(metin)"
   ]
  },
  {
   "cell_type": "code",
   "execution_count": 12,
   "id": "3ab48a59-edb0-4076-9e0a-defe17b9a907",
   "metadata": {},
   "outputs": [
    {
     "data": {
      "text/plain": [
       "2"
      ]
     },
     "execution_count": 12,
     "metadata": {},
     "output_type": "execute_result"
    }
   ],
   "source": [
    "metin.count(\"A\")"
   ]
  },
  {
   "cell_type": "code",
   "execution_count": 13,
   "id": "14444c93-13ce-4bdb-b4be-c42e66cd54c1",
   "metadata": {},
   "outputs": [
    {
     "data": {
      "text/plain": [
       "'------MeRhABa DünYALI  -------'"
      ]
     },
     "execution_count": 13,
     "metadata": {},
     "output_type": "execute_result"
    }
   ],
   "source": [
    "metin.center(30,\"-\") # 30 karakter içerisine ortala kalan boşluklara - bas"
   ]
  },
  {
   "cell_type": "code",
   "execution_count": 14,
   "id": "892712fa-8997-4462-9d01-3906c3695326",
   "metadata": {},
   "outputs": [
    {
     "data": {
      "text/plain": [
       "4"
      ]
     },
     "execution_count": 14,
     "metadata": {},
     "output_type": "execute_result"
    }
   ],
   "source": [
    "metin.find(\"A\")"
   ]
  },
  {
   "cell_type": "code",
   "execution_count": 15,
   "id": "0f871247-b4e4-48df-903d-a9971b93e391",
   "metadata": {},
   "outputs": [
    {
     "data": {
      "text/plain": [
       "'Merhaba DünYALI  '"
      ]
     },
     "execution_count": 15,
     "metadata": {},
     "output_type": "execute_result"
    }
   ],
   "source": [
    "metin.replace(\"RhABa\", \"rhaba\") # bulduğu ifadeyi 2. parametredeki ile değiştirir. "
   ]
  },
  {
   "cell_type": "code",
   "execution_count": 16,
   "id": "562a8661-c9ad-4b17-8a06-3488ec0edf66",
   "metadata": {},
   "outputs": [
    {
     "data": {
      "text/plain": [
       "2"
      ]
     },
     "execution_count": 16,
     "metadata": {},
     "output_type": "execute_result"
    }
   ],
   "source": [
    "metin.strip(\" \").count(\" \") +1"
   ]
  },
  {
   "cell_type": "markdown",
   "id": "f948c23c-22ec-4175-96ae-c3f77beb8e37",
   "metadata": {},
   "source": [
    "#### split ve join"
   ]
  },
  {
   "cell_type": "code",
   "execution_count": 18,
   "id": "dc11f858-5fa9-4acf-94f4-1e2170ad3ef1",
   "metadata": {},
   "outputs": [
    {
     "data": {
      "text/plain": [
       "['MeRhABa', 'DünYALI']"
      ]
     },
     "execution_count": 18,
     "metadata": {},
     "output_type": "execute_result"
    }
   ],
   "source": [
    "'''\n",
    "\\n : line feed\n",
    "\\r : carriage return\n",
    "\\r\\n\n",
    "\n",
    "new line karakterileridir.\n",
    "'''\n",
    "\n",
    "metin.split() # karaktere ayırır varsayılan boşluktur"
   ]
  },
  {
   "cell_type": "code",
   "execution_count": 19,
   "id": "d1041e70-d0e3-4fa7-8108-e2bc5211922c",
   "metadata": {},
   "outputs": [
    {
     "data": {
      "text/plain": [
       "list"
      ]
     },
     "execution_count": 19,
     "metadata": {},
     "output_type": "execute_result"
    }
   ],
   "source": [
    "type(metin.split())"
   ]
  },
  {
   "cell_type": "code",
   "execution_count": 20,
   "id": "8a3346c2-19ee-46ee-aa30-ac8f905d4aff",
   "metadata": {},
   "outputs": [
    {
     "data": {
      "text/plain": [
       "['MeRhABa DünYALI  ']"
      ]
     },
     "execution_count": 20,
     "metadata": {},
     "output_type": "execute_result"
    }
   ],
   "source": [
    "metin.splitlines()"
   ]
  },
  {
   "cell_type": "code",
   "execution_count": 21,
   "id": "7e2f4f1f-ceb1-4766-a081-22c83d729380",
   "metadata": {},
   "outputs": [
    {
     "data": {
      "text/plain": [
       "'MeRhABa'"
      ]
     },
     "execution_count": 21,
     "metadata": {},
     "output_type": "execute_result"
    }
   ],
   "source": [
    "# ör: metinin ilk kelimesi nedir?\n",
    "\n",
    "metin.split()[0]"
   ]
  },
  {
   "cell_type": "code",
   "execution_count": 22,
   "id": "b3cad9df-7868-4503-94bf-3be7aad4000c",
   "metadata": {},
   "outputs": [
    {
     "data": {
      "text/plain": [
       "'DünYALI'"
      ]
     },
     "execution_count": 22,
     "metadata": {},
     "output_type": "execute_result"
    }
   ],
   "source": [
    "sonuncu_index = len(metin.split()) - 1\n",
    "metin.split()[sonuncu_index]"
   ]
  },
  {
   "cell_type": "code",
   "execution_count": 23,
   "id": "0d904fa5-ee67-470f-89b9-4c5041b29fa2",
   "metadata": {},
   "outputs": [
    {
     "data": {
      "text/plain": [
       "'DünYALI'"
      ]
     },
     "execution_count": 23,
     "metadata": {},
     "output_type": "execute_result"
    }
   ],
   "source": [
    "metin.split()[-1]"
   ]
  },
  {
   "cell_type": "code",
   "execution_count": 24,
   "id": "cbcbb762-4e3d-4606-a95c-730615dc2645",
   "metadata": {},
   "outputs": [
    {
     "data": {
      "text/plain": [
       "'MeRhABa'"
      ]
     },
     "execution_count": 24,
     "metadata": {},
     "output_type": "execute_result"
    }
   ],
   "source": [
    "metin.split()[-2]"
   ]
  },
  {
   "cell_type": "code",
   "execution_count": 25,
   "id": "6af5bbb1-1594-44bf-bce3-8a70c2591ca3",
   "metadata": {},
   "outputs": [
    {
     "data": {
      "text/plain": [
       "'Ragıp;Ünal;15;True'"
      ]
     },
     "execution_count": 25,
     "metadata": {},
     "output_type": "execute_result"
    }
   ],
   "source": [
    "# join container elemanlarına uygulanır, container elemanları ile berlitilen karakteri birleştirir\n",
    "# container elemanlarının metin olması gerekir.\n",
    "\";\".join([\"Ragıp\", \"Ünal\", str(15), str(True)])"
   ]
  },
  {
   "cell_type": "code",
   "execution_count": 26,
   "id": "9cd2dbc3-8ea2-4267-ae86-cd91d38990ea",
   "metadata": {},
   "outputs": [
    {
     "data": {
      "text/plain": [
       "'Elma, Domates, Ceviz, Çilek'"
      ]
     },
     "execution_count": 26,
     "metadata": {},
     "output_type": "execute_result"
    }
   ],
   "source": [
    "\", \".join([\"Elma\", \"Domates\", \"Ceviz\", \"Çilek\"])"
   ]
  },
  {
   "cell_type": "markdown",
   "id": "45f2526b-5a0c-4ac5-9e9b-5f9801bf780f",
   "metadata": {},
   "source": [
    "### is... fonksiyonları"
   ]
  },
  {
   "cell_type": "code",
   "execution_count": 27,
   "id": "2e5e3233-3327-48ac-9f4e-b0fa38b55595",
   "metadata": {},
   "outputs": [
    {
     "data": {
      "text/plain": [
       "True"
      ]
     },
     "execution_count": 27,
     "metadata": {},
     "output_type": "execute_result"
    }
   ],
   "source": [
    "\"2022\".isdigit() # pozitif midir?"
   ]
  },
  {
   "cell_type": "code",
   "execution_count": 28,
   "id": "1ef4b592-25ef-4b29-916e-d2583140e62f",
   "metadata": {},
   "outputs": [
    {
     "data": {
      "text/plain": [
       "False"
      ]
     },
     "execution_count": 28,
     "metadata": {},
     "output_type": "execute_result"
    }
   ],
   "source": [
    "\"-2022\".isdigit() "
   ]
  },
  {
   "cell_type": "code",
   "execution_count": 29,
   "id": "d511e933-1e74-4fd8-89df-9a24393c074f",
   "metadata": {},
   "outputs": [
    {
     "data": {
      "text/plain": [
       "True"
      ]
     },
     "execution_count": 29,
     "metadata": {},
     "output_type": "execute_result"
    }
   ],
   "source": [
    "\"yirmi\".isalpha() # her bir karakter alfabedeki harflerden mi oluşuyor."
   ]
  },
  {
   "cell_type": "code",
   "execution_count": 30,
   "id": "590b4c70-f62b-4200-86ec-df6d96638516",
   "metadata": {},
   "outputs": [
    {
     "data": {
      "text/plain": [
       "True"
      ]
     },
     "execution_count": 30,
     "metadata": {},
     "output_type": "execute_result"
    }
   ],
   "source": [
    "\"one2\".isalnum() # a-zA-Z0-9 her bir harf alfabeden veya rakamdan mıdır?"
   ]
  },
  {
   "cell_type": "code",
   "execution_count": 31,
   "id": "1c892614-2070-4c10-877b-1d42fc23097c",
   "metadata": {},
   "outputs": [
    {
     "data": {
      "text/plain": [
       "False"
      ]
     },
     "execution_count": 31,
     "metadata": {},
     "output_type": "execute_result"
    }
   ],
   "source": [
    "\"pil@v\".isalnum()"
   ]
  },
  {
   "cell_type": "code",
   "execution_count": 33,
   "id": "aa1be029-62b9-43d0-a56f-d01c013863af",
   "metadata": {},
   "outputs": [
    {
     "data": {
      "text/plain": [
       "True"
      ]
     },
     "execution_count": 33,
     "metadata": {},
     "output_type": "execute_result"
    }
   ],
   "source": [
    "\" \".isspace() # karakter bir boşluk mudur?"
   ]
  },
  {
   "cell_type": "markdown",
   "id": "57d8d0f6-c13d-452f-9335-44876c3a9263",
   "metadata": {},
   "source": [
    "## Kaçış Karakterleri"
   ]
  },
  {
   "cell_type": "code",
   "execution_count": 35,
   "id": "716af619-41fc-40f1-9afa-e7eebe8b72e7",
   "metadata": {},
   "outputs": [
    {
     "name": "stdout",
     "output_type": "stream",
     "text": [
      "Bugün Edremit'in havası pek güzel\n"
     ]
    }
   ],
   "source": [
    "# metinler çift veya tek tırnak kullanılarak tanımlanıyordu\n",
    "print(\"Bugün Edremit'in havası pek güzel\")"
   ]
  },
  {
   "cell_type": "code",
   "execution_count": 36,
   "id": "50ace042-83ff-49c2-9f5f-52d88463707e",
   "metadata": {},
   "outputs": [
    {
     "name": "stdout",
     "output_type": "stream",
     "text": [
      "Bugün Edremit\"in havası pek güzel\n"
     ]
    }
   ],
   "source": [
    "print('Bugün Edremit\"in havası pek güzel')"
   ]
  },
  {
   "cell_type": "code",
   "execution_count": 37,
   "id": "204ab691-572e-44a9-9f5a-6866effc6370",
   "metadata": {},
   "outputs": [
    {
     "name": "stdout",
     "output_type": "stream",
     "text": [
      "Bugün Edremit'in havası pek güzel\n"
     ]
    }
   ],
   "source": [
    "print('Bugün Edremit\\'in havası pek güzel')"
   ]
  },
  {
   "cell_type": "code",
   "execution_count": 38,
   "id": "cd45da48-0be6-4e17-a140-a5e95ee8533e",
   "metadata": {},
   "outputs": [
    {
     "name": "stdout",
     "output_type": "stream",
     "text": [
      "Bir şair: \"İstanbul'un taşı toprağı altındır\". der\n"
     ]
    }
   ],
   "source": [
    "print(\"Bir şair: \\\"İstanbul'un taşı toprağı altındır\\\". der\")"
   ]
  },
  {
   "cell_type": "code",
   "execution_count": 39,
   "id": "f540d458-48c6-4417-ae65-3b8cecfdfc11",
   "metadata": {},
   "outputs": [
    {
     "name": "stdout",
     "output_type": "stream",
     "text": [
      "C:\n",
      "albur\n"
     ]
    }
   ],
   "source": [
    "# \\n \\t \\r özel anlamları vardır.\n",
    "print(\"C:\\nalbur\")"
   ]
  },
  {
   "cell_type": "code",
   "execution_count": 40,
   "id": "82139567-aa1f-4a43-a126-d32be38f5352",
   "metadata": {},
   "outputs": [
    {
     "name": "stdout",
     "output_type": "stream",
     "text": [
      "C:\\nalbur\n"
     ]
    }
   ],
   "source": [
    "print(\"C:\\\\nalbur\") # bunu yönetmek için \\\\ iki kere kullanırız."
   ]
  },
  {
   "cell_type": "code",
   "execution_count": 41,
   "id": "22fa464e-704c-4241-9246-27dfcf7fa464",
   "metadata": {},
   "outputs": [
    {
     "name": "stdout",
     "output_type": "stream",
     "text": [
      "C:\\nalbur\n"
     ]
    }
   ],
   "source": [
    "#raw string\n",
    "print(r\"C:\\nalbur\") # metnin başındaki r olursa string raw olarak yaz, işleme!"
   ]
  },
  {
   "cell_type": "code",
   "execution_count": 43,
   "id": "7b9dcf7f-233b-4947-9bee-716560fbc747",
   "metadata": {},
   "outputs": [
    {
     "name": "stdout",
     "output_type": "stream",
     "text": [
      "'C:\\nalbur'\n"
     ]
    }
   ],
   "source": [
    "yol = \"C:\\nalbur\"\n",
    "print(repr(yol)) # repr ile raw string üretebiliriz."
   ]
  },
  {
   "cell_type": "code",
   "execution_count": 44,
   "id": "a035676a-e819-4880-895c-8cb14490d541",
   "metadata": {},
   "outputs": [
    {
     "name": "stdout",
     "output_type": "stream",
     "text": [
      "bu\tbir\ttablı\tcümledir\n"
     ]
    }
   ],
   "source": [
    "print(\"bu\", \"bir\", \"tablı\", \"cümledir\", sep=\"\\t\")"
   ]
  },
  {
   "cell_type": "code",
   "execution_count": 46,
   "id": "225649fd-945b-465b-beb2-690732ce0f14",
   "metadata": {},
   "outputs": [
    {
     "name": "stdout",
     "output_type": "stream",
     "text": [
      "bu\tbir\ttablı\tcümledir\n"
     ]
    }
   ],
   "source": [
    "print(\"\\t\".join([\"bu\", \"bir\", \"tablı\", \"cümledir\"]))"
   ]
  },
  {
   "cell_type": "markdown",
   "id": "16dec6e6-ebbc-4c90-8f5c-d5c610939dbb",
   "metadata": {},
   "source": [
    "## ASCII, UNICOD, - ENCODE, DECODE"
   ]
  },
  {
   "cell_type": "code",
   "execution_count": 47,
   "id": "06c81efb-25c5-4ba8-980a-f6b6acd8b0e7",
   "metadata": {},
   "outputs": [
    {
     "data": {
      "text/plain": [
       "65"
      ]
     },
     "execution_count": 47,
     "metadata": {},
     "output_type": "execute_result"
    }
   ],
   "source": [
    "ord(\"A\") #ASCII karşılığı"
   ]
  },
  {
   "cell_type": "code",
   "execution_count": 48,
   "id": "d7bb9b2d-3d16-4dbc-a3c4-ac85064fd090",
   "metadata": {},
   "outputs": [
    {
     "data": {
      "text/plain": [
       "32"
      ]
     },
     "execution_count": 48,
     "metadata": {},
     "output_type": "execute_result"
    }
   ],
   "source": [
    "ord(\" \")"
   ]
  },
  {
   "cell_type": "code",
   "execution_count": 49,
   "id": "e1413de2-1343-4b09-b19c-0bb323d9d3bf",
   "metadata": {},
   "outputs": [
    {
     "data": {
      "text/plain": [
       "10"
      ]
     },
     "execution_count": 49,
     "metadata": {},
     "output_type": "execute_result"
    }
   ],
   "source": [
    "ord(\"\\n\")"
   ]
  },
  {
   "cell_type": "code",
   "execution_count": 50,
   "id": "7559c44c-21fa-4ca0-98c5-0e2163fe6c11",
   "metadata": {},
   "outputs": [
    {
     "data": {
      "text/plain": [
       "'A'"
      ]
     },
     "execution_count": 50,
     "metadata": {},
     "output_type": "execute_result"
    }
   ],
   "source": [
    "chr(65)"
   ]
  },
  {
   "cell_type": "code",
   "execution_count": 51,
   "id": "d5538f1b-c63b-49e9-ac7f-ca2f395388b5",
   "metadata": {},
   "outputs": [
    {
     "data": {
      "text/plain": [
       "'\\n'"
      ]
     },
     "execution_count": 51,
     "metadata": {},
     "output_type": "execute_result"
    }
   ],
   "source": [
    "chr(10)"
   ]
  },
  {
   "cell_type": "code",
   "execution_count": 52,
   "id": "94e187c3-a3a6-403e-baa9-7d6edc036819",
   "metadata": {},
   "outputs": [
    {
     "data": {
      "text/plain": [
       "'∞'"
      ]
     },
     "execution_count": 52,
     "metadata": {},
     "output_type": "execute_result"
    }
   ],
   "source": [
    "#unicode\n",
    "\"\\u221E\""
   ]
  },
  {
   "cell_type": "code",
   "execution_count": 53,
   "id": "028a3ca0-81dc-4660-8b5b-991f1674583f",
   "metadata": {},
   "outputs": [
    {
     "data": {
      "text/plain": [
       "'😊'"
      ]
     },
     "execution_count": 53,
     "metadata": {},
     "output_type": "execute_result"
    }
   ],
   "source": [
    "\"\\U0001F60A\""
   ]
  },
  {
   "cell_type": "code",
   "execution_count": 54,
   "id": "65504a06-2a11-42fc-a3f5-d9792f3d6e53",
   "metadata": {},
   "outputs": [
    {
     "name": "stdout",
     "output_type": "stream",
     "text": [
      "b'k\\xc3\\xa2rl\\xc4\\xb1, de\\xc4\\x9ferli bir i\\xc5\\x9f'\n"
     ]
    }
   ],
   "source": [
    "'''\n",
    "encode decode örnekleri\n",
    "windows-1252\n",
    "windows-1254\n",
    "ANSI -> cp1252\n",
    "ISO-8859-1\n",
    "utf-16\n",
    "utf-8\n",
    "ASCII\n",
    "'''\n",
    "metin = \"kârlı, değerli bir iş\"\n",
    "\n",
    "# str, byte dizine çevirelim.\n",
    "byte_encoding = metin.encode() # UTF-8\n",
    "print(byte_encoding)"
   ]
  },
  {
   "cell_type": "code",
   "execution_count": 55,
   "id": "a4f6b5b3-df1e-4dc7-b8e8-b66166095823",
   "metadata": {},
   "outputs": [
    {
     "data": {
      "text/plain": [
       "'kârlı, değerli bir iş'"
      ]
     },
     "execution_count": 55,
     "metadata": {},
     "output_type": "execute_result"
    }
   ],
   "source": [
    "byte_encoding.decode()"
   ]
  },
  {
   "cell_type": "code",
   "execution_count": 60,
   "id": "aa90a83b-4bc1-4f59-8b83-6bb819e90b62",
   "metadata": {},
   "outputs": [
    {
     "data": {
      "text/plain": [
       "'kÃ¢rlÄ±, deÄŸerli bir iÅŸ'"
      ]
     },
     "execution_count": 60,
     "metadata": {},
     "output_type": "execute_result"
    }
   ],
   "source": [
    "byte_encoding.decode(\"cp1252\")"
   ]
  },
  {
   "cell_type": "markdown",
   "id": "1e51cc4c-eb26-48fc-a274-52e21f92d7e5",
   "metadata": {},
   "source": [
    "# str Formatlama"
   ]
  },
  {
   "cell_type": "code",
   "execution_count": 61,
   "id": "4142837a-4f22-4cfc-880f-75f67b460478",
   "metadata": {},
   "outputs": [],
   "source": [
    "ad = \"Ragıp\"\n",
    "maas = 34250.55"
   ]
  },
  {
   "cell_type": "code",
   "execution_count": 62,
   "id": "1e5b3454-210d-4241-a9f4-a95772916f62",
   "metadata": {},
   "outputs": [
    {
     "name": "stdout",
     "output_type": "stream",
     "text": [
      "Ad: Ragıp \n",
      "Maaş: 34250.55\n"
     ]
    }
   ],
   "source": [
    "# str.format\n",
    "print(\"Ad: {} \\nMaaş: {}\".format(ad, maas))"
   ]
  },
  {
   "cell_type": "code",
   "execution_count": 63,
   "id": "e559e062-0ff5-45ff-b0ed-2a0520f274a1",
   "metadata": {},
   "outputs": [
    {
     "name": "stdout",
     "output_type": "stream",
     "text": [
      "Ad: Ragıp \n",
      "Maaş: 34250.6\n"
     ]
    }
   ],
   "source": [
    "print(\"Ad: {} \\nMaaş: {:.1f}\".format(ad, maas)) # .1f ile virgülden sonra bir basamak"
   ]
  },
  {
   "cell_type": "code",
   "execution_count": 64,
   "id": "35ac5650-8249-4200-9a81-085f069542a7",
   "metadata": {},
   "outputs": [
    {
     "name": "stdout",
     "output_type": "stream",
     "text": [
      "Ad: Ragıp \n",
      "Maaş: 34,250.6\n"
     ]
    }
   ],
   "source": [
    "print(\"Ad: {} \\nMaaş: {:,.1f}\".format(ad, maas)) # binlik ayraç, oldu"
   ]
  },
  {
   "cell_type": "code",
   "execution_count": 65,
   "id": "ffa1629d-3bf2-455f-aebc-944675db238d",
   "metadata": {},
   "outputs": [
    {
     "name": "stdout",
     "output_type": "stream",
     "text": [
      "Ad: Ragıp \n",
      "Maaş:                       34,250.6\n"
     ]
    }
   ],
   "source": [
    "print(\"Ad: {} \\nMaaş: {:>30,.1f}\".format(ad, maas)) # >30 ile 30 karakter içerisine sağa yasla"
   ]
  },
  {
   "cell_type": "code",
   "execution_count": 66,
   "id": "35739a29-f070-4f78-850e-23b6472b1d00",
   "metadata": {},
   "outputs": [
    {
     "name": "stdout",
     "output_type": "stream",
     "text": [
      "Ad: Ragıp \n",
      "Maaş: ~~~~~~~~~~~~~~~~~~~~~~34,250.6\n"
     ]
    }
   ],
   "source": [
    "print(\"Ad: {} \\nMaaş: {:~>30,.1f}\".format(ad, maas)) # boşlukları ~ ile doldur"
   ]
  },
  {
   "cell_type": "code",
   "execution_count": 67,
   "id": "2fb1e6fe-8b25-4ed6-b363-105a5971332e",
   "metadata": {},
   "outputs": [
    {
     "name": "stdout",
     "output_type": "stream",
     "text": [
      "Ad: R**** \n",
      "Maaş: ~~~~~~~~~~~~~~~~~~~~~~34,250.6\n"
     ]
    }
   ],
   "source": [
    "print(\"Ad: {:.1s}**** \\nMaaş: {:~>30,.1f}\".format(ad, maas)) # .1s ile bir karakter göster"
   ]
  },
  {
   "cell_type": "code",
   "execution_count": 68,
   "id": "b77bdd24-a5f1-41cd-a5dc-23e04f246ceb",
   "metadata": {},
   "outputs": [
    {
     "name": "stdout",
     "output_type": "stream",
     "text": [
      "Ad: 34250.55 \n",
      "Maaş: Ragıp\n"
     ]
    }
   ],
   "source": [
    "print(\"Ad: {1} \\nMaaş: {0}\".format(ad, maas))"
   ]
  },
  {
   "cell_type": "code",
   "execution_count": 69,
   "id": "0f151824-1c29-4a14-8aaa-7002e6aa5db4",
   "metadata": {},
   "outputs": [
    {
     "name": "stdout",
     "output_type": "stream",
     "text": [
      "Ad: Ragıp \n",
      "Maaş: 34250.55\n"
     ]
    }
   ],
   "source": [
    "print(f\"Ad: {ad} \\nMaaş: {maas}\")"
   ]
  },
  {
   "cell_type": "code",
   "execution_count": 70,
   "id": "f20e9fb1-d947-4563-991a-ed440f8f78d7",
   "metadata": {},
   "outputs": [
    {
     "name": "stdout",
     "output_type": "stream",
     "text": [
      "Ad: Rag*** \n",
      "Maaş: ~~~~~~~~~~~~~~~~~~~~~~34,250.6\n"
     ]
    }
   ],
   "source": [
    "print(f\"Ad: {ad:.3s}*** \\nMaaş: {maas:~>30,.1f}\")"
   ]
  },
  {
   "cell_type": "code",
   "execution_count": 72,
   "id": "f83bfbef-9dc0-480e-8276-dad0f914b6de",
   "metadata": {},
   "outputs": [
    {
     "name": "stdout",
     "output_type": "stream",
     "text": [
      "Personel Adı: Ali\n",
      "Personel Yaş: 15\n"
     ]
    }
   ],
   "source": [
    "dict_personel = {\"ad\": \"Ali\", \"yas\":15}\n",
    "fmt = \"Personel Adı: {ad}\\nPersonel Yaş: {yas}\".format_map(dict_personel)\n",
    "print(fmt)"
   ]
  },
  {
   "cell_type": "code",
   "execution_count": 73,
   "id": "011addb3-4220-4159-bcf6-0ff0981531cc",
   "metadata": {},
   "outputs": [
    {
     "name": "stdout",
     "output_type": "stream",
     "text": [
      "------------------------------\n",
      "-------Merhaba Dünyalı--------\n",
      "------------------------------\n"
     ]
    }
   ],
   "source": [
    "# soru\n",
    "metin = \"Merhaba Dünyalı\"\n",
    "cizgi_sayisi = 30\n",
    "\n",
    "print(\"-\"*30)\n",
    "print(metin.center(30, \"-\"))\n",
    "print(\"-\"*30)"
   ]
  },
  {
   "cell_type": "code",
   "execution_count": null,
   "id": "5edfc83f-a405-47af-aea4-b399467c6eb9",
   "metadata": {},
   "outputs": [],
   "source": []
  }
 ],
 "metadata": {
  "kernelspec": {
   "display_name": "Python 3 (ipykernel)",
   "language": "python",
   "name": "python3"
  },
  "language_info": {
   "codemirror_mode": {
    "name": "ipython",
    "version": 3
   },
   "file_extension": ".py",
   "mimetype": "text/x-python",
   "name": "python",
   "nbconvert_exporter": "python",
   "pygments_lexer": "ipython3",
   "version": "3.10.7"
  }
 },
 "nbformat": 4,
 "nbformat_minor": 5
}
