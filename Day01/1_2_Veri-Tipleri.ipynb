{
 "cells": [
  {
   "cell_type": "markdown",
   "id": "38a9be82-6178-43c7-a4f6-6c4012c4f07b",
   "metadata": {},
   "source": [
    "# Veri Tipleri\n",
    "\n",
    "[Python Resmi Dökümantasyonu](https://docs.python.org/3/library/datatypes.html)"
   ]
  },
  {
   "cell_type": "code",
   "execution_count": 11,
   "id": "b0e9942b-11b4-4d28-9c16-b42cf4341317",
   "metadata": {},
   "outputs": [
    {
     "data": {
      "text/plain": [
       "NoneType"
      ]
     },
     "execution_count": 11,
     "metadata": {},
     "output_type": "execute_result"
    }
   ],
   "source": [
    "# type fonksiyonu herhangi bir nesnenin tipini gösterir.\n",
    "type(None) # None yokluğun karşılığı. NULL SQL'deki karşılığıdır."
   ]
  },
  {
   "cell_type": "code",
   "execution_count": 30,
   "id": "7ef8c0d6-d44e-400b-886d-2b116ec26efe",
   "metadata": {},
   "outputs": [
    {
     "name": "stdout",
     "output_type": "stream",
     "text": [
      "12\n"
     ]
    },
    {
     "data": {
      "text/plain": [
       "True"
      ]
     },
     "execution_count": 30,
     "metadata": {},
     "output_type": "execute_result"
    }
   ],
   "source": [
    "degisken = 12\n",
    "print(degisken)\n",
    "\n",
    "#hangi tipe ait olduğunu kontrol edelim\n",
    "type(degisken) #==int\n",
    "\n",
    "isinstance(degisken,int)\n",
    "\n",
    "isinstance(degisken, (int, float)) # int vey float mıdır"
   ]
  },
  {
   "cell_type": "markdown",
   "id": "215052a4-595e-4c87-82b4-f6607d5bfc32",
   "metadata": {},
   "source": [
    "# Numeric"
   ]
  },
  {
   "cell_type": "code",
   "execution_count": 15,
   "id": "1a485087-4cf2-4fe8-a532-e4a1b13cdad6",
   "metadata": {},
   "outputs": [
    {
     "name": "stdout",
     "output_type": "stream",
     "text": [
      "<class 'int'> <class 'float'> <class 'complex'>\n",
      "<class 'int'>\n",
      "<class 'float'>\n",
      "<class 'complex'>\n"
     ]
    }
   ],
   "source": [
    "# Python Dynamic Type özelliğe sahiptir. Yani tipi kendisi tanımlar.\n",
    "# degiskenAdi = deger\n",
    "\n",
    "i = 1 #int(1)\n",
    "f = 1.23 # float(1.23)\n",
    "c = 12 + 3j #complex(12,3)\n",
    "\n",
    "print(type(i), type(f), type(c))\n",
    "\n",
    "print(type(i), type(f), type(c), sep=\"\\n\") #\\n ile at satura geçer"
   ]
  },
  {
   "cell_type": "markdown",
   "id": "0ce0c641-8d68-4de6-9971-524f92efba1c",
   "metadata": {},
   "source": [
    "# Boolean"
   ]
  },
  {
   "cell_type": "code",
   "execution_count": 16,
   "id": "bb86e9c6-5ffb-43ff-ab8a-6b68e5b14e0b",
   "metadata": {},
   "outputs": [
    {
     "name": "stdout",
     "output_type": "stream",
     "text": [
      "<class 'bool'>\n",
      "<class 'bool'>\n"
     ]
    }
   ],
   "source": [
    "# True / False\n",
    "\n",
    "t = True # bool(True)\n",
    "f = False # bool(False)\n",
    "\n",
    "print(type(t))\n",
    "\n",
    "print(type(f))"
   ]
  },
  {
   "cell_type": "markdown",
   "id": "5c3b389c-c254-484e-99ed-5fa5a0dd6551",
   "metadata": {},
   "source": [
    "## Bool tipine özel\n",
    "- 0, None veya benzer şekilde yokluk ifade eden veriler (boş liste, tuple) False olarak değerlendirilir\n",
    "- Diğer verilere True olarak değerlendirilir."
   ]
  },
  {
   "cell_type": "code",
   "execution_count": 21,
   "id": "dc169332-8066-4d25-a6b8-c5384a35947f",
   "metadata": {},
   "outputs": [
    {
     "data": {
      "text/plain": [
       "True"
      ]
     },
     "execution_count": 21,
     "metadata": {},
     "output_type": "execute_result"
    }
   ],
   "source": [
    "# True olanlar\n",
    "True\n",
    "bool(True)\n",
    "\n",
    "bool(1)\n",
    "\n",
    "bool(-1)\n",
    "degisken = 132\n",
    "bool(degisken)"
   ]
  },
  {
   "cell_type": "code",
   "execution_count": 27,
   "id": "57804d44-e8fd-422d-9c63-c21815cf5093",
   "metadata": {},
   "outputs": [
    {
     "data": {
      "text/plain": [
       "False"
      ]
     },
     "execution_count": 27,
     "metadata": {},
     "output_type": "execute_result"
    }
   ],
   "source": [
    "# False olanlar\n",
    "False\n",
    "bool(False)\n",
    "bool(0)\n",
    "bool([]) # boş liste\n",
    "bool(\"\")\n",
    "bool(None)"
   ]
  },
  {
   "cell_type": "markdown",
   "id": "fcba6d25-789b-49e5-913f-d27281b30b13",
   "metadata": {},
   "source": [
    "# Str"
   ]
  },
  {
   "cell_type": "code",
   "execution_count": 35,
   "id": "308f8920-7759-425c-9ff9-fcafd6e23107",
   "metadata": {},
   "outputs": [
    {
     "name": "stdout",
     "output_type": "stream",
     "text": [
      "merhaba uzaylı\n",
      "nasılsınız?\n",
      "\n",
      "    SELECT *\n",
      "    FROM dbo.TabloAdi\n",
      "    WHERE aktif = 1\n",
      "\n"
     ]
    }
   ],
   "source": [
    "# tek satırlık metinler için \" veya ' kullanabiliriz.\n",
    "mesaj = \"merhaba uzaylı\"\n",
    "print(mesaj)\n",
    "\n",
    "soru = 'nasılsınız?'\n",
    "print(soru)\n",
    "\n",
    "# çok satırlık metin tutatacak isek çift veya tek tırnaktan 3 er adet kullanmalıyız\n",
    "sorgu = \"\"\"\n",
    "    SELECT *\n",
    "    FROM dbo.TabloAdi\n",
    "    WHERE aktif = 1\n",
    "\"\"\"\n",
    "\n",
    "print(sorgu)"
   ]
  },
  {
   "cell_type": "markdown",
   "id": "09de9565-553c-42c1-9ea6-ce62f73866c1",
   "metadata": {},
   "source": [
    "# Tuple\n",
    "\n",
    "- **immutable** elemanları güncellenemez\n",
    "- farklı tipteki verileri bir arada tutabilirsiniz."
   ]
  },
  {
   "cell_type": "code",
   "execution_count": 38,
   "id": "7923689e-9d15-41bb-9e9a-7997a9423e31",
   "metadata": {},
   "outputs": [
    {
     "name": "stdout",
     "output_type": "stream",
     "text": [
      "<class 'tuple'>\n",
      "(1, 2, 3, 'metin', False, None)\n",
      "<class 'tuple'>\n",
      "(1, 2, 3, 4, 'metin', False, None)\n"
     ]
    }
   ],
   "source": [
    "t = (1,2,3,\"metin\", False, None)\n",
    "print(type(t))\n",
    "print(t)\n",
    "\n",
    "k = 1,2,3,4,\"metin\", False, None  # () içerisine yazmasanızda tuple olarak tanımlanacaktır.\n",
    "print(type(k))\n",
    "print(k)"
   ]
  },
  {
   "cell_type": "markdown",
   "id": "4034bf06-94c3-47eb-9a9d-948fcf15c500",
   "metadata": {},
   "source": [
    "# Liste\n",
    "\n",
    "- **mutable** elemanları güncellenebilir.\n",
    "- farklı tipteki verileri tutabilir."
   ]
  },
  {
   "cell_type": "code",
   "execution_count": 47,
   "id": "87f33171-f8e0-4fc6-bf0b-c608172c542d",
   "metadata": {},
   "outputs": [
    {
     "name": "stdout",
     "output_type": "stream",
     "text": [
      "[1, 2, 3, 'metin', False, True, None]\n"
     ]
    }
   ],
   "source": [
    "l = [1,2,3,\"metin\", False, True, None]\n",
    "\n",
    "print(l)"
   ]
  },
  {
   "cell_type": "markdown",
   "id": "d2f90740-0c90-4ce0-9d89-51b8a45ac81b",
   "metadata": {},
   "source": [
    "# Sequencelerin elemanlarına ulaşmak\n",
    "\n",
    "- str, list, tuple\n",
    "- sıralıdır, index-değer şeklinde veri tutrar, index 0 dan başlar. index numarasına göre elemanları çağırabiliriz.\n",
    "- `nesne[sıranumarsı]`"
   ]
  },
  {
   "cell_type": "code",
   "execution_count": 50,
   "id": "30dbcc02-6301-4978-8555-07acd8af2e71",
   "metadata": {},
   "outputs": [
    {
     "data": {
      "text/plain": [
       "'metin'"
      ]
     },
     "execution_count": 50,
     "metadata": {},
     "output_type": "execute_result"
    }
   ],
   "source": [
    "t[3] # tuple 3. indexteki elemanı \"metin\" dir."
   ]
  },
  {
   "cell_type": "code",
   "execution_count": 51,
   "id": "9c5f3e85-d1df-4f0a-a85f-6ee20d9e9ac4",
   "metadata": {},
   "outputs": [
    {
     "data": {
      "text/plain": [
       "False"
      ]
     },
     "execution_count": 51,
     "metadata": {},
     "output_type": "execute_result"
    }
   ],
   "source": [
    "l[4] # listesnin 4. indexteki elemanı False dur."
   ]
  },
  {
   "cell_type": "code",
   "execution_count": 52,
   "id": "eda59254-b4a6-4bc5-91fa-b7a31d07b386",
   "metadata": {},
   "outputs": [
    {
     "data": {
      "text/plain": [
       "'m'"
      ]
     },
     "execution_count": 52,
     "metadata": {},
     "output_type": "execute_result"
    }
   ],
   "source": [
    "# str\n",
    "metin = \"merhaba\"\n",
    "\n",
    "metin[0] # 0. elemanı m dir."
   ]
  },
  {
   "cell_type": "code",
   "execution_count": 53,
   "id": "4ef3ad72-23e6-437d-954f-f4b9731b6876",
   "metadata": {},
   "outputs": [
    {
     "name": "stdout",
     "output_type": "stream",
     "text": [
      "[[True], [False, [1, 2, 3]], (4, 5, 6), 'metin']\n"
     ]
    }
   ],
   "source": [
    "iil = [[True], [False, [1,2,3]], (4,5,6), \"metin\"]\n",
    "print(iil)"
   ]
  },
  {
   "cell_type": "code",
   "execution_count": 55,
   "id": "d14440de-94f0-4a1e-8cd8-d85d41fb02aa",
   "metadata": {},
   "outputs": [
    {
     "data": {
      "text/plain": [
       "[False, [1, 2, 3]]"
      ]
     },
     "execution_count": 55,
     "metadata": {},
     "output_type": "execute_result"
    }
   ],
   "source": [
    "iil[1]"
   ]
  },
  {
   "cell_type": "code",
   "execution_count": 58,
   "id": "1c79e2a9-6ee5-4d96-aba8-c9588a33b961",
   "metadata": {},
   "outputs": [
    {
     "data": {
      "text/plain": [
       "[1, 2, 3]"
      ]
     },
     "execution_count": 58,
     "metadata": {},
     "output_type": "execute_result"
    }
   ],
   "source": [
    "iil[1][1]"
   ]
  },
  {
   "cell_type": "code",
   "execution_count": 59,
   "id": "10477895-f45f-4faf-b33d-a473482590f5",
   "metadata": {},
   "outputs": [
    {
     "data": {
      "text/plain": [
       "2"
      ]
     },
     "execution_count": 59,
     "metadata": {},
     "output_type": "execute_result"
    }
   ],
   "source": [
    "iil[1][1][1]"
   ]
  },
  {
   "cell_type": "markdown",
   "id": "feff6dd6-3818-4f92-856c-e1cdaef6bc20",
   "metadata": {},
   "source": [
    "# Set\n",
    "\n",
    "* sıralı değil, küme mantığında çalışan benzersiz eleman tutan nesnedir.\n",
    "* elemanları **immutable** olmalıdır\n",
    "* kendisi **mutable** dır.\n"
   ]
  },
  {
   "cell_type": "code",
   "execution_count": 68,
   "id": "645ee2b0-7e75-408b-b060-034f122fd33d",
   "metadata": {},
   "outputs": [
    {
     "name": "stdout",
     "output_type": "stream",
     "text": [
      "{0, 1, 2, 'metin'}\n"
     ]
    }
   ],
   "source": [
    "s = {0,1,2,\"metin\", False, True, \"metin\", 0}\n",
    "\n",
    "print(s) # Benzersiz değerler tutar"
   ]
  },
  {
   "cell_type": "code",
   "execution_count": 63,
   "id": "0a01c974-2c7e-47d7-a0a4-88cefd6f86c9",
   "metadata": {},
   "outputs": [
    {
     "name": "stdout",
     "output_type": "stream",
     "text": [
      "{'A', 'K', 'I', 'B', 'L'}\n"
     ]
    }
   ],
   "source": [
    "m = {\"K\",\"A\", \"L\", \"A\", \"B\",\"A\",\"L\",\"I\",\"K\"}\n",
    "\n",
    "print(m) # sıralı değildir."
   ]
  },
  {
   "cell_type": "code",
   "execution_count": 65,
   "id": "4ba16f9d-409b-43e5-9383-013de079845c",
   "metadata": {},
   "outputs": [
    {
     "ename": "TypeError",
     "evalue": "unhashable type: 'list'",
     "output_type": "error",
     "traceback": [
      "\u001b[0;31m---------------------------------------------------------------------------\u001b[0m",
      "\u001b[0;31mTypeError\u001b[0m                                 Traceback (most recent call last)",
      "Cell \u001b[0;32mIn [65], line 1\u001b[0m\n\u001b[0;32m----> 1\u001b[0m k \u001b[38;5;241m=\u001b[39m {\u001b[38;5;241m0\u001b[39m,\u001b[38;5;241m1\u001b[39m, [\u001b[38;5;124m\"\u001b[39m\u001b[38;5;124mA\u001b[39m\u001b[38;5;124m\"\u001b[39m, \u001b[38;5;124m\"\u001b[39m\u001b[38;5;124mB\u001b[39m\u001b[38;5;124m\"\u001b[39m]}\n",
      "\u001b[0;31mTypeError\u001b[0m: unhashable type: 'list'"
     ]
    }
   ],
   "source": [
    "k = {0,1, [\"A\", \"B\"]} # elemanları immutable olmak zorundadır."
   ]
  },
  {
   "cell_type": "markdown",
   "id": "84c8abe5-1e04-4624-8af8-aee37b629332",
   "metadata": {},
   "source": [
    "# Dict\n",
    "\n",
    "- Sıralı Değildir.\n",
    "- Key-Value şeklinde değer tutatr.\n",
    "- elemanlarına key ile erişilebilir.\n",
    "- kendisi **mutable** dır. keyleri **immutable** olmak zorundadır."
   ]
  },
  {
   "cell_type": "code",
   "execution_count": 71,
   "id": "2681cc3a-2081-4024-9400-a7781953fdef",
   "metadata": {},
   "outputs": [
    {
     "data": {
      "text/plain": [
       "{'Ad': 'Ragıp',\n",
       " 'Soyad': 'Ünal',\n",
       " 'Yaş': 35,\n",
       " 'AktifMi': True,\n",
       " 12345678901: 'TC',\n",
       " (2000, 'Maaş'): 20012.4,\n",
       " 'Ehliyet': ['A', 'B', 'F']}"
      ]
     },
     "execution_count": 71,
     "metadata": {},
     "output_type": "execute_result"
    }
   ],
   "source": [
    "kv = {\n",
    "    \"Ad\":\"Ragıp\",\n",
    "    \"Soyad\":\"Ünal\",\n",
    "    \"Yaş\":35,\n",
    "    \"AktifMi\": True,\n",
    "    12345678901: \"TC\",\n",
    "    # [10000, \"Maaş\"] # liste mutable olduğu için key olarak kullanılamaz,\n",
    "    (2000, \"Maaş\") : 20012.4,\n",
    "    \"Ehliyet\": [\"A\", \"B\", \"F\"]\n",
    "}\n",
    "kv"
   ]
  },
  {
   "cell_type": "code",
   "execution_count": 72,
   "id": "17c6ed84-1eb3-48a7-9579-21d48fd5c41d",
   "metadata": {},
   "outputs": [
    {
     "data": {
      "text/plain": [
       "'Ünal'"
      ]
     },
     "execution_count": 72,
     "metadata": {},
     "output_type": "execute_result"
    }
   ],
   "source": [
    "kv[\"Soyad\"]"
   ]
  },
  {
   "cell_type": "code",
   "execution_count": 73,
   "id": "c58402c2-8cdf-4780-ab4a-b95ce22bdee5",
   "metadata": {},
   "outputs": [
    {
     "data": {
      "text/plain": [
       "['A', 'B', 'F']"
      ]
     },
     "execution_count": 73,
     "metadata": {},
     "output_type": "execute_result"
    }
   ],
   "source": [
    "kv[\"Ehliyet\"]"
   ]
  },
  {
   "cell_type": "code",
   "execution_count": 74,
   "id": "93ad8c40-74bc-4811-a104-1572a3ee8d4a",
   "metadata": {},
   "outputs": [
    {
     "data": {
      "text/plain": [
       "'A'"
      ]
     },
     "execution_count": 74,
     "metadata": {},
     "output_type": "execute_result"
    }
   ],
   "source": [
    "kv[\"Ehliyet\"][0]"
   ]
  },
  {
   "cell_type": "code",
   "execution_count": 75,
   "id": "b838723d-2f7b-46b8-97b6-921cb2c99aa6",
   "metadata": {},
   "outputs": [
    {
     "data": {
      "text/plain": [
       "20012.4"
      ]
     },
     "execution_count": 75,
     "metadata": {},
     "output_type": "execute_result"
    }
   ],
   "source": [
    "kv[(2000, 'Maaş')]"
   ]
  },
  {
   "cell_type": "code",
   "execution_count": null,
   "id": "8cef1f78-9628-466a-a47c-adf341e4bd26",
   "metadata": {},
   "outputs": [],
   "source": []
  }
 ],
 "metadata": {
  "kernelspec": {
   "display_name": "Python 3 (ipykernel)",
   "language": "python",
   "name": "python3"
  },
  "language_info": {
   "codemirror_mode": {
    "name": "ipython",
    "version": 3
   },
   "file_extension": ".py",
   "mimetype": "text/x-python",
   "name": "python",
   "nbconvert_exporter": "python",
   "pygments_lexer": "ipython3",
   "version": "3.10.7"
  }
 },
 "nbformat": 4,
 "nbformat_minor": 5
}
