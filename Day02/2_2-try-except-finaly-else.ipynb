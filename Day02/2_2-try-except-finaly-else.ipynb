{
 "cells": [
  {
   "cell_type": "markdown",
   "id": "e46ff12e-af9b-4911-9601-b4315b4b0538",
   "metadata": {},
   "source": [
    "# Hatalar ve Hata Yakalama\n",
    "\n",
    "1. **Mantık Hataları** : hiç bir çalışmayacak bir şart koyma\n",
    "2. **Syntx hataları** : yazım hatası kod çalışmadan önce bildirilir\n",
    "3. **Runtime hataları** : kodlar normal çalışır, istisnai bir durum gerçekleştiğinde hata verir.\n",
    "    - Bu tür hatalarda programın nasıl davranacağını belirtmemiz gerekir.\n",
    "    - try-except-finally-else blokları ile hata durumunu yönetiriz."
   ]
  },
  {
   "cell_type": "code",
   "execution_count": 2,
   "id": "89784846-eec9-4d82-ba7f-515465e95254",
   "metadata": {},
   "outputs": [],
   "source": [
    "# 1. mantık hatası\n",
    "if 1 > 2:\n",
    "    print(\"Bu blok hiç çalışmaz\")"
   ]
  },
  {
   "cell_type": "code",
   "execution_count": 3,
   "id": "5c165e51-4a3b-4df3-9c77-179df2bbe934",
   "metadata": {},
   "outputs": [
    {
     "ename": "SyntaxError",
     "evalue": "cannot assign to expression here. Maybe you meant '==' instead of '='? (595001912.py, line 3)",
     "output_type": "error",
     "traceback": [
      "\u001b[0;36m  Cell \u001b[0;32mIn [3], line 3\u001b[0;36m\u001b[0m\n\u001b[0;31m    if x % 2 =0: #ile atarız == ile kontrol ederiz.\u001b[0m\n\u001b[0m       ^\u001b[0m\n\u001b[0;31mSyntaxError\u001b[0m\u001b[0;31m:\u001b[0m cannot assign to expression here. Maybe you meant '==' instead of '='?\n"
     ]
    }
   ],
   "source": [
    "#2. syntax hataları\n",
    "x = 12\n",
    "if x % 2 =0: #ile atarız == ile kontrol ederiz.\n",
    "    print(\"Çift sayıdır\")"
   ]
  },
  {
   "cell_type": "code",
   "execution_count": 4,
   "id": "a4fda9b0-7f4c-417f-9c73-222730e2b521",
   "metadata": {},
   "outputs": [
    {
     "name": "stdout",
     "output_type": "stream",
     "text": [
      "Bir hata ile karşılaştık\n",
      "Sistemin Hata Mesajı: division by zero\n",
      "İşlem Sonucu: ∞\n"
     ]
    }
   ],
   "source": [
    "#3. runtime\n",
    "x = 12\n",
    "y = 0\n",
    "\n",
    "sonuc = None\n",
    "\n",
    "try:\n",
    "    sonuc = x/y\n",
    "except ZeroDivisionError as ex: # alias\n",
    "    print(\"Bir hata ile karşılaştık\")\n",
    "    print(f\"Sistemin Hata Mesajı: {ex}\")\n",
    "    \n",
    "    sonuc = \"\\u221E\" # sonsuz işareti\n",
    "except Exception: # except ile de bırakabilirsiniz\n",
    "    print(\"Beklenmedik bir hata oluştu\")\n",
    "    print(\"geliştiriciye mail atılıyor....\")\n",
    "    \n",
    "\n",
    "print(f\"İşlem Sonucu: {sonuc}\")"
   ]
  },
  {
   "cell_type": "markdown",
   "id": "2603f54f-fc07-4d0a-b2b5-42c4ba8778cc",
   "metadata": {},
   "source": [
    "## **raise** ile kendi hatalarımızı bilinçli şekilde oluşturabilir.\n",
    "\n",
    "- bazen özel bir durum yazılım tarafından problem olerak değerlendirlmez, ancak bizim için özel olarak yönetilmesi gereken bir problem olabilir. bu duruda program daha fazla devam etmesin dite raise kkelimesi ile hata üretiriz."
   ]
  },
  {
   "cell_type": "code",
   "execution_count": 8,
   "id": "ca73d7a1-b2c8-4422-a104-e1229b95dc40",
   "metadata": {},
   "outputs": [
    {
     "name": "stdin",
     "output_type": "stream",
     "text": [
      "Sıcaklık değerini C cinsinden giriniz:  10\n"
     ]
    },
    {
     "name": "stdout",
     "output_type": "stream",
     "text": [
      "10.0 C = 50.0 F\n",
      "Her halükarda bu blog çalışır.\n"
     ]
    }
   ],
   "source": [
    "# ör:\n",
    "# C verilsin F hesaplayalım\n",
    "\n",
    "c_str = input(\"Sıcaklık değerini C cinsinden giriniz: \")\n",
    "\n",
    "try:\n",
    "    c_float = float(c_str) # tip dönüşümü\n",
    "    \n",
    "    if c_float < 0:\n",
    "        raise PermissionError(\"Negatif sayılar için dönüşüm desteklenmez!\")\n",
    "        \n",
    "    F = 1.8*c_float + 32\n",
    "    \n",
    "    print(f\"{c_float} C = {F} F\")\n",
    "except Exception as ex:\n",
    "    print(\"Bir hata ile karşılaşıldı.\")\n",
    "    print(f\"Hata Mesajı: {ex}\")\n",
    "finally:\n",
    "    print(\"Her halükarda bu blog çalışır.\")"
   ]
  },
  {
   "cell_type": "code",
   "execution_count": null,
   "id": "6df46be4-3606-47e2-87a2-9381d5865d14",
   "metadata": {},
   "outputs": [],
   "source": []
  }
 ],
 "metadata": {
  "kernelspec": {
   "display_name": "Python 3 (ipykernel)",
   "language": "python",
   "name": "python3"
  },
  "language_info": {
   "codemirror_mode": {
    "name": "ipython",
    "version": 3
   },
   "file_extension": ".py",
   "mimetype": "text/x-python",
   "name": "python",
   "nbconvert_exporter": "python",
   "pygments_lexer": "ipython3",
   "version": "3.10.7"
  }
 },
 "nbformat": 4,
 "nbformat_minor": 5
}
