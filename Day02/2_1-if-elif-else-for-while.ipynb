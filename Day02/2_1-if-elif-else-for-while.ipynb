{
 "cells": [
  {
   "cell_type": "markdown",
   "id": "783d3ae2-e2ed-4191-b1c1-dfc506d49c4d",
   "metadata": {},
   "source": [
    "# Karar Yapıları\n",
    "\n",
    "- if, else\n",
    "- if, elif, elif, else\n",
    "- ternary"
   ]
  },
  {
   "cell_type": "markdown",
   "id": "9b8ef4a1-740e-4a2b-8d47-9451c6b35284",
   "metadata": {},
   "source": [
    "## if-elif-else"
   ]
  },
  {
   "cell_type": "code",
   "execution_count": 1,
   "id": "1041cd61-b46d-49a3-b4c6-3830fd43f51d",
   "metadata": {},
   "outputs": [
    {
     "name": "stdout",
     "output_type": "stream",
     "text": [
      "10 dan büyük\n",
      "50 dan büyük\n"
     ]
    }
   ],
   "source": [
    "sinav_sonucu = 60\n",
    "\n",
    "if sinav_sonucu > 10:\n",
    "    print(\"10 dan büyük\")\n",
    "if sinav_sonucu > 50:\n",
    "    print(\"50 dan büyük\")"
   ]
  },
  {
   "cell_type": "code",
   "execution_count": 3,
   "id": "c12a229f-1999-4ecf-b269-82e192cfd79b",
   "metadata": {},
   "outputs": [
    {
     "name": "stdin",
     "output_type": "stream",
     "text": [
      "Notunuzu giriniz:  73\n"
     ]
    },
    {
     "name": "stdout",
     "output_type": "stream",
     "text": [
      "<class 'str'>\n",
      "Notunuz: B\n"
     ]
    }
   ],
   "source": [
    "# ör:\n",
    "# Dışarıdan bir sınav notu sonucunu alalım, harf notu karşılığını belirtelim\n",
    "\n",
    "sinav_sonucu = input(\"Notunuzu giriniz: \")\n",
    "print(type(sinav_sonucu))\n",
    "sinav_sonucu = int(sinav_sonucu) # explicit dönüşüm\n",
    "\n",
    "harf_notu = \"\"\n",
    "\n",
    "if sinav_sonucu >= 0 and sinav_sonucu <= 100:\n",
    "    if sinav_sonucu >= 85:\n",
    "        harf_notu = \"A\"\n",
    "    elif sinav_sonucu >= 70:\n",
    "        harf_notu = \"B\"\n",
    "    elif sinav_sonucu >= 55:\n",
    "        harf_notu = \"C\"\n",
    "    elif sinav_sonucu >= 45:\n",
    "        harf_notu = \"D\"\n",
    "    else:\n",
    "        harf_notu = \"F\"\n",
    "        \n",
    "    print(f\"Notunuz: {harf_notu}\")\n",
    "else:\n",
    "    print(\"Notunuz 0 ile 100 arasında olmalıdır\")\n",
    "    "
   ]
  },
  {
   "cell_type": "markdown",
   "id": "e97e80ac-aac4-4065-bf24-370755bcc85c",
   "metadata": {},
   "source": [
    "### ternary - tek satırda if yazma yöntemi"
   ]
  },
  {
   "cell_type": "code",
   "execution_count": 5,
   "id": "6938ad0c-3240-4ab4-a667-2274a152f097",
   "metadata": {},
   "outputs": [
    {
     "data": {
      "text/plain": [
       "'Tek Sayıdır'"
      ]
     },
     "execution_count": 5,
     "metadata": {},
     "output_type": "execute_result"
    }
   ],
   "source": [
    "sayi = 11\n",
    "\n",
    "\"Çift sayıdır\" if sayi % 2 == 0 else \"Tek Sayıdır\""
   ]
  },
  {
   "cell_type": "markdown",
   "id": "1ffbb841-2ce9-4745-86a9-97570ddd0db4",
   "metadata": {},
   "source": [
    "## Döngüler\n",
    "\n",
    "- for\n",
    "- while-else\n",
    "\n",
    "Not: tüm döngülerde **break** ifade ile döngüden çıkılır. **continue** ifadei ile o noktadan sonra devam etmez yeni iterasyona geçer\n",
    "\n",
    "### for \n",
    "\n",
    "- iterasyon yapılabilecek (str, list, set, tuple, range vs.) nesnelerin elemanlarına tek tek ulaşmamızı sağlar"
   ]
  },
  {
   "cell_type": "code",
   "execution_count": 7,
   "id": "2c604119-1395-49ed-b0fb-d72d32d3f246",
   "metadata": {},
   "outputs": [
    {
     "name": "stdout",
     "output_type": "stream",
     "text": [
      "M\n",
      "E\n",
      "R\n",
      "H\n",
      "A\n",
      "B\n",
      "A\n"
     ]
    }
   ],
   "source": [
    "cumle = \"merhaba\" # str\n",
    "\n",
    "for i in cumle:\n",
    "    print(i.upper())"
   ]
  },
  {
   "cell_type": "code",
   "execution_count": 10,
   "id": "558753d6-c65f-4af6-a516-a2381945f8f4",
   "metadata": {},
   "outputs": [
    {
     "name": "stdout",
     "output_type": "stream",
     "text": [
      "<class 'range'>\n",
      "range(0, 10)\n",
      "0\n",
      "buldum\n",
      "1\n",
      "2\n",
      "buldum\n",
      "3\n",
      "4\n",
      "buldum\n",
      "5\n",
      "6\n",
      "buldum\n",
      "7\n",
      "8\n",
      "buldum\n",
      "9\n",
      "Çift sayı adedi 5 dır.\n"
     ]
    }
   ],
   "source": [
    "#sayilar = [0,1,2,3,4,5,6,7,8,9] # list\n",
    "\n",
    "sayilar = range(10) #  0 ile 10 arasındaki sayıları üretir. özel bir tiptir. iterayon yapılabilir.\n",
    "print(type(sayilar))\n",
    "print(sayilar)\n",
    "cift_sayilar_sayaci = 0\n",
    "\n",
    "for s in sayilar:\n",
    "    print(str(s))\n",
    "    if s % 2 == 0:\n",
    "        print(\"buldum\")\n",
    "        cift_sayilar_sayaci += 1 # cift_sayilar_sayaci = cift_sayilar_sayaci + 1\n",
    "\n",
    "print(f\"Çift sayı adedi {cift_sayilar_sayaci} dır.\")"
   ]
  },
  {
   "cell_type": "code",
   "execution_count": 11,
   "id": "b4c4ba9b-e891-42a1-8072-c373f1f21162",
   "metadata": {},
   "outputs": [
    {
     "name": "stdout",
     "output_type": "stream",
     "text": [
      "30 karesi 900\n",
      "33 karesi 1089\n",
      "36 karesi 1296\n",
      "39 karesi 1521\n",
      "42 karesi 1764\n",
      "45 karesi 2025\n",
      "48 karesi 2304\n"
     ]
    }
   ],
   "source": [
    "# soru \n",
    "# 30 -50 arasındaki sayıları tarasın her bir sayı için \"2 karesi 4\" şeklinde metin yazsın\n",
    "# sadece 3 e bölününlere bakalım\n",
    "\n",
    "for s in range(30,50):\n",
    "    if s % 3 == 0:\n",
    "        print(f\"{s} karesi {s**2}\") # pow(s,2)"
   ]
  },
  {
   "cell_type": "code",
   "execution_count": 17,
   "id": "141cb35e-30bc-4e90-80cf-29ec764eeebc",
   "metadata": {},
   "outputs": [
    {
     "name": "stdout",
     "output_type": "stream",
     "text": [
      "5 X 0 = 0\n",
      "5 X 1 = 5\n",
      "5 X 2 = 10\n",
      "5 X 3 = 15\n",
      "5 X 4 = 20\n",
      "5 X 5 = 25\n",
      "5 X 6 = 30\n",
      "5 X 7 = 35\n",
      "5 X 8 = 40\n",
      "5 X 9 = 45\n",
      "5 X 10 = 50\n"
     ]
    }
   ],
   "source": [
    "# örnek: çarpım tablosu üretelim\n",
    "kaclar = 5\n",
    "\n",
    "for x in range(1,11):\n",
    "    if x == kaclar: # sadece x = 5 olduğunda aşağıdaki döngü çalışacak\n",
    "        for y in range(11):\n",
    "            print(f\"{x} X {y} = {x*y}\")"
   ]
  },
  {
   "cell_type": "markdown",
   "id": "db56bf6d-e96d-4818-b519-390d4e53bca6",
   "metadata": {},
   "source": [
    "### while-else\n",
    "\n",
    "- while(şart) true olduğu sürece çalışır\n"
   ]
  },
  {
   "cell_type": "code",
   "execution_count": 20,
   "id": "141f507d-cf5a-4d7b-91b5-96d3d23dbed0",
   "metadata": {},
   "outputs": [
    {
     "name": "stdout",
     "output_type": "stream",
     "text": [
      "1\n",
      "2\n",
      "4\n"
     ]
    }
   ],
   "source": [
    "sayac = 0\n",
    "\n",
    "while sayac < 10: \n",
    "    sayac += 1\n",
    "    \n",
    "    if sayac == 3:\n",
    "        continue # bu satırdan aşağı inmez sonraki iterasyona geçer\n",
    "    if sayac == 5:\n",
    "        break # döngüyü durdurur, döngüden çıkar, else bloguda çalışmaz.\n",
    "        \n",
    "    print(sayac)\n",
    "else:\n",
    "    print(\"Sayac 10 oldu\")"
   ]
  },
  {
   "cell_type": "code",
   "execution_count": 23,
   "id": "bdd407d6-050f-455c-bfb8-8d40f3b35108",
   "metadata": {},
   "outputs": [
    {
     "name": "stdout",
     "output_type": "stream",
     "text": [
      "Merhaba Dün\n",
      "Sıfır hariç 4 adet sayı tespit edildi.\n"
     ]
    }
   ],
   "source": [
    "# soru \n",
    "'''\n",
    "Verilen cümledeki harf olmayanları temizleyelim\n",
    "kaç adet numeric karakter temizledik yazdıralım.\n",
    "0 sayısını dikkate almasın\n",
    "@ işaretine kadar olan kısmı dikkate alalım\n",
    "'''\n",
    "\n",
    "cumle = 'm0e!r01h-a32b_a dü3n@y31a-!lı'\n",
    "temiz_cumle = \"\"\n",
    "num_sayac = 0\n",
    "\n",
    "for karakter in cumle:\n",
    "    \n",
    "    if karakter == \"@\":\n",
    "        break\n",
    "        \n",
    "    if karakter.isnumeric():\n",
    "        if karakter == \"0\":\n",
    "            continue\n",
    "        num_sayac +=1\n",
    "    elif karakter.isalpha() or karakter.isspace():\n",
    "        temiz_cumle += karakter\n",
    "        \n",
    "print(temiz_cumle.title())\n",
    "print(f\"Sıfır hariç {num_sayac} adet sayı tespit edildi.\")"
   ]
  },
  {
   "cell_type": "code",
   "execution_count": 25,
   "id": "fc3ad3c7-eeff-4671-8589-3436958e5822",
   "metadata": {},
   "outputs": [
    {
     "name": "stdout",
     "output_type": "stream",
     "text": [
      "['BPF', 'LOG4', 'NV_MAGICCONST', 'RECIP_BPF', 'Random', 'SG_MAGICCONST', 'SystemRandom', 'TWOPI', '_ONE', '_Sequence', '_Set', '__all__', '__builtins__', '__cached__', '__doc__', '__file__', '__loader__', '__name__', '__package__', '__spec__', '_accumulate', '_acos', '_bisect', '_ceil', '_cos', '_e', '_exp', '_floor', '_index', '_inst', '_isfinite', '_log', '_os', '_pi', '_random', '_repeat', '_sha512', '_sin', '_sqrt', '_test', '_test_generator', '_urandom', '_warn', 'betavariate', 'choice', 'choices', 'expovariate', 'gammavariate', 'gauss', 'getrandbits', 'getstate', 'lognormvariate', 'normalvariate', 'paretovariate', 'randbytes', 'randint', 'random', 'randrange', 'sample', 'seed', 'setstate', 'shuffle', 'triangular', 'uniform', 'vonmisesvariate', 'weibullvariate']\n",
      "4\n",
      "0.9127496517089443\n"
     ]
    }
   ],
   "source": [
    "import random\n",
    "\n",
    "print(dir(random))\n",
    "\n",
    "print(random.randint(1,10)) # Bana bir ile on arasında rastgele bir tam sayı üret.\n",
    "\n",
    "print(random.random()) # 0-1 arasında bir sayı üretmek."
   ]
  },
  {
   "cell_type": "code",
   "execution_count": null,
   "id": "80297f04-2852-45e5-88de-93b24ddeab8c",
   "metadata": {},
   "outputs": [],
   "source": []
  }
 ],
 "metadata": {
  "kernelspec": {
   "display_name": "Python 3 (ipykernel)",
   "language": "python",
   "name": "python3"
  },
  "language_info": {
   "codemirror_mode": {
    "name": "ipython",
    "version": 3
   },
   "file_extension": ".py",
   "mimetype": "text/x-python",
   "name": "python",
   "nbconvert_exporter": "python",
   "pygments_lexer": "ipython3",
   "version": "3.10.7"
  }
 },
 "nbformat": 4,
 "nbformat_minor": 5
}
