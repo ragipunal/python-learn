{
 "cells": [
  {
   "cell_type": "markdown",
   "id": "fb9c6310-0b84-4591-85f0-30e1ca61b240",
   "metadata": {},
   "source": [
    "# Fonksiyonlar\n",
    "\n",
    "- Fonksyionlar bir kod bloguna isim vermektir. Birden fazla yerde kullanlacak kodları bu şekilde paketliyoruz.\n",
    "- fonksyionlar dışaırdan deper alabilir, geriye değer döndürebilirler.\n",
    "- **def** ile tanımlanır, **return** değer döndürülür veya fonksiyondan çıkabilirsiniz."
   ]
  },
  {
   "cell_type": "code",
   "execution_count": 1,
   "id": "3a71f6f0-cbe5-4662-95ac-06a121ebd51d",
   "metadata": {},
   "outputs": [],
   "source": [
    "# ör:\n",
    "# C sıcaklık değerini F ye çevirilim\n",
    "\n",
    "def c2f(c_sicaklik): # parametre olarak c_sicaklik alır.\n",
    "    f_sicaklik = 1.8*c_sicaklik + 32\n",
    "    \n",
    "    return f\"{c_sicaklik} C = {f_sicaklik} F\" # geriye str değer dönsün."
   ]
  },
  {
   "cell_type": "code",
   "execution_count": 2,
   "id": "b815bd71-7212-46f2-b87b-06c76dcd99c4",
   "metadata": {},
   "outputs": [
    {
     "data": {
      "text/plain": [
       "'10 C = 50.0 F'"
      ]
     },
     "execution_count": 2,
     "metadata": {},
     "output_type": "execute_result"
    }
   ],
   "source": [
    "c2f(10)"
   ]
  },
  {
   "cell_type": "code",
   "execution_count": 3,
   "id": "29ff8d78-ec49-4ace-b554-8d748778f752",
   "metadata": {},
   "outputs": [
    {
     "name": "stdout",
     "output_type": "stream",
     "text": [
      "10 C = 50.0 F\n"
     ]
    }
   ],
   "source": [
    "sonuc = c2f(c_sicaklik=10)\n",
    "print(sonuc)"
   ]
  },
  {
   "cell_type": "code",
   "execution_count": 4,
   "id": "457de384-5f1c-4c7a-b0ef-6a469fd8151a",
   "metadata": {},
   "outputs": [],
   "source": [
    "# örn:\n",
    "# Beden Kitle Indexi (obezite seviyesini hesaplayan fonk. yazın\n",
    "\n",
    "def obezite_seviyesi(kilo, boy):\n",
    "    \"\"\"\n",
    "        Bu fonksiyon beden kitle indexini hesaplar obezite seviyesini belirtir.\n",
    "        \n",
    "        Parametreler:\n",
    "        ------------------\n",
    "        kilo: kg cinsinden kilonuz\n",
    "        boy: m cinsinden boyunuz\n",
    "    \"\"\"\n",
    "    \n",
    "    \n",
    "    bki = kilo / boy**2\n",
    "    \n",
    "    if bki >=30:\n",
    "        return \"Obez\"\n",
    "    elif 25<=bki<30:\n",
    "        return \"Hafif şişman\"\n",
    "    elif 18.5<=bki<25:\n",
    "        return \"Normal\"\n",
    "    elif 17<=bki<18.5:\n",
    "        return \"Hafif düzeyde zayıf\"\n",
    "    elif 16<=bki<17:\n",
    "        return \"Orta düzeyde zayıf\"\n",
    "    else:\n",
    "        return \"Ağır düzeyde zayıf\""
   ]
  },
  {
   "cell_type": "code",
   "execution_count": 5,
   "id": "e2836022-ebc6-4560-959c-b6af0f5a8773",
   "metadata": {},
   "outputs": [
    {
     "name": "stdout",
     "output_type": "stream",
     "text": [
      "Help on function obezite_seviyesi in module __main__:\n",
      "\n",
      "obezite_seviyesi(kilo, boy)\n",
      "    Bu fonksiyon beden kitle indexini hesaplar obezite seviyesini belirtir.\n",
      "    \n",
      "    Parametreler:\n",
      "    ------------------\n",
      "    kilo: kg cinsinden kilonuz\n",
      "    boy: m cinsinden boyunuz\n",
      "\n"
     ]
    }
   ],
   "source": [
    "help(obezite_seviyesi) #obezite_seviyesi.__doc__"
   ]
  },
  {
   "cell_type": "code",
   "execution_count": 6,
   "id": "91dae5b0-f111-4d2a-876c-463347b72db0",
   "metadata": {},
   "outputs": [
    {
     "data": {
      "text/plain": [
       "'Normal'"
      ]
     },
     "execution_count": 6,
     "metadata": {},
     "output_type": "execute_result"
    }
   ],
   "source": [
    "obezite_seviyesi(64, 1.72)"
   ]
  },
  {
   "cell_type": "code",
   "execution_count": 7,
   "id": "9bb6587a-d3b2-4005-85e7-d22e4ea01712",
   "metadata": {},
   "outputs": [
    {
     "data": {
      "text/plain": [
       "'Hafif şişman'"
      ]
     },
     "execution_count": 7,
     "metadata": {},
     "output_type": "execute_result"
    }
   ],
   "source": [
    "obezite_seviyesi(boy=1.72, kilo=80) # parametre isim verilirse karşılık değer atanabilir."
   ]
  },
  {
   "cell_type": "markdown",
   "id": "ea9cea12-65ed-4133-8e1a-5a159c10c873",
   "metadata": {},
   "source": [
    "## Fonksiyon Parametreleri\n",
    "\n",
    "- parametrelere varsayılan değerler atanabilir.\n",
    "- parametreler sınırsız değer alabilir.\n",
    "- parametreler sınırsız key:value şeklinde değer alabilir.\n",
    "\n",
    "### Varsayılan değer"
   ]
  },
  {
   "cell_type": "code",
   "execution_count": 8,
   "id": "d6c40a12-ea15-458e-a684-4264a507fc67",
   "metadata": {},
   "outputs": [],
   "source": [
    "# varsayılan deper alan parametreler en sonda tanımlanır.\n",
    "\n",
    "def fnk_varsayilan_params(p1, p2=\"Varsayılan Değeri Budur\"):\n",
    "    print(\"p1:\", p1)\n",
    "    print(\"p2:\", p2)"
   ]
  },
  {
   "cell_type": "code",
   "execution_count": 9,
   "id": "dfe47ced-c760-4069-9cac-a0368a937d91",
   "metadata": {},
   "outputs": [
    {
     "name": "stdout",
     "output_type": "stream",
     "text": [
      "p1: Aytul\n",
      "p2: Dardogan\n"
     ]
    }
   ],
   "source": [
    "fnk_varsayilan_params(\"Aytul\", \"Dardogan\")"
   ]
  },
  {
   "cell_type": "code",
   "execution_count": 10,
   "id": "121afcf4-b997-41fb-8766-170ad391087b",
   "metadata": {},
   "outputs": [
    {
     "name": "stdout",
     "output_type": "stream",
     "text": [
      "p1: Mehmet\n",
      "p2: Yılmaz\n"
     ]
    }
   ],
   "source": [
    "fnk_varsayilan_params(p1=\"Mehmet\", p2=\"Yılmaz\")"
   ]
  },
  {
   "cell_type": "code",
   "execution_count": 11,
   "id": "1e1b6333-0593-4127-b229-401604414a8e",
   "metadata": {},
   "outputs": [
    {
     "name": "stdout",
     "output_type": "stream",
     "text": [
      "p1: Ömer\n",
      "p2: Varsayılan Değeri Budur\n"
     ]
    }
   ],
   "source": [
    "fnk_varsayilan_params(\"Ömer\")"
   ]
  },
  {
   "cell_type": "markdown",
   "id": "e1ed9a5d-c3a6-4b2d-9891-4af7310d1d87",
   "metadata": {},
   "source": [
    "## Sınırsız Değer"
   ]
  },
  {
   "cell_type": "code",
   "execution_count": 12,
   "id": "573145e9-79f1-4bcb-b2f8-a34be24b3c07",
   "metadata": {},
   "outputs": [],
   "source": [
    "# * ile sınırsız değer verebiliriz, içerisini tuple tipinde tutar\n",
    "# ** ile sınırsız key:value şeklinde değer atayabiliriz, dict nesnesi tipinde tutacaktır.\n",
    "\n",
    "def fnk_sinirsiz(*sinirsiz_sayi, **sinirsiz_key_value):\n",
    "    print(sinirsiz_sayi)\n",
    "    print(sinirsiz_key_value)"
   ]
  },
  {
   "cell_type": "code",
   "execution_count": 13,
   "id": "26e89397-dccd-46d2-a8d2-a9997cf64e0a",
   "metadata": {},
   "outputs": [
    {
     "name": "stdout",
     "output_type": "stream",
     "text": [
      "(1, 2, 3, 'Ali', 'Uçan')\n",
      "{}\n"
     ]
    }
   ],
   "source": [
    "fnk_sinirsiz(1,2,3,\"Ali\",\"Uçan\")"
   ]
  },
  {
   "cell_type": "code",
   "execution_count": 14,
   "id": "039a5607-dda9-4b54-a420-565db5de4506",
   "metadata": {},
   "outputs": [
    {
     "name": "stdout",
     "output_type": "stream",
     "text": [
      "(1, 2, 3)\n",
      "{'ad': 'Ali', 'soyadi': 'Uçan'}\n"
     ]
    }
   ],
   "source": [
    "fnk_sinirsiz(1,2,3,ad=\"Ali\",soyadi=\"Uçan\")"
   ]
  },
  {
   "cell_type": "code",
   "execution_count": 15,
   "id": "22e26d2a-019b-48f3-8123-19556ec56685",
   "metadata": {},
   "outputs": [],
   "source": [
    "# soru:\n",
    "# dışarıdan girilen satılardan çift olanları toplayan bir fonk. yazalım.\n",
    "\n",
    "def fnk_sayilari_topla(*sayilar):\n",
    "    toplam = 0\n",
    "    \n",
    "    for s in sayilar:\n",
    "        if s % 2 == 0:\n",
    "            toplam += s\n",
    "    \n",
    "    return toplam"
   ]
  },
  {
   "cell_type": "code",
   "execution_count": 16,
   "id": "b0f0f16a-1927-4682-a05a-f2209554f12d",
   "metadata": {},
   "outputs": [
    {
     "data": {
      "text/plain": [
       "2"
      ]
     },
     "execution_count": 16,
     "metadata": {},
     "output_type": "execute_result"
    }
   ],
   "source": [
    "fnk_sayilari_topla(1,2,3)"
   ]
  },
  {
   "cell_type": "code",
   "execution_count": 17,
   "id": "e477c502-211a-458e-b435-2c224c61a7f2",
   "metadata": {},
   "outputs": [
    {
     "data": {
      "text/plain": [
       "74"
      ]
     },
     "execution_count": 17,
     "metadata": {},
     "output_type": "execute_result"
    }
   ],
   "source": [
    "fnk_sayilari_topla(1,2,3,4,5,6,7,8,9,10,12,45,67,32,21)"
   ]
  },
  {
   "cell_type": "markdown",
   "id": "a455ecc5-aab7-4e9f-8d6b-d2f4b022cb3e",
   "metadata": {},
   "source": [
    "### Anonymous Function(lambda)\n",
    "\n",
    "- tek satırda isimsiz ve gövdesiz fonksiyon yazmak için kullanılır"
   ]
  },
  {
   "cell_type": "code",
   "execution_count": 18,
   "id": "8077d31d-2b10-407e-a02e-f6113b2bb68b",
   "metadata": {},
   "outputs": [],
   "source": [
    "# klasik yöntem\n",
    "def c2f(c):\n",
    "    return (1.8*c+32)"
   ]
  },
  {
   "cell_type": "code",
   "execution_count": 19,
   "id": "4d5f606d-d6c9-49bb-b117-f0cfca733760",
   "metadata": {},
   "outputs": [],
   "source": [
    "# lambda ile yazacak olursak\n",
    "c2f = lambda c:(1.8*c+32)"
   ]
  },
  {
   "cell_type": "code",
   "execution_count": 20,
   "id": "18b548e7-321e-406b-b39c-fe89b59ae6ac",
   "metadata": {},
   "outputs": [
    {
     "data": {
      "text/plain": [
       "50.0"
      ]
     },
     "execution_count": 20,
     "metadata": {},
     "output_type": "execute_result"
    }
   ],
   "source": [
    "c2f(10)"
   ]
  },
  {
   "cell_type": "code",
   "execution_count": 22,
   "id": "3a81b7e4-4b0e-411d-a36c-dc378af6c82a",
   "metadata": {},
   "outputs": [
    {
     "data": {
      "text/plain": [
       "['ALI', 'VELI', 'KEMAL']"
      ]
     },
     "execution_count": 22,
     "metadata": {},
     "output_type": "execute_result"
    }
   ],
   "source": [
    "#ör:\n",
    "\n",
    "lst = [\"ali\",\"veli\",\"kemal\"]\n",
    "\n",
    "# işlerimizi kolaylaştıracak bazı gömülü fonksiyonlar var. Bunlardan biride map tir. brodcast yapmamızı sağlar\n",
    "# map geriye map nesnesini döndürür sonra bunu for veya list ile açabiliriz.\n",
    "\n",
    "list(map(str.upper, lst))"
   ]
  },
  {
   "cell_type": "code",
   "execution_count": 25,
   "id": "90159970-74ee-4a01-a2fc-7bac38e7fb9d",
   "metadata": {},
   "outputs": [
    {
     "name": "stdout",
     "output_type": "stream",
     "text": [
      "4\n",
      "9\n",
      "16\n",
      "1\n",
      "4\n",
      "103041\n",
      "54289\n"
     ]
    }
   ],
   "source": [
    "lst = [2,3,4,1,2,321,233]\n",
    "hesaplanmis = map(lambda s:s**2, lst)\n",
    "\n",
    "for m in hesaplanmis:\n",
    "    print(m)"
   ]
  },
  {
   "cell_type": "code",
   "execution_count": 27,
   "id": "77c5c7ca-d1d6-460c-9868-1b307c8a579d",
   "metadata": {},
   "outputs": [
    {
     "data": {
      "text/plain": [
       "[4, 9, 16, 1, 4, 103041, 54289]"
      ]
     },
     "execution_count": 27,
     "metadata": {},
     "output_type": "execute_result"
    }
   ],
   "source": [
    "list(map(lambda s:s**2, lst))"
   ]
  },
  {
   "cell_type": "code",
   "execution_count": 28,
   "id": "c239d24b-ee7e-4c2c-a2fb-32246f5d8c2e",
   "metadata": {},
   "outputs": [],
   "source": [
    "# map, filter, zip, reduce(birden fazla elemanlar işlem yapmanızı sağlar) gibi başka fonksyionlar da vardır."
   ]
  },
  {
   "cell_type": "code",
   "execution_count": null,
   "id": "0a4a30c8-62cb-4db1-8a21-b49b0860566a",
   "metadata": {},
   "outputs": [],
   "source": []
  }
 ],
 "metadata": {
  "kernelspec": {
   "display_name": "Python 3 (ipykernel)",
   "language": "python",
   "name": "python3"
  },
  "language_info": {
   "codemirror_mode": {
    "name": "ipython",
    "version": 3
   },
   "file_extension": ".py",
   "mimetype": "text/x-python",
   "name": "python",
   "nbconvert_exporter": "python",
   "pygments_lexer": "ipython3",
   "version": "3.10.7"
  }
 },
 "nbformat": 4,
 "nbformat_minor": 5
}
