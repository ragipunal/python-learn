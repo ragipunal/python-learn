{
 "cells": [
  {
   "cell_type": "markdown",
   "id": "6a951aad-3f41-410a-9a1b-2cd1737ba0dc",
   "metadata": {},
   "source": [
    "### list, set, tuple içinde for kullanımı"
   ]
  },
  {
   "cell_type": "code",
   "execution_count": 2,
   "id": "1c649186-c6b7-4b41-9014-389280260386",
   "metadata": {},
   "outputs": [
    {
     "data": {
      "text/plain": [
       "[12, 15, 18, 21, 24, 27, 30, 33, 36, 39, 42, 45, 48]"
      ]
     },
     "execution_count": 2,
     "metadata": {},
     "output_type": "execute_result"
    }
   ],
   "source": [
    "# örn: 10-50 arasındaki 3'e bölünebilen sayıların listesini getirelim.\n",
    "\n",
    "lst_uce_bolunenler = []\n",
    "\n",
    "for s in range(10,50):\n",
    "    if s % 3 == 0:\n",
    "        lst_uce_bolunenler.append(s)\n",
    "\n",
    "lst_uce_bolunenler"
   ]
  },
  {
   "cell_type": "code",
   "execution_count": 3,
   "id": "8334156e-80eb-46fd-b7c5-77566e3a29e5",
   "metadata": {},
   "outputs": [
    {
     "data": {
      "text/plain": [
       "[100, 121, 144, 169, 196, 225, 256, 289, 324, 361]"
      ]
     },
     "execution_count": 3,
     "metadata": {},
     "output_type": "execute_result"
    }
   ],
   "source": [
    "# alternatif çözüm için hazırlık\n",
    "[s**2 for s in range(10,20)]"
   ]
  },
  {
   "cell_type": "code",
   "execution_count": 6,
   "id": "e4bfb684-fbec-4648-8036-f9faf8d26693",
   "metadata": {},
   "outputs": [
    {
     "data": {
      "text/plain": [
       "{100, 121, 144, 169, 196, 225, 256, 289, 324, 361}"
      ]
     },
     "execution_count": 6,
     "metadata": {},
     "output_type": "execute_result"
    }
   ],
   "source": [
    "{s**2 for s in range(10,20)}"
   ]
  },
  {
   "cell_type": "code",
   "execution_count": 8,
   "id": "d54ef044-e116-4a1d-be95-58f45a27a930",
   "metadata": {},
   "outputs": [
    {
     "data": {
      "text/plain": [
       "(100, 121, 144, 169, 196, 225, 256, 289, 324, 361)"
      ]
     },
     "execution_count": 8,
     "metadata": {},
     "output_type": "execute_result"
    }
   ],
   "source": [
    "tuple(s**2 for s in range(10,20))"
   ]
  },
  {
   "cell_type": "code",
   "execution_count": 9,
   "id": "806e1b76-8480-4cf5-8df8-a7bd417a82a4",
   "metadata": {},
   "outputs": [
    {
     "data": {
      "text/plain": [
       "[12, 15, 18, 21, 24, 27, 30, 33, 36, 39, 42, 45, 48]"
      ]
     },
     "execution_count": 9,
     "metadata": {},
     "output_type": "execute_result"
    }
   ],
   "source": [
    "[s for s in range(10,50) if s % 3 == 0]"
   ]
  },
  {
   "cell_type": "markdown",
   "id": "6cd48090-60f8-4ecc-827a-acdcea518b25",
   "metadata": {},
   "source": [
    "![Unpacking](Unpacking.png)"
   ]
  },
  {
   "cell_type": "code",
   "execution_count": 10,
   "id": "4d9062fb-10a4-4338-b652-d243c3878884",
   "metadata": {},
   "outputs": [],
   "source": [
    "x,y,z = 1,2,3"
   ]
  },
  {
   "cell_type": "code",
   "execution_count": 11,
   "id": "e9e9d4fd-dcc0-4699-b1af-c42f844c1446",
   "metadata": {},
   "outputs": [
    {
     "name": "stdout",
     "output_type": "stream",
     "text": [
      "1 2 3\n"
     ]
    }
   ],
   "source": [
    "print(x,y,z)"
   ]
  },
  {
   "cell_type": "code",
   "execution_count": 12,
   "id": "0051011b-09ee-4c3a-8050-4b57295f4256",
   "metadata": {},
   "outputs": [
    {
     "name": "stdout",
     "output_type": "stream",
     "text": [
      "metin (1, 2)\n"
     ]
    }
   ],
   "source": [
    "m, s = [\"metin\", (1,2)]\n",
    "print(m,s)"
   ]
  },
  {
   "cell_type": "code",
   "execution_count": 13,
   "id": "9ceb9f77-3ea1-4b35-85dc-3d825497de05",
   "metadata": {},
   "outputs": [
    {
     "name": "stdout",
     "output_type": "stream",
     "text": [
      "metin 1 2\n"
     ]
    }
   ],
   "source": [
    "m, (s1, s2) = [\"metin\", (1,2)]\n",
    "print(m, s1, s2)"
   ]
  },
  {
   "cell_type": "code",
   "execution_count": 14,
   "id": "505460c4-ebaa-4564-8308-59b76481c9e3",
   "metadata": {},
   "outputs": [
    {
     "name": "stdout",
     "output_type": "stream",
     "text": [
      "0\n",
      "[1, 2, 3, 4, 5, 6, 7, 8]\n",
      "9\n"
     ]
    }
   ],
   "source": [
    "a, *b, c = [0,1,2,3,4,5,6,7,8,9] # list(range(10))\n",
    "\n",
    "# a -> ilk elemanı alır\n",
    "# c -> son elemanı alır\n",
    "# b -> *b şeklinde tanımlandığı için geriye kalan tüm elemanları alır.\n",
    "\n",
    "print(a,b,c, sep=\"\\n\")"
   ]
  },
  {
   "cell_type": "code",
   "execution_count": 15,
   "id": "e72d719f-6063-4477-abca-34b16e05424f",
   "metadata": {},
   "outputs": [
    {
     "name": "stdout",
     "output_type": "stream",
     "text": [
      "0\n",
      "2\n",
      "9\n"
     ]
    }
   ],
   "source": [
    "# elemanları atlamak isteyebiliriz, \n",
    "# tek elemanda _, birden fazla elemanda *_ kullanıyoruz.\n",
    "\n",
    "x,_,y,*_,z = list(range(10)) # [0...9]\n",
    "print(x,y,z, sep=\"\\n\")"
   ]
  },
  {
   "cell_type": "markdown",
   "id": "e518a3e2-40ba-47bb-afd5-2ce9e2a8140d",
   "metadata": {},
   "source": [
    "## *degişken_adi ile elemanları bir yere açabiliriz."
   ]
  },
  {
   "cell_type": "code",
   "execution_count": 16,
   "id": "00f51c4b-d152-47f5-8e12-848962dfd2eb",
   "metadata": {},
   "outputs": [],
   "source": [
    "k= [1,2,3]\n",
    "l=[4,5,6]\n",
    "m=[7,8,9]\n",
    "\n",
    "k.append(l)"
   ]
  },
  {
   "cell_type": "code",
   "execution_count": 17,
   "id": "58cc4e53-f3e5-4eaf-9ebf-484ea87c41cd",
   "metadata": {},
   "outputs": [
    {
     "data": {
      "text/plain": [
       "[1, 2, 3, [4, 5, 6]]"
      ]
     },
     "execution_count": 17,
     "metadata": {},
     "output_type": "execute_result"
    }
   ],
   "source": [
    "k"
   ]
  },
  {
   "cell_type": "code",
   "execution_count": 18,
   "id": "2f2261ce-2a84-4809-870b-af1f61c55cbb",
   "metadata": {},
   "outputs": [],
   "source": [
    "k.extend(l)"
   ]
  },
  {
   "cell_type": "code",
   "execution_count": 19,
   "id": "5f215ca9-156d-42ce-92fc-d66bb305a03c",
   "metadata": {},
   "outputs": [
    {
     "data": {
      "text/plain": [
       "[1, 2, 3, [4, 5, 6], 4, 5, 6]"
      ]
     },
     "execution_count": 19,
     "metadata": {},
     "output_type": "execute_result"
    }
   ],
   "source": [
    "k"
   ]
  },
  {
   "cell_type": "code",
   "execution_count": 21,
   "id": "a49beb4c-2f92-4b50-bb12-f7ea5ad27014",
   "metadata": {},
   "outputs": [
    {
     "ename": "AttributeError",
     "evalue": "'NoneType' object has no attribute 'extend'",
     "output_type": "error",
     "traceback": [
      "\u001b[0;31m---------------------------------------------------------------------------\u001b[0m",
      "\u001b[0;31mAttributeError\u001b[0m                            Traceback (most recent call last)",
      "Cell \u001b[0;32mIn [21], line 1\u001b[0m\n\u001b[0;32m----> 1\u001b[0m \u001b[43mk\u001b[49m\u001b[38;5;241;43m.\u001b[39;49m\u001b[43mextend\u001b[49m\u001b[43m(\u001b[49m\u001b[43ml\u001b[49m\u001b[43m)\u001b[49m\u001b[38;5;241;43m.\u001b[39;49m\u001b[43mextend\u001b[49m(m)\n",
      "\u001b[0;31mAttributeError\u001b[0m: 'NoneType' object has no attribute 'extend'"
     ]
    }
   ],
   "source": [
    "k.extend(l).extend(m) # böyle bir kullanım yok."
   ]
  },
  {
   "cell_type": "code",
   "execution_count": 22,
   "id": "ec9040f4-1bdf-428a-9d84-5b86468f08c3",
   "metadata": {},
   "outputs": [
    {
     "data": {
      "text/plain": [
       "[[1, 2, 3, [4, 5, 6], 4, 5, 6, 4, 5, 6, 4, 5, 6], [4, 5, 6], [7, 8, 9]]"
      ]
     },
     "execution_count": 22,
     "metadata": {},
     "output_type": "execute_result"
    }
   ],
   "source": [
    "[k,l,m]"
   ]
  },
  {
   "cell_type": "code",
   "execution_count": 23,
   "id": "41e279ee-8d80-4b3f-848d-b7be0e8eed91",
   "metadata": {},
   "outputs": [
    {
     "data": {
      "text/plain": [
       "[1, 2, 3, [4, 5, 6], 4, 5, 6, 4, 5, 6, 4, 5, 6, 4, 5, 6, 7, 8, 9]"
      ]
     },
     "execution_count": 23,
     "metadata": {},
     "output_type": "execute_result"
    }
   ],
   "source": [
    "[*k,*l,*m]"
   ]
  },
  {
   "cell_type": "code",
   "execution_count": 25,
   "id": "cdf3c41b-0454-40e9-ba7a-4b5a38246fe8",
   "metadata": {},
   "outputs": [
    {
     "name": "stdout",
     "output_type": "stream",
     "text": [
      "1. Ders 100 \n",
      "2. Ders 20\n",
      "3. Ders 30\n"
     ]
    }
   ],
   "source": [
    "#ör:\n",
    "lst = [100,20,30]\n",
    "\n",
    "# fmt = \"1. Ders {} \\n2. Ders {}\\n3. Ders {}\".format(lst[0], lst[1], lst[2])\n",
    "fmt = \"1. Ders {} \\n2. Ders {}\\n3. Ders {}\".format(*lst)\n",
    "print(fmt)"
   ]
  },
  {
   "cell_type": "markdown",
   "id": "fc1e636d-be92-475a-949d-f61b0baecc30",
   "metadata": {},
   "source": [
    "![Kullanışlı](KullanıslıFonksiyonlar.png)"
   ]
  },
  {
   "cell_type": "markdown",
   "id": "190b727f-4081-4413-aaac-b7fcba8fdea6",
   "metadata": {},
   "source": [
    "### Enumerate"
   ]
  },
  {
   "cell_type": "code",
   "execution_count": 26,
   "id": "ed08beed-e0bc-4ed4-a768-deaa7647b7e3",
   "metadata": {},
   "outputs": [],
   "source": [
    "s = set(\"KALABALIK\")"
   ]
  },
  {
   "cell_type": "code",
   "execution_count": 27,
   "id": "3d0689a3-6132-491d-883a-fe42a9ff25b8",
   "metadata": {},
   "outputs": [
    {
     "data": {
      "text/plain": [
       "{'A', 'B', 'I', 'K', 'L'}"
      ]
     },
     "execution_count": 27,
     "metadata": {},
     "output_type": "execute_result"
    }
   ],
   "source": [
    "s"
   ]
  },
  {
   "cell_type": "code",
   "execution_count": 28,
   "id": "980dcac2-66d3-41ba-a2ad-277a98e708f7",
   "metadata": {},
   "outputs": [
    {
     "data": {
      "text/plain": [
       "[(10, 'A'), (11, 'K'), (12, 'I'), (13, 'B'), (14, 'L')]"
      ]
     },
     "execution_count": 28,
     "metadata": {},
     "output_type": "execute_result"
    }
   ],
   "source": [
    "list(enumerate(s,10))"
   ]
  },
  {
   "cell_type": "markdown",
   "id": "ed2c668b-10ad-4752-8e51-d5083b193e46",
   "metadata": {},
   "source": [
    "### zip"
   ]
  },
  {
   "cell_type": "code",
   "execution_count": 29,
   "id": "14462be1-e6e8-4494-b871-5e0871e07bf7",
   "metadata": {},
   "outputs": [
    {
     "data": {
      "text/plain": [
       "<zip at 0x1060b4a00>"
      ]
     },
     "execution_count": 29,
     "metadata": {},
     "output_type": "execute_result"
    }
   ],
   "source": [
    "gercek_degerler = [1,2,3,4,5]\n",
    "tahmin_degerler = [1.5, 2.7, 3.2, 4.6, 5.1]\n",
    "zip(gercek_degerler, tahmin_degerler)"
   ]
  },
  {
   "cell_type": "code",
   "execution_count": 30,
   "id": "2806247c-42c7-4856-ab45-22484f48224b",
   "metadata": {},
   "outputs": [
    {
     "name": "stdout",
     "output_type": "stream",
     "text": [
      "Gerçek: 1 -> Tahmin: 1.5\n",
      "Gerçek: 2 -> Tahmin: 2.7\n",
      "Gerçek: 3 -> Tahmin: 3.2\n",
      "Gerçek: 4 -> Tahmin: 4.6\n",
      "Gerçek: 5 -> Tahmin: 5.1\n"
     ]
    }
   ],
   "source": [
    "for z in zip(gercek_degerler, tahmin_degerler):\n",
    "    print(\"Gerçek: {} -> Tahmin: {}\".format(*z))"
   ]
  },
  {
   "cell_type": "markdown",
   "id": "51d54e91-c891-4cf4-910e-ffd82d6a9bbf",
   "metadata": {},
   "source": [
    "### map"
   ]
  },
  {
   "cell_type": "code",
   "execution_count": 31,
   "id": "9849dcd6-2470-4739-92cd-8c148c4865fd",
   "metadata": {},
   "outputs": [
    {
     "data": {
      "text/plain": [
       "['123', '22', '55', '77', '99', '112']"
      ]
     },
     "execution_count": 31,
     "metadata": {},
     "output_type": "execute_result"
    }
   ],
   "source": [
    "str_sayilar = \"123;22;55;77;99;112\"\n",
    "\n",
    "lst = str_sayilar.split(\";\")\n",
    "\n",
    "lst"
   ]
  },
  {
   "cell_type": "code",
   "execution_count": 32,
   "id": "31a8a494-81db-4bc0-a1d6-c33ca7e21862",
   "metadata": {},
   "outputs": [
    {
     "data": {
      "text/plain": [
       "[123.0, 22.0, 55.0, 77.0, 99.0, 112.0]"
      ]
     },
     "execution_count": 32,
     "metadata": {},
     "output_type": "execute_result"
    }
   ],
   "source": [
    "[float(s) for s in lst]"
   ]
  },
  {
   "cell_type": "code",
   "execution_count": 33,
   "id": "27e7422a-6c90-4b45-b3b7-76936061a746",
   "metadata": {},
   "outputs": [
    {
     "data": {
      "text/plain": [
       "[123.0, 22.0, 55.0, 77.0, 99.0, 112.0]"
      ]
     },
     "execution_count": 33,
     "metadata": {},
     "output_type": "execute_result"
    }
   ],
   "source": [
    "list(map(float, lst))"
   ]
  },
  {
   "cell_type": "markdown",
   "id": "81cf26e3-6546-47cf-b755-08af046f0929",
   "metadata": {},
   "source": [
    "### filter"
   ]
  },
  {
   "cell_type": "code",
   "execution_count": 35,
   "id": "ec0e561e-d8a8-47bb-9057-acc4e84dbc3f",
   "metadata": {},
   "outputs": [],
   "source": [
    "# ör:\n",
    "lst = [\"metin\", \"ragip@ragipunal.com\", \"metin2\", \"*******\",\"123\"]\n"
   ]
  },
  {
   "cell_type": "code",
   "execution_count": 36,
   "id": "3165e095-f5ad-40a8-b558-0a64ca07b9ac",
   "metadata": {},
   "outputs": [
    {
     "data": {
      "text/plain": [
       "['metin', 'metin2', '123']"
      ]
     },
     "execution_count": 36,
     "metadata": {},
     "output_type": "execute_result"
    }
   ],
   "source": [
    "[l for l in lst if l.isalnum()] # sadece alfabedeki harfler ve sayılar varsa gelsin"
   ]
  },
  {
   "cell_type": "code",
   "execution_count": 37,
   "id": "9a4e6619-64cb-48f7-8205-da806e871f37",
   "metadata": {},
   "outputs": [
    {
     "data": {
      "text/plain": [
       "['metin', 'metin2', '123']"
      ]
     },
     "execution_count": 37,
     "metadata": {},
     "output_type": "execute_result"
    }
   ],
   "source": [
    "list(filter(str.isalnum, lst))"
   ]
  },
  {
   "cell_type": "code",
   "execution_count": 38,
   "id": "922c915b-7cdc-4e54-bdba-283a62401251",
   "metadata": {},
   "outputs": [
    {
     "data": {
      "text/plain": [
       "['ragip@ragipunal.com']"
      ]
     },
     "execution_count": 38,
     "metadata": {},
     "output_type": "execute_result"
    }
   ],
   "source": [
    "list(filter(lambda l:\"@\" in l, lst))"
   ]
  },
  {
   "cell_type": "markdown",
   "id": "3bdf9920-6fc1-42c2-8eb8-93185d2d6dc3",
   "metadata": {},
   "source": [
    "### reduce"
   ]
  },
  {
   "cell_type": "code",
   "execution_count": 40,
   "id": "9bf454e8-4909-4f8f-95dc-5c7f9cf0c6dd",
   "metadata": {},
   "outputs": [
    {
     "name": "stdout",
     "output_type": "stream",
     "text": [
      "17\n"
     ]
    }
   ],
   "source": [
    "from functools import reduce\n",
    "\n",
    "lst = [1,2,5,6,3]\n",
    "\n",
    "print(reduce(lambda a,b: a+b, lst)) # listedeki elemanların toplamı"
   ]
  },
  {
   "cell_type": "code",
   "execution_count": 41,
   "id": "cc0f892c-16b4-4db0-9ce9-96bdabe3ea70",
   "metadata": {},
   "outputs": [
    {
     "name": "stdout",
     "output_type": "stream",
     "text": [
      "6\n"
     ]
    }
   ],
   "source": [
    "print(reduce(lambda a,b: a if a >b else b, lst))"
   ]
  },
  {
   "cell_type": "code",
   "execution_count": 42,
   "id": "c711be66-0c7d-4139-9720-684acce69449",
   "metadata": {},
   "outputs": [
    {
     "data": {
      "text/plain": [
       "6"
      ]
     },
     "execution_count": 42,
     "metadata": {},
     "output_type": "execute_result"
    }
   ],
   "source": [
    "max(lst)"
   ]
  },
  {
   "cell_type": "code",
   "execution_count": null,
   "id": "f0966c34-cd3f-4c98-93f4-8a79a46f45cd",
   "metadata": {},
   "outputs": [],
   "source": []
  }
 ],
 "metadata": {
  "kernelspec": {
   "display_name": "Python 3 (ipykernel)",
   "language": "python",
   "name": "python3"
  },
  "language_info": {
   "codemirror_mode": {
    "name": "ipython",
    "version": 3
   },
   "file_extension": ".py",
   "mimetype": "text/x-python",
   "name": "python",
   "nbconvert_exporter": "python",
   "pygments_lexer": "ipython3",
   "version": "3.10.7"
  }
 },
 "nbformat": 4,
 "nbformat_minor": 5
}
