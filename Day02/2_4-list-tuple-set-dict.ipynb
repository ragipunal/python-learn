{
 "cells": [
  {
   "cell_type": "markdown",
   "id": "42bc70ae-0a2b-4970-82f6-6c8b5d4e9a46",
   "metadata": {},
   "source": [
    "## Container Tipler Özel\n",
    "\n",
    "![ListTuple.png](ListTuple.png)"
   ]
  },
  {
   "cell_type": "markdown",
   "id": "c0faefae-82ca-485e-b63f-dbfe75ae3420",
   "metadata": {},
   "source": [
    "### List"
   ]
  },
  {
   "cell_type": "code",
   "execution_count": 4,
   "id": "3e9fd743-72d0-4cb0-aabf-41470dbe6848",
   "metadata": {},
   "outputs": [
    {
     "data": {
      "text/plain": [
       "[10, 11, 12, 13, 14, 15, 16, 17, 18, 19]"
      ]
     },
     "execution_count": 4,
     "metadata": {},
     "output_type": "execute_result"
    }
   ],
   "source": [
    "[]\n",
    "list()\n",
    "\n",
    "list(\"merhaba\")\n",
    "\n",
    "#iterasyon yapılabilecek nesneleri list tipine çevirebiliriz.\n",
    "list(range(10,20))"
   ]
  },
  {
   "cell_type": "markdown",
   "id": "4d64e5f8-23a9-43ac-80dc-1c341c9738f0",
   "metadata": {},
   "source": [
    "### Bazı fonksyionlar"
   ]
  },
  {
   "cell_type": "code",
   "execution_count": 5,
   "id": "709e3542-c6d8-4620-89b4-8748f1b4f0b7",
   "metadata": {},
   "outputs": [
    {
     "data": {
      "text/plain": [
       "6"
      ]
     },
     "execution_count": 5,
     "metadata": {},
     "output_type": "execute_result"
    }
   ],
   "source": [
    "sayilar = [191,2,2,21,1,3]\n",
    "\n",
    "len(sayilar) # eleman sayısını elde edelim."
   ]
  },
  {
   "cell_type": "code",
   "execution_count": 6,
   "id": "e0906ed0-7d69-427c-91df-fffeda099a1c",
   "metadata": {},
   "outputs": [
    {
     "data": {
      "text/plain": [
       "220"
      ]
     },
     "execution_count": 6,
     "metadata": {},
     "output_type": "execute_result"
    }
   ],
   "source": [
    "sum(sayilar)"
   ]
  },
  {
   "cell_type": "code",
   "execution_count": 7,
   "id": "844036e6-c4df-4227-992a-bd6b1ae4b7f4",
   "metadata": {},
   "outputs": [
    {
     "data": {
      "text/plain": [
       "1"
      ]
     },
     "execution_count": 7,
     "metadata": {},
     "output_type": "execute_result"
    }
   ],
   "source": [
    "min(sayilar)"
   ]
  },
  {
   "cell_type": "code",
   "execution_count": 8,
   "id": "e76c0afc-c184-4c96-90fe-e020ecd1a401",
   "metadata": {},
   "outputs": [
    {
     "data": {
      "text/plain": [
       "191"
      ]
     },
     "execution_count": 8,
     "metadata": {},
     "output_type": "execute_result"
    }
   ],
   "source": [
    "max(sayilar)"
   ]
  },
  {
   "cell_type": "code",
   "execution_count": 10,
   "id": "9805f7ae-3b50-4f43-8c21-941966e4a88a",
   "metadata": {},
   "outputs": [
    {
     "data": {
      "text/plain": [
       "1"
      ]
     },
     "execution_count": 10,
     "metadata": {},
     "output_type": "execute_result"
    }
   ],
   "source": [
    "sayilar.count(3)"
   ]
  },
  {
   "cell_type": "code",
   "execution_count": 11,
   "id": "7674478b-b61e-45f7-93df-24f8e1797023",
   "metadata": {},
   "outputs": [
    {
     "data": {
      "text/plain": [
       "3"
      ]
     },
     "execution_count": 11,
     "metadata": {},
     "output_type": "execute_result"
    }
   ],
   "source": [
    "sayilar.index(21)"
   ]
  },
  {
   "cell_type": "code",
   "execution_count": 12,
   "id": "f5c7169f-b8d9-440b-b325-7b580cffc233",
   "metadata": {},
   "outputs": [
    {
     "data": {
      "text/plain": [
       "21"
      ]
     },
     "execution_count": 12,
     "metadata": {},
     "output_type": "execute_result"
    }
   ],
   "source": [
    "sayilar[3]"
   ]
  },
  {
   "cell_type": "code",
   "execution_count": 13,
   "id": "3744a3e3-5c91-4069-8b6d-cdf7d798c73f",
   "metadata": {},
   "outputs": [
    {
     "data": {
      "text/plain": [
       "21"
      ]
     },
     "execution_count": 13,
     "metadata": {},
     "output_type": "execute_result"
    }
   ],
   "source": [
    "sayilar.__getitem__(3)"
   ]
  },
  {
   "cell_type": "code",
   "execution_count": 14,
   "id": "da267231-f0c4-4f48-96ac-030d39aeec55",
   "metadata": {},
   "outputs": [
    {
     "data": {
      "text/plain": [
       "True"
      ]
     },
     "execution_count": 14,
     "metadata": {},
     "output_type": "execute_result"
    }
   ],
   "source": [
    "sayilar.__contains__(21) # 21 in sayilar üyesimi?"
   ]
  },
  {
   "cell_type": "code",
   "execution_count": 15,
   "id": "d78173cd-aa3f-4f87-9e24-7e82b84c2dba",
   "metadata": {},
   "outputs": [],
   "source": [
    "x = [1,2,3,4]\n",
    "\n",
    "x.append(99)"
   ]
  },
  {
   "cell_type": "code",
   "execution_count": 16,
   "id": "5e8bc139-0691-47af-b944-29960f45c914",
   "metadata": {},
   "outputs": [],
   "source": [
    "x.append([2000,2001,2003])"
   ]
  },
  {
   "cell_type": "code",
   "execution_count": 18,
   "id": "8f385519-4aed-4665-ade7-5338c7f88b4b",
   "metadata": {},
   "outputs": [],
   "source": [
    "x.extend([2000,2001,2003])"
   ]
  },
  {
   "cell_type": "code",
   "execution_count": 20,
   "id": "22783d01-0378-40b0-bb03-4a41ca5bca3e",
   "metadata": {},
   "outputs": [],
   "source": [
    "x+=[2004,2005]"
   ]
  },
  {
   "cell_type": "code",
   "execution_count": 22,
   "id": "4556680a-fe01-4797-b5bf-18c1ad17abdb",
   "metadata": {},
   "outputs": [
    {
     "data": {
      "text/plain": [
       "[1, 2, 3, 4, 99, [2000, 2001, 2003], 2000, 2001, 2003, 2004, 2005]"
      ]
     },
     "execution_count": 22,
     "metadata": {},
     "output_type": "execute_result"
    }
   ],
   "source": [
    "x"
   ]
  },
  {
   "cell_type": "code",
   "execution_count": 23,
   "id": "e5fa8d33-321c-44f2-8d35-9c09b57d3fb5",
   "metadata": {},
   "outputs": [],
   "source": [
    "x.remove(99)"
   ]
  },
  {
   "cell_type": "code",
   "execution_count": 24,
   "id": "95d2d849-3765-4ec9-af20-ef8e174e03fd",
   "metadata": {},
   "outputs": [
    {
     "data": {
      "text/plain": [
       "[1, 2, 3, 4, [2000, 2001, 2003], 2000, 2001, 2003, 2004, 2005]"
      ]
     },
     "execution_count": 24,
     "metadata": {},
     "output_type": "execute_result"
    }
   ],
   "source": [
    "x"
   ]
  },
  {
   "cell_type": "code",
   "execution_count": 25,
   "id": "f0569718-8c64-4cf8-95a8-27906af6e6b0",
   "metadata": {},
   "outputs": [],
   "source": [
    "x.insert(0, -99) # 0. indexe -99 değerini atayalım"
   ]
  },
  {
   "cell_type": "code",
   "execution_count": 26,
   "id": "b712eaed-27e4-49fc-8dd0-dac55649e673",
   "metadata": {},
   "outputs": [
    {
     "data": {
      "text/plain": [
       "[-99, 1, 2, 3, 4, [2000, 2001, 2003], 2000, 2001, 2003, 2004, 2005]"
      ]
     },
     "execution_count": 26,
     "metadata": {},
     "output_type": "execute_result"
    }
   ],
   "source": [
    "x"
   ]
  },
  {
   "cell_type": "code",
   "execution_count": 27,
   "id": "2ae0e57f-276f-477d-a3b2-af079e2a92db",
   "metadata": {},
   "outputs": [
    {
     "data": {
      "text/plain": [
       "-99"
      ]
     },
     "execution_count": 27,
     "metadata": {},
     "output_type": "execute_result"
    }
   ],
   "source": [
    "x.pop(0) # istenen indexteki elemanı siler"
   ]
  },
  {
   "cell_type": "code",
   "execution_count": 30,
   "id": "d3c7fe22-24e4-4993-afa9-1afa28784703",
   "metadata": {},
   "outputs": [
    {
     "data": {
      "text/plain": [
       "[1, 2, 3, 4, [2000, 2001, 2003], 2000, 2001, 2003, 2004]"
      ]
     },
     "execution_count": 30,
     "metadata": {},
     "output_type": "execute_result"
    }
   ],
   "source": [
    "x"
   ]
  },
  {
   "cell_type": "code",
   "execution_count": 31,
   "id": "d9b10f42-cba2-43b0-aec6-e09f89cfd3ef",
   "metadata": {},
   "outputs": [
    {
     "data": {
      "text/plain": [
       "2004"
      ]
     },
     "execution_count": 31,
     "metadata": {},
     "output_type": "execute_result"
    }
   ],
   "source": [
    "x.pop() # index belirtmez isek sorayla sondaki değerden itibaren siler."
   ]
  },
  {
   "cell_type": "code",
   "execution_count": 32,
   "id": "7805eb1e-d5b5-48f5-be13-9805d98a73a9",
   "metadata": {},
   "outputs": [],
   "source": [
    "del x[0]"
   ]
  },
  {
   "cell_type": "code",
   "execution_count": 33,
   "id": "6e3947d6-d605-4d53-8603-e5d4f5d3d346",
   "metadata": {},
   "outputs": [
    {
     "data": {
      "text/plain": [
       "[2, 3, 4, [2000, 2001, 2003], 2000, 2001, 2003]"
      ]
     },
     "execution_count": 33,
     "metadata": {},
     "output_type": "execute_result"
    }
   ],
   "source": [
    "x"
   ]
  },
  {
   "cell_type": "code",
   "execution_count": 34,
   "id": "894692e3-75c9-40c9-bf9d-4c3ff2d67979",
   "metadata": {},
   "outputs": [],
   "source": [
    "x.clear()"
   ]
  },
  {
   "cell_type": "code",
   "execution_count": 35,
   "id": "e7523ad4-a88b-404f-aad5-942552cfb84d",
   "metadata": {},
   "outputs": [
    {
     "data": {
      "text/plain": [
       "[]"
      ]
     },
     "execution_count": 35,
     "metadata": {},
     "output_type": "execute_result"
    }
   ],
   "source": [
    "x"
   ]
  },
  {
   "cell_type": "markdown",
   "id": "e130ebd8-b7c1-4949-a525-1181d19cf87a",
   "metadata": {},
   "source": [
    "# liste elemanlarına ulaşmak\n",
    "\n",
    "- indexingi slicing\n",
    "- pozitif negatif indexler kullanılabilir, negatif index sondan itibarendir."
   ]
  },
  {
   "cell_type": "code",
   "execution_count": 36,
   "id": "79ca3dab-19e7-424d-af97-3958033fbaf9",
   "metadata": {},
   "outputs": [],
   "source": [
    "db = [\n",
    "    \"Türkiye\",\n",
    "    [\"Ali\",\"Veli\"],\n",
    "    [\"A\"],\n",
    "    [\"Ayşe\", True]\n",
    "]"
   ]
  },
  {
   "cell_type": "code",
   "execution_count": 37,
   "id": "bc08d31c-2937-4d73-b390-a2a320543d10",
   "metadata": {},
   "outputs": [
    {
     "data": {
      "text/plain": [
       "'Türkiye'"
      ]
     },
     "execution_count": 37,
     "metadata": {},
     "output_type": "execute_result"
    }
   ],
   "source": [
    "db[0]"
   ]
  },
  {
   "cell_type": "code",
   "execution_count": 38,
   "id": "0390a9d4-5b72-47ea-a855-6a7728ff6d65",
   "metadata": {},
   "outputs": [
    {
     "data": {
      "text/plain": [
       "['Ali', 'Veli']"
      ]
     },
     "execution_count": 38,
     "metadata": {},
     "output_type": "execute_result"
    }
   ],
   "source": [
    "db[1]"
   ]
  },
  {
   "cell_type": "code",
   "execution_count": 39,
   "id": "b6382710-e31e-4bba-aa98-0c6df755449f",
   "metadata": {},
   "outputs": [
    {
     "data": {
      "text/plain": [
       "'Ali'"
      ]
     },
     "execution_count": 39,
     "metadata": {},
     "output_type": "execute_result"
    }
   ],
   "source": [
    "db[1][0]"
   ]
  },
  {
   "cell_type": "code",
   "execution_count": 40,
   "id": "fefaaafe-57ab-48cd-8560-f3dc570730f5",
   "metadata": {},
   "outputs": [
    {
     "data": {
      "text/plain": [
       "['Ayşe', True]"
      ]
     },
     "execution_count": 40,
     "metadata": {},
     "output_type": "execute_result"
    }
   ],
   "source": [
    " db[-1]"
   ]
  },
  {
   "cell_type": "markdown",
   "id": "e55e0f40-3986-42e4-9cf6-51b7227b3393",
   "metadata": {},
   "source": [
    "# slicing\n",
    "\n",
    "- `db[start:end:step]`\n",
    "- start berlitilmez ise en baştan, stop belirtilmez ise en sona gider, step belirtilmez ise 1 er tanımlanmış sayılır."
   ]
  },
  {
   "cell_type": "code",
   "execution_count": 41,
   "id": "678b4b12-ac63-46e5-8ceb-420a16577865",
   "metadata": {},
   "outputs": [
    {
     "data": {
      "text/plain": [
       "['Türkiye', ['Ali', 'Veli'], ['A'], ['Ayşe', True]]"
      ]
     },
     "execution_count": 41,
     "metadata": {},
     "output_type": "execute_result"
    }
   ],
   "source": [
    "db[::]"
   ]
  },
  {
   "cell_type": "code",
   "execution_count": 42,
   "id": "5f3f2475-dd63-4197-be0d-40efa2a86c3d",
   "metadata": {},
   "outputs": [
    {
     "data": {
      "text/plain": [
       "[['Ali', 'Veli'], ['A'], ['Ayşe', True]]"
      ]
     },
     "execution_count": 42,
     "metadata": {},
     "output_type": "execute_result"
    }
   ],
   "source": [
    "db[1:4]"
   ]
  },
  {
   "cell_type": "code",
   "execution_count": 43,
   "id": "081d693a-eeae-4794-b65f-0519a034ea20",
   "metadata": {},
   "outputs": [
    {
     "data": {
      "text/plain": [
       "[['Ali', 'Veli'], ['Ayşe', True]]"
      ]
     },
     "execution_count": 43,
     "metadata": {},
     "output_type": "execute_result"
    }
   ],
   "source": [
    "db[1:4:2]"
   ]
  },
  {
   "cell_type": "code",
   "execution_count": 44,
   "id": "88e1c2e9-bc5a-455e-a95a-32d88ffefd20",
   "metadata": {},
   "outputs": [
    {
     "data": {
      "text/plain": [
       "'Veli'"
      ]
     },
     "execution_count": 44,
     "metadata": {},
     "output_type": "execute_result"
    }
   ],
   "source": [
    "db[1:4:2][0][1]"
   ]
  },
  {
   "cell_type": "code",
   "execution_count": 45,
   "id": "9b3db57c-1b21-4786-a50f-0bd4db3dddef",
   "metadata": {},
   "outputs": [
    {
     "data": {
      "text/plain": [
       "['Türkiye', ['Ali', 'Veli'], ['A'], ['Fatma', True]]"
      ]
     },
     "execution_count": 45,
     "metadata": {},
     "output_type": "execute_result"
    }
   ],
   "source": [
    "# liste elemanlarını atama yaparak güncelleyebiliriz.\n",
    "\n",
    "db[3][0] = \"Fatma\" # listelerin mutable olduğu içindir.\n",
    "\n",
    "db"
   ]
  },
  {
   "cell_type": "code",
   "execution_count": 46,
   "id": "43641b9a-ef2d-4998-ac97-9a1439d20e63",
   "metadata": {},
   "outputs": [],
   "source": [
    "# örn:\n",
    "# Verilerin sınırsız sayıda çift olanları getiren bir fonk. yazalım.\n",
    "\n",
    "def fnk_sayilar(*sayilar):\n",
    "    lst_cift_sayilar = []\n",
    "    \n",
    "    for s in sayilar:\n",
    "        if s  % 2 == 0:\n",
    "            lst_cift_sayilar.append(s) # listeye eleman ekleme\n",
    "    \n",
    "    return lst_cift_sayilar\n",
    "\n",
    "lst = fnk_sayilar(1,2,3,4,421,2,2,13,32,13,21,32,1)"
   ]
  },
  {
   "cell_type": "code",
   "execution_count": 47,
   "id": "94665cc3-5cdb-41b7-8a6e-fe9f7a0aff87",
   "metadata": {},
   "outputs": [
    {
     "data": {
      "text/plain": [
       "6"
      ]
     },
     "execution_count": 47,
     "metadata": {},
     "output_type": "execute_result"
    }
   ],
   "source": [
    "len(lst)"
   ]
  },
  {
   "cell_type": "code",
   "execution_count": 48,
   "id": "26837949-83be-447c-93b6-ac01c77bf9b8",
   "metadata": {},
   "outputs": [
    {
     "data": {
      "text/plain": [
       "2"
      ]
     },
     "execution_count": 48,
     "metadata": {},
     "output_type": "execute_result"
    }
   ],
   "source": [
    "min(lst)"
   ]
  },
  {
   "cell_type": "code",
   "execution_count": 49,
   "id": "c863f559-d584-43f9-8dcd-1435b1946439",
   "metadata": {},
   "outputs": [
    {
     "data": {
      "text/plain": [
       "32"
      ]
     },
     "execution_count": 49,
     "metadata": {},
     "output_type": "execute_result"
    }
   ],
   "source": [
    "max(lst)"
   ]
  },
  {
   "cell_type": "markdown",
   "id": "2e358aa9-4b42-46cc-89e7-9c73819fac00",
   "metadata": {},
   "source": [
    "## Tuple"
   ]
  },
  {
   "cell_type": "code",
   "execution_count": 50,
   "id": "76437e50-fa86-438d-b22d-8bb712769696",
   "metadata": {},
   "outputs": [
    {
     "data": {
      "text/plain": [
       "('m', 'e', 't', 'i', 'n')"
      ]
     },
     "execution_count": 50,
     "metadata": {},
     "output_type": "execute_result"
    }
   ],
   "source": [
    "# boş tuple\n",
    "()\n",
    "tuple()\n",
    "\n",
    "(1,2,3,\"Metin\")\n",
    "1,2,3,\"Metin\"\n",
    "\n",
    "tuple(\"metin\")"
   ]
  },
  {
   "cell_type": "code",
   "execution_count": 51,
   "id": "3a6aaf16-02a5-43e6-bd3f-2017d2c81909",
   "metadata": {},
   "outputs": [],
   "source": [
    "t = 0, 1, 2, \"metin\", False"
   ]
  },
  {
   "cell_type": "code",
   "execution_count": 52,
   "id": "4af8597e-e82b-4f5c-ad98-ca140d3f4a7c",
   "metadata": {},
   "outputs": [
    {
     "data": {
      "text/plain": [
       "(1, 'metin')"
      ]
     },
     "execution_count": 52,
     "metadata": {},
     "output_type": "execute_result"
    }
   ],
   "source": [
    "t[1:4:2] #listedeki gibi çalışır."
   ]
  },
  {
   "cell_type": "code",
   "execution_count": 53,
   "id": "ddd36c4c-92af-47ca-b3f4-6827513b0e5b",
   "metadata": {},
   "outputs": [
    {
     "data": {
      "text/plain": [
       "['__add__',\n",
       " '__class__',\n",
       " '__class_getitem__',\n",
       " '__contains__',\n",
       " '__delattr__',\n",
       " '__dir__',\n",
       " '__doc__',\n",
       " '__eq__',\n",
       " '__format__',\n",
       " '__ge__',\n",
       " '__getattribute__',\n",
       " '__getitem__',\n",
       " '__getnewargs__',\n",
       " '__gt__',\n",
       " '__hash__',\n",
       " '__init__',\n",
       " '__init_subclass__',\n",
       " '__iter__',\n",
       " '__le__',\n",
       " '__len__',\n",
       " '__lt__',\n",
       " '__mul__',\n",
       " '__ne__',\n",
       " '__new__',\n",
       " '__reduce__',\n",
       " '__reduce_ex__',\n",
       " '__repr__',\n",
       " '__rmul__',\n",
       " '__setattr__',\n",
       " '__sizeof__',\n",
       " '__str__',\n",
       " '__subclasshook__',\n",
       " 'count',\n",
       " 'index']"
      ]
     },
     "execution_count": 53,
     "metadata": {},
     "output_type": "execute_result"
    }
   ],
   "source": [
    "dir(tuple)"
   ]
  },
  {
   "cell_type": "code",
   "execution_count": 54,
   "id": "bb1e5868-55d7-4f8b-a268-77b55f692674",
   "metadata": {},
   "outputs": [
    {
     "ename": "TypeError",
     "evalue": "'tuple' object does not support item assignment",
     "output_type": "error",
     "traceback": [
      "\u001b[0;31m---------------------------------------------------------------------------\u001b[0m",
      "\u001b[0;31mTypeError\u001b[0m                                 Traceback (most recent call last)",
      "Cell \u001b[0;32mIn [54], line 1\u001b[0m\n\u001b[0;32m----> 1\u001b[0m \u001b[43mt\u001b[49m\u001b[43m[\u001b[49m\u001b[38;5;241;43m3\u001b[39;49m\u001b[43m]\u001b[49m \u001b[38;5;241m=\u001b[39m \u001b[38;5;124m\"\u001b[39m\u001b[38;5;124mdeğiştirilemez\u001b[39m\u001b[38;5;124m\"\u001b[39m\n",
      "\u001b[0;31mTypeError\u001b[0m: 'tuple' object does not support item assignment"
     ]
    }
   ],
   "source": [
    "t[3] = \"değiştirilemez\" # tuple immutable elemanları güncellenemez"
   ]
  },
  {
   "cell_type": "markdown",
   "id": "e399d7c2-b203-4c73-98d4-0d8c9487ab2f",
   "metadata": {},
   "source": [
    "![Set ve Dict](SetTuple.png)"
   ]
  },
  {
   "cell_type": "markdown",
   "id": "0c803667-460a-4ce2-a1fa-ae0b951d6c0f",
   "metadata": {},
   "source": [
    "## Set"
   ]
  },
  {
   "cell_type": "code",
   "execution_count": 55,
   "id": "663f15c1-cef6-4590-b271-b0edbf42f2d4",
   "metadata": {},
   "outputs": [
    {
     "data": {
      "text/plain": [
       "{0, 1, 2, 3, 'Metin'}"
      ]
     },
     "execution_count": 55,
     "metadata": {},
     "output_type": "execute_result"
    }
   ],
   "source": [
    "set() # boş set\n",
    "\n",
    "{0,1,2,3,\"Metin\", False, True, \"Metin\"}"
   ]
  },
  {
   "cell_type": "code",
   "execution_count": 56,
   "id": "826472a8-d560-46b6-b9a2-1d70c3aecb61",
   "metadata": {},
   "outputs": [
    {
     "data": {
      "text/plain": [
       "{'A', 'B', 'I', 'K', 'L'}"
      ]
     },
     "execution_count": 56,
     "metadata": {},
     "output_type": "execute_result"
    }
   ],
   "source": [
    "set(\"KALABALIK\")"
   ]
  },
  {
   "cell_type": "code",
   "execution_count": 57,
   "id": "4745cd2b-ae8b-4b3f-bb60-9537f089d9ed",
   "metadata": {},
   "outputs": [],
   "source": [
    "# bazı fonksiyonlar\n",
    "s = {0,1,2,3,\"Metin\"}\n",
    "s.add(100) # olduğu gibi ekler."
   ]
  },
  {
   "cell_type": "code",
   "execution_count": 58,
   "id": "d2080dcc-4064-4188-926c-a459af1a1e7c",
   "metadata": {},
   "outputs": [
    {
     "data": {
      "text/plain": [
       "{0, 1, 100, 2, 3, 'Metin'}"
      ]
     },
     "execution_count": 58,
     "metadata": {},
     "output_type": "execute_result"
    }
   ],
   "source": [
    "s"
   ]
  },
  {
   "cell_type": "code",
   "execution_count": 59,
   "id": "28a54840-fb7e-47f7-9b36-efe8c4b81e3a",
   "metadata": {},
   "outputs": [
    {
     "data": {
      "text/plain": [
       "{-99, 0, 1, 100, 2, 3, 99, 'Metin'}"
      ]
     },
     "execution_count": 59,
     "metadata": {},
     "output_type": "execute_result"
    }
   ],
   "source": [
    "# extend yerine kullanılır\n",
    "s.update([99, -99]) # verileri tek tek ekler\n",
    "s"
   ]
  },
  {
   "cell_type": "markdown",
   "id": "d481b0af-6cff-4a4e-978b-ab808fe1ad79",
   "metadata": {},
   "source": [
    "## matematiksel küme işlemleri"
   ]
  },
  {
   "cell_type": "code",
   "execution_count": 60,
   "id": "e8d255c5-04f8-43b0-9434-f1344c666d5a",
   "metadata": {},
   "outputs": [
    {
     "data": {
      "text/plain": [
       "{1, 2, 3, 4, 5, 6}"
      ]
     },
     "execution_count": 60,
     "metadata": {},
     "output_type": "execute_result"
    }
   ],
   "source": [
    "a = {1,2,3,4}\n",
    "b = {3,4,5,6}\n",
    "\n",
    "#birleşim kümesi\n",
    "a.union(b)\n"
   ]
  },
  {
   "cell_type": "code",
   "execution_count": 61,
   "id": "e0605cef-15d1-457d-bc6f-1e6fc5db8f66",
   "metadata": {},
   "outputs": [
    {
     "data": {
      "text/plain": [
       "{1, 2, 3, 4, 5, 6}"
      ]
     },
     "execution_count": 61,
     "metadata": {},
     "output_type": "execute_result"
    }
   ],
   "source": [
    "a | b"
   ]
  },
  {
   "cell_type": "code",
   "execution_count": 62,
   "id": "388e3258-42ba-4206-905e-0d9b229cd86d",
   "metadata": {},
   "outputs": [
    {
     "data": {
      "text/plain": [
       "{3, 4}"
      ]
     },
     "execution_count": 62,
     "metadata": {},
     "output_type": "execute_result"
    }
   ],
   "source": [
    "# kesişim\n",
    "a.intersection(b)"
   ]
  },
  {
   "cell_type": "code",
   "execution_count": 63,
   "id": "c813c935-2271-4a56-ba3e-9c31e42b47fc",
   "metadata": {},
   "outputs": [
    {
     "data": {
      "text/plain": [
       "{3, 4}"
      ]
     },
     "execution_count": 63,
     "metadata": {},
     "output_type": "execute_result"
    }
   ],
   "source": [
    "a & b"
   ]
  },
  {
   "cell_type": "code",
   "execution_count": 64,
   "id": "385ed8fb-3012-45fc-80c1-95e004a86258",
   "metadata": {},
   "outputs": [
    {
     "data": {
      "text/plain": [
       "{1, 2}"
      ]
     },
     "execution_count": 64,
     "metadata": {},
     "output_type": "execute_result"
    }
   ],
   "source": [
    "# fark kümesi\n",
    "a.difference(b)"
   ]
  },
  {
   "cell_type": "code",
   "execution_count": 65,
   "id": "5087f0d0-d9fa-425c-91f9-c08ca6ae2911",
   "metadata": {},
   "outputs": [
    {
     "data": {
      "text/plain": [
       "{1, 2}"
      ]
     },
     "execution_count": 65,
     "metadata": {},
     "output_type": "execute_result"
    }
   ],
   "source": [
    "a-b"
   ]
  },
  {
   "cell_type": "code",
   "execution_count": 66,
   "id": "4ff785f8-a7f7-40c9-befe-8a1c6cd721e8",
   "metadata": {},
   "outputs": [
    {
     "data": {
      "text/plain": [
       "{5, 6}"
      ]
     },
     "execution_count": 66,
     "metadata": {},
     "output_type": "execute_result"
    }
   ],
   "source": [
    "b-a"
   ]
  },
  {
   "cell_type": "code",
   "execution_count": 67,
   "id": "da1432d2-e5ca-4cce-942d-0bead1a08d7c",
   "metadata": {},
   "outputs": [
    {
     "data": {
      "text/plain": [
       "{3, 4}"
      ]
     },
     "execution_count": 67,
     "metadata": {},
     "output_type": "execute_result"
    }
   ],
   "source": [
    "c = a&b\n",
    "c"
   ]
  },
  {
   "cell_type": "code",
   "execution_count": 71,
   "id": "0e4b106b-c6c2-4b45-a020-586f6af6d7f1",
   "metadata": {},
   "outputs": [
    {
     "data": {
      "text/plain": [
       "True"
      ]
     },
     "execution_count": 71,
     "metadata": {},
     "output_type": "execute_result"
    }
   ],
   "source": [
    "# c, a'nın alt kümesi mi?\n",
    "c.issubset(a)\n",
    "c<= a"
   ]
  },
  {
   "cell_type": "code",
   "execution_count": 72,
   "id": "1434aa8a-7f20-4373-a2e1-a9b67394e7d3",
   "metadata": {},
   "outputs": [
    {
     "data": {
      "text/plain": [
       "False"
      ]
     },
     "execution_count": 72,
     "metadata": {},
     "output_type": "execute_result"
    }
   ],
   "source": [
    "# c, a'nın üst kümesi mi?\n",
    "c.issuperset(a)\n",
    "c >= a"
   ]
  },
  {
   "cell_type": "markdown",
   "id": "546ad02b-eb0d-41db-8088-766684aea049",
   "metadata": {},
   "source": [
    "# Dict"
   ]
  },
  {
   "cell_type": "code",
   "execution_count": 73,
   "id": "f3a218e6-ac37-442a-a424-4c0ab3cae35d",
   "metadata": {},
   "outputs": [
    {
     "data": {
      "text/plain": [
       "{'ad': 'Ali', 'yas': 55}"
      ]
     },
     "execution_count": 73,
     "metadata": {},
     "output_type": "execute_result"
    }
   ],
   "source": [
    "# boş dict\n",
    "{}\n",
    "dict()\n",
    "\n",
    "{\"ad\": \"Ali\", \"yas\": 55}"
   ]
  },
  {
   "cell_type": "code",
   "execution_count": 75,
   "id": "6b63e149-4d1e-407a-8690-c2ed61c91f0a",
   "metadata": {},
   "outputs": [
    {
     "data": {
      "text/plain": [
       "{'ad': 'Ali', 'yas': 55}"
      ]
     },
     "execution_count": 75,
     "metadata": {},
     "output_type": "execute_result"
    }
   ],
   "source": [
    "dict(ad=\"Ali\", yas= 55) # **kwargs sayesinde aynı şeyi elde edebiliriz."
   ]
  },
  {
   "cell_type": "markdown",
   "id": "4655e117-6454-490f-a905-b99279808dd4",
   "metadata": {},
   "source": [
    "## Elemanlara Ulaşmak"
   ]
  },
  {
   "cell_type": "code",
   "execution_count": 78,
   "id": "86c4809b-a42c-4dfa-8dd0-3e8722308fe4",
   "metadata": {},
   "outputs": [
    {
     "data": {
      "text/plain": [
       "{'KimlikNo': '121313',\n",
       " 'Ad': ['Ali', 'Kemal'],\n",
       " 'Soyad': 'Ünal',\n",
       " 'Kardeşler': ('Veli', 'Ayşe', 'Fatma'),\n",
       " 'Aktifmi': True,\n",
       " 'Telefonlar': {'ev': '212-222-22-22', 'iş': ['1234567', '2346566']},\n",
       " 1021: 'SicilNumarası',\n",
       " (2001, 'Maaş'): 54545,\n",
       " (2002, 'Maaş'): 65443}"
      ]
     },
     "execution_count": 78,
     "metadata": {},
     "output_type": "execute_result"
    }
   ],
   "source": [
    "personel = {\n",
    "    \"KimlikNo\": \"121313\",\n",
    "    \"Ad\": [\"Ali\", \"Kemal\"],\n",
    "    \"Soyad\": \"Ünal\",\n",
    "    \"Kardeşler\": (\"Veli\", \"Ayşe\", \"Fatma\"),\n",
    "    \"Aktifmi\": True,\n",
    "    \"Telefonlar\": { \"ev\": \"212-222-22-22\", \"iş\": [\"1234567\", \"2346566\"]},\n",
    "    1021: \"SicilNumarası\",\n",
    "    (2001, \"Maaş\"): 54545,\n",
    "    (2002, \"Maaş\"): 65443\n",
    "}\n",
    "personel"
   ]
  },
  {
   "cell_type": "code",
   "execution_count": 79,
   "id": "afb4be33-6f85-4990-a059-a4fa5df0b634",
   "metadata": {},
   "outputs": [
    {
     "data": {
      "text/plain": [
       "'Ünal'"
      ]
     },
     "execution_count": 79,
     "metadata": {},
     "output_type": "execute_result"
    }
   ],
   "source": [
    "personel[\"Soyad\"]"
   ]
  },
  {
   "cell_type": "code",
   "execution_count": 80,
   "id": "bbf0558b-8e19-4fa7-83d7-e33374861536",
   "metadata": {},
   "outputs": [
    {
     "data": {
      "text/plain": [
       "['Ali', 'Kemal']"
      ]
     },
     "execution_count": 80,
     "metadata": {},
     "output_type": "execute_result"
    }
   ],
   "source": [
    "personel[\"Ad\"]"
   ]
  },
  {
   "cell_type": "code",
   "execution_count": 81,
   "id": "3c9a3f9d-fc0d-4c4f-8a38-d892106faf48",
   "metadata": {},
   "outputs": [
    {
     "data": {
      "text/plain": [
       "'Ali'"
      ]
     },
     "execution_count": 81,
     "metadata": {},
     "output_type": "execute_result"
    }
   ],
   "source": [
    "personel[\"Ad\"][0]"
   ]
  },
  {
   "cell_type": "code",
   "execution_count": 82,
   "id": "c2c632f4-773f-4c23-b951-eaa3aa7f95ed",
   "metadata": {},
   "outputs": [
    {
     "data": {
      "text/plain": [
       "'1234567'"
      ]
     },
     "execution_count": 82,
     "metadata": {},
     "output_type": "execute_result"
    }
   ],
   "source": [
    "personel[\"Telefonlar\"][\"iş\"][0]"
   ]
  },
  {
   "cell_type": "code",
   "execution_count": 83,
   "id": "03fd2456-b009-48f9-b6f9-a487187527a9",
   "metadata": {},
   "outputs": [
    {
     "data": {
      "text/plain": [
       "54545"
      ]
     },
     "execution_count": 83,
     "metadata": {},
     "output_type": "execute_result"
    }
   ],
   "source": [
    "personel[(2001, \"Maaş\")]"
   ]
  },
  {
   "cell_type": "markdown",
   "id": "3716a09d-c4fd-45ea-afbf-6e053d3ce6cc",
   "metadata": {},
   "source": [
    "### Olmayan bir key çağırmak\n",
    "\n",
    "- [] key çağırdığımızda yok ise hata verir\n",
    "- key berliteceni get kullanarak çağırırsak varsa getirir yoksa None döner"
   ]
  },
  {
   "cell_type": "code",
   "execution_count": 84,
   "id": "5b4af8e1-cc56-4a06-b79b-d371a267d454",
   "metadata": {},
   "outputs": [
    {
     "ename": "KeyError",
     "evalue": "'olmayankey'",
     "output_type": "error",
     "traceback": [
      "\u001b[0;31m---------------------------------------------------------------------------\u001b[0m",
      "\u001b[0;31mKeyError\u001b[0m                                  Traceback (most recent call last)",
      "Cell \u001b[0;32mIn [84], line 1\u001b[0m\n\u001b[0;32m----> 1\u001b[0m \u001b[43mpersonel\u001b[49m\u001b[43m[\u001b[49m\u001b[38;5;124;43m\"\u001b[39;49m\u001b[38;5;124;43molmayankey\u001b[39;49m\u001b[38;5;124;43m\"\u001b[39;49m\u001b[43m]\u001b[49m\n",
      "\u001b[0;31mKeyError\u001b[0m: 'olmayankey'"
     ]
    }
   ],
   "source": [
    "personel[\"olmayankey\"]"
   ]
  },
  {
   "cell_type": "code",
   "execution_count": 85,
   "id": "51708b3f-3c12-44dd-9536-63f35e649490",
   "metadata": {},
   "outputs": [
    {
     "data": {
      "text/plain": [
       "NoneType"
      ]
     },
     "execution_count": 85,
     "metadata": {},
     "output_type": "execute_result"
    }
   ],
   "source": [
    "type(personel.get(\"olmayankey\"))"
   ]
  },
  {
   "cell_type": "markdown",
   "id": "7bee271c-4735-4131-918e-81cb09d20e40",
   "metadata": {},
   "source": [
    "### tüm key ve value lar"
   ]
  },
  {
   "cell_type": "code",
   "execution_count": 86,
   "id": "ad1439c6-d0b9-4385-8b7e-de5372974da2",
   "metadata": {},
   "outputs": [
    {
     "data": {
      "text/plain": [
       "dict_keys(['KimlikNo', 'Ad', 'Soyad', 'Kardeşler', 'Aktifmi', 'Telefonlar', 1021, (2001, 'Maaş'), (2002, 'Maaş')])"
      ]
     },
     "execution_count": 86,
     "metadata": {},
     "output_type": "execute_result"
    }
   ],
   "source": [
    "personel.keys() # tüm keyler"
   ]
  },
  {
   "cell_type": "code",
   "execution_count": 87,
   "id": "e51d59d2-e3ac-4134-909c-3fc846ae0b97",
   "metadata": {},
   "outputs": [
    {
     "data": {
      "text/plain": [
       "dict_values(['121313', ['Ali', 'Kemal'], 'Ünal', ('Veli', 'Ayşe', 'Fatma'), True, {'ev': '212-222-22-22', 'iş': ['1234567', '2346566']}, 'SicilNumarası', 54545, 65443])"
      ]
     },
     "execution_count": 87,
     "metadata": {},
     "output_type": "execute_result"
    }
   ],
   "source": [
    "personel.values() # tüm value lar"
   ]
  },
  {
   "cell_type": "code",
   "execution_count": 88,
   "id": "7ba3bbb3-85eb-47cc-b3e7-8c25e8f9059c",
   "metadata": {},
   "outputs": [
    {
     "data": {
      "text/plain": [
       "dict_items([('KimlikNo', '121313'), ('Ad', ['Ali', 'Kemal']), ('Soyad', 'Ünal'), ('Kardeşler', ('Veli', 'Ayşe', 'Fatma')), ('Aktifmi', True), ('Telefonlar', {'ev': '212-222-22-22', 'iş': ['1234567', '2346566']}), (1021, 'SicilNumarası'), ((2001, 'Maaş'), 54545), ((2002, 'Maaş'), 65443)])"
      ]
     },
     "execution_count": 88,
     "metadata": {},
     "output_type": "execute_result"
    }
   ],
   "source": [
    "personel.items() # key ve valueları 2'li halinde gelir. "
   ]
  },
  {
   "cell_type": "code",
   "execution_count": 89,
   "id": "c498cc48-834f-432e-99fd-5fd0c49f7ade",
   "metadata": {},
   "outputs": [
    {
     "name": "stdout",
     "output_type": "stream",
     "text": [
      "Key: KimlikNo -------> value: 121313\n",
      "Key: Ad -------> value: ['Ali', 'Kemal']\n",
      "Key: Soyad -------> value: Ünal\n",
      "Key: Kardeşler -------> value: ('Veli', 'Ayşe', 'Fatma')\n",
      "Key: Aktifmi -------> value: True\n",
      "Key: Telefonlar -------> value: {'ev': '212-222-22-22', 'iş': ['1234567', '2346566']}\n",
      "Key: 1021 -------> value: SicilNumarası\n",
      "Key: (2001, 'Maaş') -------> value: 54545\n",
      "Key: (2002, 'Maaş') -------> value: 65443\n"
     ]
    }
   ],
   "source": [
    "#örn:\n",
    "\n",
    "for k,v in personel.items(): # (key, value) şeklide tuple gelirdi.\n",
    "    print(f\"Key: {k} -------> value: {v}\")\n",
    "    "
   ]
  },
  {
   "cell_type": "code",
   "execution_count": null,
   "id": "1ab40739-528b-4112-80b1-f4448b984a0d",
   "metadata": {},
   "outputs": [],
   "source": []
  }
 ],
 "metadata": {
  "kernelspec": {
   "display_name": "Python 3 (ipykernel)",
   "language": "python",
   "name": "python3"
  },
  "language_info": {
   "codemirror_mode": {
    "name": "ipython",
    "version": 3
   },
   "file_extension": ".py",
   "mimetype": "text/x-python",
   "name": "python",
   "nbconvert_exporter": "python",
   "pygments_lexer": "ipython3",
   "version": "3.10.7"
  }
 },
 "nbformat": 4,
 "nbformat_minor": 5
}
